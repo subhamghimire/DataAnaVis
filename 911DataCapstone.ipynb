{
  "nbformat": 4,
  "nbformat_minor": 0,
  "metadata": {
    "colab": {
      "name": "911DataCapstone.ipynb",
      "provenance": [],
      "authorship_tag": "ABX9TyM4bM6B/azyuMtkoWZELW9l",
      "include_colab_link": true
    },
    "kernelspec": {
      "name": "python3",
      "display_name": "Python 3"
    }
  },
  "cells": [
    {
      "cell_type": "markdown",
      "metadata": {
        "id": "view-in-github",
        "colab_type": "text"
      },
      "source": [
        "<a href=\"https://colab.research.google.com/github/subhamghimire/Machine-Learning/blob/master/911DataCapstone.ipynb\" target=\"_parent\"><img src=\"https://colab.research.google.com/assets/colab-badge.svg\" alt=\"Open In Colab\"/></a>"
      ]
    },
    {
      "cell_type": "code",
      "metadata": {
        "id": "FQf5_wI7JnxB",
        "colab_type": "code",
        "colab": {}
      },
      "source": [
        "import numpy as np\n",
        "import pandas as pd"
      ],
      "execution_count": 0,
      "outputs": []
    },
    {
      "cell_type": "code",
      "metadata": {
        "id": "pSrPIGnSJz9i",
        "colab_type": "code",
        "colab": {}
      },
      "source": [
        "import matplotlib.pyplot as plt\n",
        "import seaborn as sns\n",
        "sns.set_style('whitegrid')"
      ],
      "execution_count": 0,
      "outputs": []
    },
    {
      "cell_type": "code",
      "metadata": {
        "id": "SmUtbVimKLci",
        "colab_type": "code",
        "outputId": "2053117d-6d5a-4b61-9feb-14ee3729d396",
        "colab": {
          "base_uri": "https://localhost:8080/",
          "height": 286
        }
      },
      "source": [
        "#Download Dataset from this link: https://www.kaggle.com/mchirico/montcoalert\n",
        "df = pd.read_csv('911.csv')\n",
        "df.info()"
      ],
      "execution_count": 123,
      "outputs": [
        {
          "output_type": "stream",
          "text": [
            "<class 'pandas.core.frame.DataFrame'>\n",
            "RangeIndex: 630566 entries, 0 to 630565\n",
            "Data columns (total 9 columns):\n",
            " #   Column     Non-Null Count   Dtype  \n",
            "---  ------     --------------   -----  \n",
            " 0   lat        630566 non-null  float64\n",
            " 1   lng        630566 non-null  float64\n",
            " 2   desc       630566 non-null  object \n",
            " 3   zip        553836 non-null  float64\n",
            " 4   title      630566 non-null  object \n",
            " 5   timeStamp  630566 non-null  object \n",
            " 6   twp        630297 non-null  object \n",
            " 7   addr       630566 non-null  object \n",
            " 8   e          630566 non-null  int64  \n",
            "dtypes: float64(3), int64(1), object(5)\n",
            "memory usage: 43.3+ MB\n"
          ],
          "name": "stdout"
        }
      ]
    },
    {
      "cell_type": "code",
      "metadata": {
        "id": "L9QFunkRLZ7b",
        "colab_type": "code",
        "outputId": "02f0c246-e459-421e-fbac-176a3dfc4c92",
        "colab": {
          "base_uri": "https://localhost:8080/",
          "height": 186
        }
      },
      "source": [
        "df.head(3)"
      ],
      "execution_count": 67,
      "outputs": [
        {
          "output_type": "execute_result",
          "data": {
            "text/html": [
              "<div>\n",
              "<style scoped>\n",
              "    .dataframe tbody tr th:only-of-type {\n",
              "        vertical-align: middle;\n",
              "    }\n",
              "\n",
              "    .dataframe tbody tr th {\n",
              "        vertical-align: top;\n",
              "    }\n",
              "\n",
              "    .dataframe thead th {\n",
              "        text-align: right;\n",
              "    }\n",
              "</style>\n",
              "<table border=\"1\" class=\"dataframe\">\n",
              "  <thead>\n",
              "    <tr style=\"text-align: right;\">\n",
              "      <th></th>\n",
              "      <th>lat</th>\n",
              "      <th>lng</th>\n",
              "      <th>desc</th>\n",
              "      <th>zip</th>\n",
              "      <th>title</th>\n",
              "      <th>timeStamp</th>\n",
              "      <th>twp</th>\n",
              "      <th>addr</th>\n",
              "      <th>e</th>\n",
              "    </tr>\n",
              "  </thead>\n",
              "  <tbody>\n",
              "    <tr>\n",
              "      <th>0</th>\n",
              "      <td>40.297876</td>\n",
              "      <td>-75.581294</td>\n",
              "      <td>REINDEER CT &amp; DEAD END;  NEW HANOVER; Station ...</td>\n",
              "      <td>19525.0</td>\n",
              "      <td>EMS: BACK PAINS/INJURY</td>\n",
              "      <td>2015-12-10 17:10:52</td>\n",
              "      <td>NEW HANOVER</td>\n",
              "      <td>REINDEER CT &amp; DEAD END</td>\n",
              "      <td>1</td>\n",
              "    </tr>\n",
              "    <tr>\n",
              "      <th>1</th>\n",
              "      <td>40.258061</td>\n",
              "      <td>-75.264680</td>\n",
              "      <td>BRIAR PATH &amp; WHITEMARSH LN;  HATFIELD TOWNSHIP...</td>\n",
              "      <td>19446.0</td>\n",
              "      <td>EMS: DIABETIC EMERGENCY</td>\n",
              "      <td>2015-12-10 17:29:21</td>\n",
              "      <td>HATFIELD TOWNSHIP</td>\n",
              "      <td>BRIAR PATH &amp; WHITEMARSH LN</td>\n",
              "      <td>1</td>\n",
              "    </tr>\n",
              "    <tr>\n",
              "      <th>2</th>\n",
              "      <td>40.121182</td>\n",
              "      <td>-75.351975</td>\n",
              "      <td>HAWS AVE; NORRISTOWN; 2015-12-10 @ 14:39:21-St...</td>\n",
              "      <td>19401.0</td>\n",
              "      <td>Fire: GAS-ODOR/LEAK</td>\n",
              "      <td>2015-12-10 14:39:21</td>\n",
              "      <td>NORRISTOWN</td>\n",
              "      <td>HAWS AVE</td>\n",
              "      <td>1</td>\n",
              "    </tr>\n",
              "  </tbody>\n",
              "</table>\n",
              "</div>"
            ],
            "text/plain": [
              "         lat        lng  ...                        addr  e\n",
              "0  40.297876 -75.581294  ...      REINDEER CT & DEAD END  1\n",
              "1  40.258061 -75.264680  ...  BRIAR PATH & WHITEMARSH LN  1\n",
              "2  40.121182 -75.351975  ...                    HAWS AVE  1\n",
              "\n",
              "[3 rows x 9 columns]"
            ]
          },
          "metadata": {
            "tags": []
          },
          "execution_count": 67
        }
      ]
    },
    {
      "cell_type": "code",
      "metadata": {
        "id": "Bww98V6nLhFh",
        "colab_type": "code",
        "outputId": "4abf65e3-8e40-4d37-fbde-a813cafa9b9a",
        "colab": {
          "base_uri": "https://localhost:8080/",
          "height": 118
        }
      },
      "source": [
        "df['zip'].value_counts().head(5)"
      ],
      "execution_count": 68,
      "outputs": [
        {
          "output_type": "execute_result",
          "data": {
            "text/plain": [
              "19401.0    43001\n",
              "19464.0    41524\n",
              "19403.0    33048\n",
              "19446.0    30612\n",
              "19406.0    21385\n",
              "Name: zip, dtype: int64"
            ]
          },
          "metadata": {
            "tags": []
          },
          "execution_count": 68
        }
      ]
    },
    {
      "cell_type": "code",
      "metadata": {
        "id": "eucxvz3BLpve",
        "colab_type": "code",
        "colab": {
          "base_uri": "https://localhost:8080/",
          "height": 118
        },
        "outputId": "230c928f-8bb8-42b7-b239-a442d6b38b25"
      },
      "source": [
        "df['twp'].value_counts().head(5)"
      ],
      "execution_count": 69,
      "outputs": [
        {
          "output_type": "execute_result",
          "data": {
            "text/plain": [
              "LOWER MERION    53016\n",
              "ABINGTON        38005\n",
              "NORRISTOWN      35426\n",
              "UPPER MERION    34422\n",
              "CHELTENHAM      29075\n",
              "Name: twp, dtype: int64"
            ]
          },
          "metadata": {
            "tags": []
          },
          "execution_count": 69
        }
      ]
    },
    {
      "cell_type": "code",
      "metadata": {
        "id": "EuRYE2pIMzsK",
        "colab_type": "code",
        "colab": {
          "base_uri": "https://localhost:8080/",
          "height": 34
        },
        "outputId": "cae48f1f-f950-4aad-dc32-19a946415cdf"
      },
      "source": [
        "df['title'].nunique()"
      ],
      "execution_count": 70,
      "outputs": [
        {
          "output_type": "execute_result",
          "data": {
            "text/plain": [
              "147"
            ]
          },
          "metadata": {
            "tags": []
          },
          "execution_count": 70
        }
      ]
    },
    {
      "cell_type": "code",
      "metadata": {
        "id": "N3nOwnxwM6iN",
        "colab_type": "code",
        "colab": {}
      },
      "source": [
        "df['Reason'] = df['title'].apply(lambda x: x.split(':')[0])"
      ],
      "execution_count": 0,
      "outputs": []
    },
    {
      "cell_type": "code",
      "metadata": {
        "id": "CKbTTEnENx96",
        "colab_type": "code",
        "colab": {
          "base_uri": "https://localhost:8080/",
          "height": 218
        },
        "outputId": "5f9eea56-ef1a-4381-8631-6507756ffe2d"
      },
      "source": [
        "df['Reason']"
      ],
      "execution_count": 98,
      "outputs": [
        {
          "output_type": "execute_result",
          "data": {
            "text/plain": [
              "0          EMS\n",
              "1          EMS\n",
              "2         Fire\n",
              "3          EMS\n",
              "4          EMS\n",
              "          ... \n",
              "630561     EMS\n",
              "630562     EMS\n",
              "630563     EMS\n",
              "630564     EMS\n",
              "630565    Fire\n",
              "Name: Reason, Length: 630566, dtype: object"
            ]
          },
          "metadata": {
            "tags": []
          },
          "execution_count": 98
        }
      ]
    },
    {
      "cell_type": "code",
      "metadata": {
        "id": "OiwDpGZFOyGk",
        "colab_type": "code",
        "colab": {
          "base_uri": "https://localhost:8080/",
          "height": 84
        },
        "outputId": "220d41d6-6a4b-49d9-9e2a-b68f8bb0067b"
      },
      "source": [
        "df['Reason'].value_counts()"
      ],
      "execution_count": 99,
      "outputs": [
        {
          "output_type": "execute_result",
          "data": {
            "text/plain": [
              "EMS        314860\n",
              "Traffic    221244\n",
              "Fire        94462\n",
              "Name: Reason, dtype: int64"
            ]
          },
          "metadata": {
            "tags": []
          },
          "execution_count": 99
        }
      ]
    },
    {
      "cell_type": "code",
      "metadata": {
        "id": "tMUW9chpP8VJ",
        "colab_type": "code",
        "colab": {
          "base_uri": "https://localhost:8080/",
          "height": 296
        },
        "outputId": "c56c67b1-bd04-4314-dad3-d645f947fc36"
      },
      "source": [
        "sns.countplot(x='Reason',data=df)"
      ],
      "execution_count": 100,
      "outputs": [
        {
          "output_type": "execute_result",
          "data": {
            "text/plain": [
              "<matplotlib.axes._subplots.AxesSubplot at 0x7f6ab500b588>"
            ]
          },
          "metadata": {
            "tags": []
          },
          "execution_count": 100
        },
        {
          "output_type": "display_data",
          "data": {
            "image/png": "[encoded data removed]",
            "text/plain": [
              "<Figure size 432x288 with 1 Axes>"
            ]
          },
          "metadata": {
            "tags": []
          }
        }
      ]
    },
    {
      "cell_type": "code",
      "metadata": {
        "id": "dB0R9PwzQHyG",
        "colab_type": "code",
        "colab": {
          "base_uri": "https://localhost:8080/",
          "height": 34
        },
        "outputId": "2298aa24-ff8a-4589-8904-45f21c58f9cb"
      },
      "source": [
        "type(df['timeStamp'].iloc[0])"
      ],
      "execution_count": 101,
      "outputs": [
        {
          "output_type": "execute_result",
          "data": {
            "text/plain": [
              "pandas._libs.tslibs.timestamps.Timestamp"
            ]
          },
          "metadata": {
            "tags": []
          },
          "execution_count": 101
        }
      ]
    },
    {
      "cell_type": "code",
      "metadata": {
        "id": "dUbQ-X99QPsO",
        "colab_type": "code",
        "colab": {}
      },
      "source": [
        "df['timeStamp'] = pd.to_datetime(df['timeStamp'])"
      ],
      "execution_count": 0,
      "outputs": []
    },
    {
      "cell_type": "code",
      "metadata": {
        "id": "fvEUoZgWQZyB",
        "colab_type": "code",
        "colab": {}
      },
      "source": [
        "time = df['timeStamp'].iloc[0]"
      ],
      "execution_count": 0,
      "outputs": []
    },
    {
      "cell_type": "code",
      "metadata": {
        "id": "C4Ia0MXzQcpC",
        "colab_type": "code",
        "colab": {
          "base_uri": "https://localhost:8080/",
          "height": 34
        },
        "outputId": "4daef4b9-f9bf-435a-ee82-cad5a4d83b91"
      },
      "source": [
        "time"
      ],
      "execution_count": 104,
      "outputs": [
        {
          "output_type": "execute_result",
          "data": {
            "text/plain": [
              "Timestamp('2015-12-10 17:10:52')"
            ]
          },
          "metadata": {
            "tags": []
          },
          "execution_count": 104
        }
      ]
    },
    {
      "cell_type": "code",
      "metadata": {
        "id": "PQdDlYpWQd1k",
        "colab_type": "code",
        "colab": {}
      },
      "source": [
        "df['Hour'] = df['timeStamp'].apply(lambda time: time.hour)\n",
        "df['Month'] = df['timeStamp'].apply(lambda time: time.month)\n",
        "df['Day of Week'] = df['timeStamp'].apply(lambda time: time.dayofweek)"
      ],
      "execution_count": 0,
      "outputs": []
    },
    {
      "cell_type": "code",
      "metadata": {
        "id": "_6-U-BnsQkAX",
        "colab_type": "code",
        "colab": {}
      },
      "source": [
        "dmap = {0:'Mon',1:'Tue',2:'Wed',3:'Thu',4:'Fri',5:'Sat',6:'Sun'}"
      ],
      "execution_count": 0,
      "outputs": []
    },
    {
      "cell_type": "code",
      "metadata": {
        "id": "OMbXwz8RQmYS",
        "colab_type": "code",
        "colab": {}
      },
      "source": [
        "df['Day of Week'] = df['Day of Week'].map(dmap)"
      ],
      "execution_count": 0,
      "outputs": []
    },
    {
      "cell_type": "code",
      "metadata": {
        "id": "5OqpyI7ZQpO3",
        "colab_type": "code",
        "colab": {
          "base_uri": "https://localhost:8080/",
          "height": 296
        },
        "outputId": "a76a3784-d0cd-46fc-fe8a-63c0c75f4595"
      },
      "source": [
        "sns.countplot(x='Day of Week',data=df,hue='Reason',palette='viridis')\n",
        "\n",
        "# To relocate the legend\n",
        "plt.legend(bbox_to_anchor=(1.05, 1), loc=2, borderaxespad=0.)"
      ],
      "execution_count": 108,
      "outputs": [
        {
          "output_type": "execute_result",
          "data": {
            "text/plain": [
              "<matplotlib.legend.Legend at 0x7f6ab500bf98>"
            ]
          },
          "metadata": {
            "tags": []
          },
          "execution_count": 108
        },
        {
          "output_type": "display_data",
          "data": {
            "image/png": "[encoded data removed]",
            "text/plain": [
              "<Figure size 432x288 with 1 Axes>"
            ]
          },
          "metadata": {
            "tags": []
          }
        }
      ]
    },
    {
      "cell_type": "code",
      "metadata": {
        "id": "1nQkiZTvQsxY",
        "colab_type": "code",
        "colab": {
          "base_uri": "https://localhost:8080/",
          "height": 296
        },
        "outputId": "c6019f74-744f-48fc-ab6e-ef9af6810c27"
      },
      "source": [
        "sns.countplot(x='Month',data=df,hue='Reason',palette='viridis')\n",
        "\n",
        "# To relocate the legend\n",
        "plt.legend(bbox_to_anchor=(1.05, 1), loc=2, borderaxespad=0.)"
      ],
      "execution_count": 109,
      "outputs": [
        {
          "output_type": "execute_result",
          "data": {
            "text/plain": [
              "<matplotlib.legend.Legend at 0x7f6ab75324e0>"
            ]
          },
          "metadata": {
            "tags": []
          },
          "execution_count": 109
        },
        {
          "output_type": "display_data",
          "data": {
            "image/png": "[encoded data removed]",
            "text/plain": [
              "<Figure size 432x288 with 1 Axes>"
            ]
          },
          "metadata": {
            "tags": []
          }
        }
      ]
    },
    {
      "cell_type": "code",
      "metadata": {
        "id": "AO2B8t4bQyky",
        "colab_type": "code",
        "colab": {
          "base_uri": "https://localhost:8080/",
          "height": 225
        },
        "outputId": "98aa69f3-cfd3-4b9a-e2ac-cccf79bb713d"
      },
      "source": [
        "byMonth = df.groupby('Month').count()\n",
        "byMonth.head()"
      ],
      "execution_count": 110,
      "outputs": [
        {
          "output_type": "execute_result",
          "data": {
            "text/html": [
              "<div>\n",
              "<style scoped>\n",
              "    .dataframe tbody tr th:only-of-type {\n",
              "        vertical-align: middle;\n",
              "    }\n",
              "\n",
              "    .dataframe tbody tr th {\n",
              "        vertical-align: top;\n",
              "    }\n",
              "\n",
              "    .dataframe thead th {\n",
              "        text-align: right;\n",
              "    }\n",
              "</style>\n",
              "<table border=\"1\" class=\"dataframe\">\n",
              "  <thead>\n",
              "    <tr style=\"text-align: right;\">\n",
              "      <th></th>\n",
              "      <th>lat</th>\n",
              "      <th>lng</th>\n",
              "      <th>desc</th>\n",
              "      <th>zip</th>\n",
              "      <th>title</th>\n",
              "      <th>timeStamp</th>\n",
              "      <th>twp</th>\n",
              "      <th>addr</th>\n",
              "      <th>e</th>\n",
              "      <th>Reason</th>\n",
              "      <th>Hour</th>\n",
              "      <th>Day of Week</th>\n",
              "      <th>Date</th>\n",
              "    </tr>\n",
              "    <tr>\n",
              "      <th>Month</th>\n",
              "      <th></th>\n",
              "      <th></th>\n",
              "      <th></th>\n",
              "      <th></th>\n",
              "      <th></th>\n",
              "      <th></th>\n",
              "      <th></th>\n",
              "      <th></th>\n",
              "      <th></th>\n",
              "      <th></th>\n",
              "      <th></th>\n",
              "      <th></th>\n",
              "      <th></th>\n",
              "    </tr>\n",
              "  </thead>\n",
              "  <tbody>\n",
              "    <tr>\n",
              "      <th>1</th>\n",
              "      <td>62336</td>\n",
              "      <td>62336</td>\n",
              "      <td>62336</td>\n",
              "      <td>55294</td>\n",
              "      <td>62336</td>\n",
              "      <td>62336</td>\n",
              "      <td>62312</td>\n",
              "      <td>62336</td>\n",
              "      <td>62336</td>\n",
              "      <td>62336</td>\n",
              "      <td>62336</td>\n",
              "      <td>62336</td>\n",
              "      <td>62336</td>\n",
              "    </tr>\n",
              "    <tr>\n",
              "      <th>2</th>\n",
              "      <td>55427</td>\n",
              "      <td>55427</td>\n",
              "      <td>55427</td>\n",
              "      <td>48922</td>\n",
              "      <td>55427</td>\n",
              "      <td>55427</td>\n",
              "      <td>55405</td>\n",
              "      <td>55427</td>\n",
              "      <td>55427</td>\n",
              "      <td>55427</td>\n",
              "      <td>55427</td>\n",
              "      <td>55427</td>\n",
              "      <td>55427</td>\n",
              "    </tr>\n",
              "    <tr>\n",
              "      <th>3</th>\n",
              "      <td>60027</td>\n",
              "      <td>60027</td>\n",
              "      <td>60027</td>\n",
              "      <td>53252</td>\n",
              "      <td>60027</td>\n",
              "      <td>60027</td>\n",
              "      <td>60001</td>\n",
              "      <td>60027</td>\n",
              "      <td>60027</td>\n",
              "      <td>60027</td>\n",
              "      <td>60027</td>\n",
              "      <td>60027</td>\n",
              "      <td>60027</td>\n",
              "    </tr>\n",
              "    <tr>\n",
              "      <th>4</th>\n",
              "      <td>51559</td>\n",
              "      <td>51559</td>\n",
              "      <td>51559</td>\n",
              "      <td>45431</td>\n",
              "      <td>51559</td>\n",
              "      <td>51559</td>\n",
              "      <td>51545</td>\n",
              "      <td>51559</td>\n",
              "      <td>51559</td>\n",
              "      <td>51559</td>\n",
              "      <td>51559</td>\n",
              "      <td>51559</td>\n",
              "      <td>51559</td>\n",
              "    </tr>\n",
              "    <tr>\n",
              "      <th>5</th>\n",
              "      <td>48467</td>\n",
              "      <td>48467</td>\n",
              "      <td>48467</td>\n",
              "      <td>42257</td>\n",
              "      <td>48467</td>\n",
              "      <td>48467</td>\n",
              "      <td>48443</td>\n",
              "      <td>48467</td>\n",
              "      <td>48467</td>\n",
              "      <td>48467</td>\n",
              "      <td>48467</td>\n",
              "      <td>48467</td>\n",
              "      <td>48467</td>\n",
              "    </tr>\n",
              "  </tbody>\n",
              "</table>\n",
              "</div>"
            ],
            "text/plain": [
              "         lat    lng   desc    zip  ...  Reason   Hour  Day of Week   Date\n",
              "Month                              ...                                   \n",
              "1      62336  62336  62336  55294  ...   62336  62336        62336  62336\n",
              "2      55427  55427  55427  48922  ...   55427  55427        55427  55427\n",
              "3      60027  60027  60027  53252  ...   60027  60027        60027  60027\n",
              "4      51559  51559  51559  45431  ...   51559  51559        51559  51559\n",
              "5      48467  48467  48467  42257  ...   48467  48467        48467  48467\n",
              "\n",
              "[5 rows x 13 columns]"
            ]
          },
          "metadata": {
            "tags": []
          },
          "execution_count": 110
        }
      ]
    },
    {
      "cell_type": "code",
      "metadata": {
        "id": "YMDkIVtfQ8YR",
        "colab_type": "code",
        "colab": {
          "base_uri": "https://localhost:8080/",
          "height": 296
        },
        "outputId": "6c23d055-8a47-44b4-dc52-55b75099eace"
      },
      "source": [
        "# Could be any column\n",
        "byMonth['twp'].plot()"
      ],
      "execution_count": 111,
      "outputs": [
        {
          "output_type": "execute_result",
          "data": {
            "text/plain": [
              "<matplotlib.axes._subplots.AxesSubplot at 0x7f6ac64ddb70>"
            ]
          },
          "metadata": {
            "tags": []
          },
          "execution_count": 111
        },
        {
          "output_type": "display_data",
          "data": {
            "image/png": "[encoded data removed]",
            "text/plain": [
              "<Figure size 432x288 with 1 Axes>"
            ]
          },
          "metadata": {
            "tags": []
          }
        }
      ]
    },
    {
      "cell_type": "code",
      "metadata": {
        "id": "FqWOi2-jRBxi",
        "colab_type": "code",
        "colab": {
          "base_uri": "https://localhost:8080/",
          "height": 386
        },
        "outputId": "34486c14-c9e1-4dfa-caa7-ab5e4af81c6a"
      },
      "source": [
        "sns.lmplot(x='Month',y='twp',data=byMonth.reset_index())"
      ],
      "execution_count": 112,
      "outputs": [
        {
          "output_type": "execute_result",
          "data": {
            "text/plain": [
              "<seaborn.axisgrid.FacetGrid at 0x7f6ab4f66160>"
            ]
          },
          "metadata": {
            "tags": []
          },
          "execution_count": 112
        },
        {
          "output_type": "display_data",
          "data": {
            "image/png": "[encoded data removed]",
            "text/plain": [
              "<Figure size 360x360 with 1 Axes>"
            ]
          },
          "metadata": {
            "tags": []
          }
        }
      ]
    },
    {
      "cell_type": "code",
      "metadata": {
        "id": "U3HqOnQJRG9S",
        "colab_type": "code",
        "colab": {}
      },
      "source": [
        "df['Date']=df['timeStamp'].apply(lambda t: t.date())"
      ],
      "execution_count": 0,
      "outputs": []
    },
    {
      "cell_type": "code",
      "metadata": {
        "id": "_Vo5h5pIRN_D",
        "colab_type": "code",
        "colab": {
          "base_uri": "https://localhost:8080/",
          "height": 297
        },
        "outputId": "1eaa1aab-0133-4e02-de8e-17156a07c15f"
      },
      "source": [
        "df.groupby('Date').count()['twp'].plot()\n",
        "plt.tight_layout()"
      ],
      "execution_count": 114,
      "outputs": [
        {
          "output_type": "display_data",
          "data": {
            "image/png": "[encoded data removed]",
            "text/plain": [
              "<Figure size 432x288 with 1 Axes>"
            ]
          },
          "metadata": {
            "tags": []
          }
        }
      ]
    },
    {
      "cell_type": "code",
      "metadata": {
        "id": "yVFQElG6RUE_",
        "colab_type": "code",
        "colab": {
          "base_uri": "https://localhost:8080/",
          "height": 297
        },
        "outputId": "9b5b8337-fd8a-4189-a29a-97b93b965262"
      },
      "source": [
        "df[df['Reason']=='Traffic'].groupby('Date').count()['twp'].plot()\n",
        "plt.title('Traffic')\n",
        "plt.tight_layout()"
      ],
      "execution_count": 115,
      "outputs": [
        {
          "output_type": "display_data",
          "data": {
            "image/png": "[encoded data removed]",
            "text/plain": [
              "<Figure size 432x288 with 1 Axes>"
            ]
          },
          "metadata": {
            "tags": []
          }
        }
      ]
    },
    {
      "cell_type": "code",
      "metadata": {
        "id": "MzT0KjIkRZ3f",
        "colab_type": "code",
        "colab": {
          "base_uri": "https://localhost:8080/",
          "height": 297
        },
        "outputId": "b52f2a8e-63f6-42ea-d12a-8a2edcb9370d"
      },
      "source": [
        "df[df['Reason']=='Fire'].groupby('Date').count()['twp'].plot()\n",
        "plt.title('Fire')\n",
        "plt.tight_layout()"
      ],
      "execution_count": 116,
      "outputs": [
        {
          "output_type": "display_data",
          "data": {
            "image/png": "[encoded data removed]",
            "text/plain": [
              "<Figure size 432x288 with 1 Axes>"
            ]
          },
          "metadata": {
            "tags": []
          }
        }
      ]
    },
    {
      "cell_type": "code",
      "metadata": {
        "id": "wTPujKS7RcQC",
        "colab_type": "code",
        "colab": {
          "base_uri": "https://localhost:8080/",
          "height": 297
        },
        "outputId": "4c21956d-3752-44c8-dd67-f514a54610d2"
      },
      "source": [
        "df[df['Reason']=='Fire'].groupby('Date').count()['twp'].plot()\n",
        "plt.title('Fire')\n",
        "plt.tight_layout()"
      ],
      "execution_count": 117,
      "outputs": [
        {
          "output_type": "display_data",
          "data": {
            "image/png": "[encoded data removed]",
            "text/plain": [
              "<Figure size 432x288 with 1 Axes>"
            ]
          },
          "metadata": {
            "tags": []
          }
        }
      ]
    },
    {
      "cell_type": "code",
      "metadata": {
        "id": "DPbAPWqZRd6-",
        "colab_type": "code",
        "colab": {
          "base_uri": "https://localhost:8080/",
          "height": 278
        },
        "outputId": "d35a4677-2d86-4cd4-cb12-237afec06aed"
      },
      "source": [
        "dayHour = df.groupby(by=['Day of Week','Hour']).count()['Reason'].unstack()\n",
        "dayHour.head()"
      ],
      "execution_count": 118,
      "outputs": [
        {
          "output_type": "execute_result",
          "data": {
            "text/html": [
              "<div>\n",
              "<style scoped>\n",
              "    .dataframe tbody tr th:only-of-type {\n",
              "        vertical-align: middle;\n",
              "    }\n",
              "\n",
              "    .dataframe tbody tr th {\n",
              "        vertical-align: top;\n",
              "    }\n",
              "\n",
              "    .dataframe thead th {\n",
              "        text-align: right;\n",
              "    }\n",
              "</style>\n",
              "<table border=\"1\" class=\"dataframe\">\n",
              "  <thead>\n",
              "    <tr style=\"text-align: right;\">\n",
              "      <th>Hour</th>\n",
              "      <th>0</th>\n",
              "      <th>1</th>\n",
              "      <th>2</th>\n",
              "      <th>3</th>\n",
              "      <th>4</th>\n",
              "      <th>5</th>\n",
              "      <th>6</th>\n",
              "      <th>7</th>\n",
              "      <th>8</th>\n",
              "      <th>9</th>\n",
              "      <th>10</th>\n",
              "      <th>11</th>\n",
              "      <th>12</th>\n",
              "      <th>13</th>\n",
              "      <th>14</th>\n",
              "      <th>15</th>\n",
              "      <th>16</th>\n",
              "      <th>17</th>\n",
              "      <th>18</th>\n",
              "      <th>19</th>\n",
              "      <th>20</th>\n",
              "      <th>21</th>\n",
              "      <th>22</th>\n",
              "      <th>23</th>\n",
              "    </tr>\n",
              "    <tr>\n",
              "      <th>Day of Week</th>\n",
              "      <th></th>\n",
              "      <th></th>\n",
              "      <th></th>\n",
              "      <th></th>\n",
              "      <th></th>\n",
              "      <th></th>\n",
              "      <th></th>\n",
              "      <th></th>\n",
              "      <th></th>\n",
              "      <th></th>\n",
              "      <th></th>\n",
              "      <th></th>\n",
              "      <th></th>\n",
              "      <th></th>\n",
              "      <th></th>\n",
              "      <th></th>\n",
              "      <th></th>\n",
              "      <th></th>\n",
              "      <th></th>\n",
              "      <th></th>\n",
              "      <th></th>\n",
              "      <th></th>\n",
              "      <th></th>\n",
              "      <th></th>\n",
              "    </tr>\n",
              "  </thead>\n",
              "  <tbody>\n",
              "    <tr>\n",
              "      <th>Fri</th>\n",
              "      <td>1867</td>\n",
              "      <td>1533</td>\n",
              "      <td>1369</td>\n",
              "      <td>1238</td>\n",
              "      <td>1242</td>\n",
              "      <td>1556</td>\n",
              "      <td>2561</td>\n",
              "      <td>3991</td>\n",
              "      <td>4829</td>\n",
              "      <td>5023</td>\n",
              "      <td>5334</td>\n",
              "      <td>5523</td>\n",
              "      <td>5666</td>\n",
              "      <td>5857</td>\n",
              "      <td>6063</td>\n",
              "      <td>6682</td>\n",
              "      <td>6759</td>\n",
              "      <td>6804</td>\n",
              "      <td>5389</td>\n",
              "      <td>4791</td>\n",
              "      <td>4137</td>\n",
              "      <td>3683</td>\n",
              "      <td>3244</td>\n",
              "      <td>2710</td>\n",
              "    </tr>\n",
              "    <tr>\n",
              "      <th>Mon</th>\n",
              "      <td>1785</td>\n",
              "      <td>1477</td>\n",
              "      <td>1294</td>\n",
              "      <td>1205</td>\n",
              "      <td>1271</td>\n",
              "      <td>1745</td>\n",
              "      <td>2576</td>\n",
              "      <td>4279</td>\n",
              "      <td>5321</td>\n",
              "      <td>5486</td>\n",
              "      <td>5199</td>\n",
              "      <td>5383</td>\n",
              "      <td>5573</td>\n",
              "      <td>5340</td>\n",
              "      <td>5380</td>\n",
              "      <td>5881</td>\n",
              "      <td>6042</td>\n",
              "      <td>6140</td>\n",
              "      <td>5186</td>\n",
              "      <td>4261</td>\n",
              "      <td>3585</td>\n",
              "      <td>3077</td>\n",
              "      <td>2517</td>\n",
              "      <td>1962</td>\n",
              "    </tr>\n",
              "    <tr>\n",
              "      <th>Sat</th>\n",
              "      <td>2315</td>\n",
              "      <td>1956</td>\n",
              "      <td>1806</td>\n",
              "      <td>1513</td>\n",
              "      <td>1373</td>\n",
              "      <td>1493</td>\n",
              "      <td>1789</td>\n",
              "      <td>2389</td>\n",
              "      <td>3301</td>\n",
              "      <td>4117</td>\n",
              "      <td>4698</td>\n",
              "      <td>5177</td>\n",
              "      <td>5291</td>\n",
              "      <td>5121</td>\n",
              "      <td>5144</td>\n",
              "      <td>4919</td>\n",
              "      <td>4943</td>\n",
              "      <td>4943</td>\n",
              "      <td>4753</td>\n",
              "      <td>4523</td>\n",
              "      <td>3932</td>\n",
              "      <td>3704</td>\n",
              "      <td>3050</td>\n",
              "      <td>2819</td>\n",
              "    </tr>\n",
              "    <tr>\n",
              "      <th>Sun</th>\n",
              "      <td>2308</td>\n",
              "      <td>2049</td>\n",
              "      <td>1851</td>\n",
              "      <td>1525</td>\n",
              "      <td>1403</td>\n",
              "      <td>1398</td>\n",
              "      <td>1651</td>\n",
              "      <td>2288</td>\n",
              "      <td>2870</td>\n",
              "      <td>3548</td>\n",
              "      <td>4088</td>\n",
              "      <td>4239</td>\n",
              "      <td>4633</td>\n",
              "      <td>4411</td>\n",
              "      <td>4482</td>\n",
              "      <td>4247</td>\n",
              "      <td>4306</td>\n",
              "      <td>4285</td>\n",
              "      <td>4173</td>\n",
              "      <td>3958</td>\n",
              "      <td>3539</td>\n",
              "      <td>2975</td>\n",
              "      <td>2473</td>\n",
              "      <td>2200</td>\n",
              "    </tr>\n",
              "    <tr>\n",
              "      <th>Thu</th>\n",
              "      <td>1628</td>\n",
              "      <td>1324</td>\n",
              "      <td>1342</td>\n",
              "      <td>1172</td>\n",
              "      <td>1200</td>\n",
              "      <td>1685</td>\n",
              "      <td>2696</td>\n",
              "      <td>4293</td>\n",
              "      <td>5125</td>\n",
              "      <td>5145</td>\n",
              "      <td>5174</td>\n",
              "      <td>5230</td>\n",
              "      <td>5569</td>\n",
              "      <td>5811</td>\n",
              "      <td>5764</td>\n",
              "      <td>6160</td>\n",
              "      <td>6059</td>\n",
              "      <td>6645</td>\n",
              "      <td>5248</td>\n",
              "      <td>4454</td>\n",
              "      <td>3878</td>\n",
              "      <td>3319</td>\n",
              "      <td>2693</td>\n",
              "      <td>2233</td>\n",
              "    </tr>\n",
              "  </tbody>\n",
              "</table>\n",
              "</div>"
            ],
            "text/plain": [
              "Hour           0     1     2     3     4   ...    19    20    21    22    23\n",
              "Day of Week                                ...                              \n",
              "Fri          1867  1533  1369  1238  1242  ...  4791  4137  3683  3244  2710\n",
              "Mon          1785  1477  1294  1205  1271  ...  4261  3585  3077  2517  1962\n",
              "Sat          2315  1956  1806  1513  1373  ...  4523  3932  3704  3050  2819\n",
              "Sun          2308  2049  1851  1525  1403  ...  3958  3539  2975  2473  2200\n",
              "Thu          1628  1324  1342  1172  1200  ...  4454  3878  3319  2693  2233\n",
              "\n",
              "[5 rows x 24 columns]"
            ]
          },
          "metadata": {
            "tags": []
          },
          "execution_count": 118
        }
      ]
    },
    {
      "cell_type": "code",
      "metadata": {
        "id": "N3jQ5f50RgTw",
        "colab_type": "code",
        "colab": {
          "base_uri": "https://localhost:8080/",
          "height": 405
        },
        "outputId": "1d3ad5e8-16fa-42c2-84eb-f3435138831b"
      },
      "source": [
        "plt.figure(figsize=(12,6))\n",
        "sns.heatmap(dayHour,cmap='viridis')"
      ],
      "execution_count": 119,
      "outputs": [
        {
          "output_type": "execute_result",
          "data": {
            "text/plain": [
              "<matplotlib.axes._subplots.AxesSubplot at 0x7f6ab4eecfd0>"
            ]
          },
          "metadata": {
            "tags": []
          },
          "execution_count": 119
        },
        {
          "output_type": "display_data",
          "data": {
            "image/png": "[encoded data removed]",
            "text/plain": [
              "<Figure size 864x432 with 2 Axes>"
            ]
          },
          "metadata": {
            "tags": []
          }
        }
      ]
    },
    {
      "cell_type": "code",
      "metadata": {
        "id": "RfrbeUrDRjQM",
        "colab_type": "code",
        "colab": {
          "base_uri": "https://localhost:8080/",
          "height": 746
        },
        "outputId": "8f8a7fe0-ca3c-4f13-8018-38aaf59c7d83"
      },
      "source": [
        "sns.clustermap(dayHour,cmap='viridis')"
      ],
      "execution_count": 120,
      "outputs": [
        {
          "output_type": "execute_result",
          "data": {
            "text/plain": [
              "<seaborn.matrix.ClusterGrid at 0x7f6ab735da58>"
            ]
          },
          "metadata": {
            "tags": []
          },
          "execution_count": 120
        },
        {
          "output_type": "display_data",
          "data": {
            "image/png": "[encoded data removed]",
            "text/plain": [
              "<Figure size 720x720 with 4 Axes>"
            ]
          },
          "metadata": {
            "tags": []
          }
        }
      ]
    },
    {
      "cell_type": "code",
      "metadata": {
        "id": "ZUhj87ElRsXn",
        "colab_type": "code",
        "colab": {
          "base_uri": "https://localhost:8080/",
          "height": 225
        },
        "outputId": "24d0ddb1-c005-47b8-ab40-886e40f1907f"
      },
      "source": [
        "dayMonth = df.groupby(by=['Day of Week','Month']).count()['Reason'].unstack()\n",
        "dayMonth.head()"
      ],
      "execution_count": 121,
      "outputs": [
        {
          "output_type": "execute_result",
          "data": {
            "text/html": [
              "<div>\n",
              "<style scoped>\n",
              "    .dataframe tbody tr th:only-of-type {\n",
              "        vertical-align: middle;\n",
              "    }\n",
              "\n",
              "    .dataframe tbody tr th {\n",
              "        vertical-align: top;\n",
              "    }\n",
              "\n",
              "    .dataframe thead th {\n",
              "        text-align: right;\n",
              "    }\n",
              "</style>\n",
              "<table border=\"1\" class=\"dataframe\">\n",
              "  <thead>\n",
              "    <tr style=\"text-align: right;\">\n",
              "      <th>Month</th>\n",
              "      <th>1</th>\n",
              "      <th>2</th>\n",
              "      <th>3</th>\n",
              "      <th>4</th>\n",
              "      <th>5</th>\n",
              "      <th>6</th>\n",
              "      <th>7</th>\n",
              "      <th>8</th>\n",
              "      <th>9</th>\n",
              "      <th>10</th>\n",
              "      <th>11</th>\n",
              "      <th>12</th>\n",
              "    </tr>\n",
              "    <tr>\n",
              "      <th>Day of Week</th>\n",
              "      <th></th>\n",
              "      <th></th>\n",
              "      <th></th>\n",
              "      <th></th>\n",
              "      <th></th>\n",
              "      <th></th>\n",
              "      <th></th>\n",
              "      <th></th>\n",
              "      <th></th>\n",
              "      <th></th>\n",
              "      <th></th>\n",
              "      <th></th>\n",
              "    </tr>\n",
              "  </thead>\n",
              "  <tbody>\n",
              "    <tr>\n",
              "      <th>Fri</th>\n",
              "      <td>9309</td>\n",
              "      <td>8255</td>\n",
              "      <td>10941</td>\n",
              "      <td>7734</td>\n",
              "      <td>7214</td>\n",
              "      <td>7647</td>\n",
              "      <td>7103</td>\n",
              "      <td>7336</td>\n",
              "      <td>7694</td>\n",
              "      <td>6934</td>\n",
              "      <td>8379</td>\n",
              "      <td>9305</td>\n",
              "    </tr>\n",
              "    <tr>\n",
              "      <th>Mon</th>\n",
              "      <td>8896</td>\n",
              "      <td>8747</td>\n",
              "      <td>8060</td>\n",
              "      <td>8106</td>\n",
              "      <td>6746</td>\n",
              "      <td>6740</td>\n",
              "      <td>7929</td>\n",
              "      <td>6854</td>\n",
              "      <td>6598</td>\n",
              "      <td>8075</td>\n",
              "      <td>6722</td>\n",
              "      <td>8492</td>\n",
              "    </tr>\n",
              "    <tr>\n",
              "      <th>Sat</th>\n",
              "      <td>8475</td>\n",
              "      <td>7593</td>\n",
              "      <td>8050</td>\n",
              "      <td>7270</td>\n",
              "      <td>5796</td>\n",
              "      <td>6839</td>\n",
              "      <td>6395</td>\n",
              "      <td>6111</td>\n",
              "      <td>6566</td>\n",
              "      <td>6609</td>\n",
              "      <td>6773</td>\n",
              "      <td>8592</td>\n",
              "    </tr>\n",
              "    <tr>\n",
              "      <th>Sun</th>\n",
              "      <td>7478</td>\n",
              "      <td>6452</td>\n",
              "      <td>6766</td>\n",
              "      <td>6646</td>\n",
              "      <td>5410</td>\n",
              "      <td>5673</td>\n",
              "      <td>6567</td>\n",
              "      <td>5275</td>\n",
              "      <td>5956</td>\n",
              "      <td>6316</td>\n",
              "      <td>5196</td>\n",
              "      <td>7165</td>\n",
              "    </tr>\n",
              "    <tr>\n",
              "      <th>Thu</th>\n",
              "      <td>9055</td>\n",
              "      <td>7997</td>\n",
              "      <td>8849</td>\n",
              "      <td>7155</td>\n",
              "      <td>7524</td>\n",
              "      <td>7850</td>\n",
              "      <td>6964</td>\n",
              "      <td>7508</td>\n",
              "      <td>6954</td>\n",
              "      <td>7482</td>\n",
              "      <td>8358</td>\n",
              "      <td>8151</td>\n",
              "    </tr>\n",
              "  </tbody>\n",
              "</table>\n",
              "</div>"
            ],
            "text/plain": [
              "Month          1     2      3     4     5   ...    8     9     10    11    12\n",
              "Day of Week                                 ...                              \n",
              "Fri          9309  8255  10941  7734  7214  ...  7336  7694  6934  8379  9305\n",
              "Mon          8896  8747   8060  8106  6746  ...  6854  6598  8075  6722  8492\n",
              "Sat          8475  7593   8050  7270  5796  ...  6111  6566  6609  6773  8592\n",
              "Sun          7478  6452   6766  6646  5410  ...  5275  5956  6316  5196  7165\n",
              "Thu          9055  7997   8849  7155  7524  ...  7508  6954  7482  8358  8151\n",
              "\n",
              "[5 rows x 12 columns]"
            ]
          },
          "metadata": {
            "tags": []
          },
          "execution_count": 121
        }
      ]
    },
    {
      "cell_type": "code",
      "metadata": {
        "id": "fU-xTbWCRuaj",
        "colab_type": "code",
        "colab": {
          "base_uri": "https://localhost:8080/",
          "height": 405
        },
        "outputId": "205f4e76-418d-410c-c2c6-722adf567ee1"
      },
      "source": [
        "plt.figure(figsize=(12,6))\n",
        "sns.heatmap(dayMonth,cmap='viridis')"
      ],
      "execution_count": 122,
      "outputs": [
        {
          "output_type": "execute_result",
          "data": {
            "text/plain": [
              "<matplotlib.axes._subplots.AxesSubplot at 0x7f6ab4c14b70>"
            ]
          },
          "metadata": {
            "tags": []
          },
          "execution_count": 122
        },
        {
          "output_type": "display_data",
          "data": {
            "image/png": "[encoded data removed]",
            "text/plain": [
              "<Figure size 864x432 with 2 Axes>"
            ]
          },
          "metadata": {
            "tags": []
          }
        }
      ]
    },
    {
      "cell_type": "code",
      "metadata": {
        "id": "xOVYr_2fRx0r",
        "colab_type": "code",
        "colab": {}
      },
      "source": [
        ""
      ],
      "execution_count": 0,
      "outputs": []
    }
  ]
}