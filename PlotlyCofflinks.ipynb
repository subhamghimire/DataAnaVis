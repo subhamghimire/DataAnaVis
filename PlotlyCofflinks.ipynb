{
  "nbformat": 4,
  "nbformat_minor": 0,
  "metadata": {
    "colab": {
      "name": "PlotlyCofflinks.ipynb",
      "provenance": [],
      "collapsed_sections": [],
      "authorship_tag": "ABX9TyOzeVqj3lMVRy38wrfVEYUP",
      "include_colab_link": true
    },
    "kernelspec": {
      "name": "python3",
      "display_name": "Python 3"
    }
  },
  "cells": [
    {
      "cell_type": "markdown",
      "metadata": {
        "id": "view-in-github",
        "colab_type": "text"
      },
      "source": [
        "<a href=\"https://colab.research.google.com/github/subhamghimire/Machine-Learning/blob/master/PlotlyCofflinks.ipynb\" target=\"_parent\"><img src=\"https://colab.research.google.com/assets/colab-badge.svg\" alt=\"Open In Colab\"/></a>"
      ]
    },
    {
      "cell_type": "code",
      "metadata": {
        "id": "SOE4sF1bfEhu",
        "colab_type": "code",
        "colab": {}
      },
      "source": [
        "#Plotly and Cufflinks\n",
        "import numpy as np\n",
        "import pandas as pd"
      ],
      "execution_count": 0,
      "outputs": []
    },
    {
      "cell_type": "code",
      "metadata": {
        "id": "l09TZk2ofT3I",
        "colab_type": "code",
        "colab": {}
      },
      "source": [
        "from plotly import __version__"
      ],
      "execution_count": 0,
      "outputs": []
    },
    {
      "cell_type": "code",
      "metadata": {
        "id": "boXBHaFrfW0X",
        "colab_type": "code",
        "colab": {
          "base_uri": "https://localhost:8080/",
          "height": 34
        },
        "outputId": "ca326e5a-8ca3-4ae0-cbd1-0ad3a0799444"
      },
      "source": [
        "print(__version__)"
      ],
      "execution_count": 21,
      "outputs": [
        {
          "output_type": "stream",
          "text": [
            "4.4.1\n"
          ],
          "name": "stdout"
        }
      ]
    },
    {
      "cell_type": "code",
      "metadata": {
        "id": "xDwUZBfyfYmF",
        "colab_type": "code",
        "colab": {}
      },
      "source": [
        "import cufflinks as cf"
      ],
      "execution_count": 0,
      "outputs": []
    },
    {
      "cell_type": "code",
      "metadata": {
        "id": "Hkqaw92ffgGE",
        "colab_type": "code",
        "colab": {}
      },
      "source": [
        "from plotly.offline import download_plotlyjs,init_notebook_mode,plot,iplot"
      ],
      "execution_count": 0,
      "outputs": []
    },
    {
      "cell_type": "code",
      "metadata": {
        "id": "7Ml68r24ftH3",
        "colab_type": "code",
        "colab": {
          "base_uri": "https://localhost:8080/",
          "height": 17
        },
        "outputId": "2a4d57ab-f92e-4e11-fd45-538120245e21"
      },
      "source": [
        "#for offline use\n",
        "cf.go_offline()"
      ],
      "execution_count": 31,
      "outputs": [
        {
          "output_type": "display_data",
          "data": {
            "text/html": [
              "        <script type=\"text/javascript\">\n",
              "        window.PlotlyConfig = {MathJaxConfig: 'local'};\n",
              "        if (window.MathJax) {MathJax.Hub.Config({SVG: {font: \"STIX-Web\"}});}\n",
              "        if (typeof require !== 'undefined') {\n",
              "        require.undef(\"plotly\");\n",
              "        requirejs.config({\n",
              "            paths: {\n",
              "                'plotly': ['https://cdn.plot.ly/plotly-latest.min']\n",
              "            }\n",
              "        });\n",
              "        require(['plotly'], function(Plotly) {\n",
              "            window._Plotly = Plotly;\n",
              "        });\n",
              "        }\n",
              "        </script>\n",
              "        "
            ]
          },
          "metadata": {
            "tags": []
          }
        }
      ]
    },
    {
      "cell_type": "code",
      "metadata": {
        "id": "Lgj2bEDkf2u7",
        "colab_type": "code",
        "colab": {
          "base_uri": "https://localhost:8080/",
          "height": 195
        },
        "outputId": "963b5338-ca69-4e3b-efb5-34b5ffb4a39e"
      },
      "source": [
        "#Data\n",
        "df = pd.DataFrame(np.random.randn(100,4),columns='A B C D'.split())\n",
        "df.head()"
      ],
      "execution_count": 32,
      "outputs": [
        {
          "output_type": "execute_result",
          "data": {
            "text/html": [
              "<div>\n",
              "<style scoped>\n",
              "    .dataframe tbody tr th:only-of-type {\n",
              "        vertical-align: middle;\n",
              "    }\n",
              "\n",
              "    .dataframe tbody tr th {\n",
              "        vertical-align: top;\n",
              "    }\n",
              "\n",
              "    .dataframe thead th {\n",
              "        text-align: right;\n",
              "    }\n",
              "</style>\n",
              "<table border=\"1\" class=\"dataframe\">\n",
              "  <thead>\n",
              "    <tr style=\"text-align: right;\">\n",
              "      <th></th>\n",
              "      <th>A</th>\n",
              "      <th>B</th>\n",
              "      <th>C</th>\n",
              "      <th>D</th>\n",
              "    </tr>\n",
              "  </thead>\n",
              "  <tbody>\n",
              "    <tr>\n",
              "      <th>0</th>\n",
              "      <td>-2.068481</td>\n",
              "      <td>0.135461</td>\n",
              "      <td>-0.449097</td>\n",
              "      <td>0.165760</td>\n",
              "    </tr>\n",
              "    <tr>\n",
              "      <th>1</th>\n",
              "      <td>-0.068301</td>\n",
              "      <td>0.852895</td>\n",
              "      <td>-1.356662</td>\n",
              "      <td>0.735378</td>\n",
              "    </tr>\n",
              "    <tr>\n",
              "      <th>2</th>\n",
              "      <td>0.346868</td>\n",
              "      <td>-0.912047</td>\n",
              "      <td>0.110102</td>\n",
              "      <td>-0.396353</td>\n",
              "    </tr>\n",
              "    <tr>\n",
              "      <th>3</th>\n",
              "      <td>1.740456</td>\n",
              "      <td>-0.436017</td>\n",
              "      <td>-1.205923</td>\n",
              "      <td>0.846092</td>\n",
              "    </tr>\n",
              "    <tr>\n",
              "      <th>4</th>\n",
              "      <td>0.260146</td>\n",
              "      <td>0.403002</td>\n",
              "      <td>-1.293519</td>\n",
              "      <td>0.583428</td>\n",
              "    </tr>\n",
              "  </tbody>\n",
              "</table>\n",
              "</div>"
            ],
            "text/plain": [
              "          A         B         C         D\n",
              "0 -2.068481  0.135461 -0.449097  0.165760\n",
              "1 -0.068301  0.852895 -1.356662  0.735378\n",
              "2  0.346868 -0.912047  0.110102 -0.396353\n",
              "3  1.740456 -0.436017 -1.205923  0.846092\n",
              "4  0.260146  0.403002 -1.293519  0.583428"
            ]
          },
          "metadata": {
            "tags": []
          },
          "execution_count": 32
        }
      ]
    },
    {
      "cell_type": "code",
      "metadata": {
        "id": "V9tk8x7IgAbt",
        "colab_type": "code",
        "colab": {}
      },
      "source": [
        "df2 = pd.DataFrame({'Category':['A','B','C'],'Values':[23,54,43]})"
      ],
      "execution_count": 0,
      "outputs": []
    },
    {
      "cell_type": "code",
      "metadata": {
        "id": "Dy1JvodugWIh",
        "colab_type": "code",
        "colab": {
          "base_uri": "https://localhost:8080/",
          "height": 136
        },
        "outputId": "fb6a1e59-6b64-4302-8334-2dae6461cf3a"
      },
      "source": [
        "df2"
      ],
      "execution_count": 47,
      "outputs": [
        {
          "output_type": "execute_result",
          "data": {
            "text/html": [
              "<div>\n",
              "<style scoped>\n",
              "    .dataframe tbody tr th:only-of-type {\n",
              "        vertical-align: middle;\n",
              "    }\n",
              "\n",
              "    .dataframe tbody tr th {\n",
              "        vertical-align: top;\n",
              "    }\n",
              "\n",
              "    .dataframe thead th {\n",
              "        text-align: right;\n",
              "    }\n",
              "</style>\n",
              "<table border=\"1\" class=\"dataframe\">\n",
              "  <thead>\n",
              "    <tr style=\"text-align: right;\">\n",
              "      <th></th>\n",
              "      <th>Category</th>\n",
              "      <th>Values</th>\n",
              "    </tr>\n",
              "  </thead>\n",
              "  <tbody>\n",
              "    <tr>\n",
              "      <th>0</th>\n",
              "      <td>A</td>\n",
              "      <td>23</td>\n",
              "    </tr>\n",
              "    <tr>\n",
              "      <th>1</th>\n",
              "      <td>B</td>\n",
              "      <td>54</td>\n",
              "    </tr>\n",
              "    <tr>\n",
              "      <th>2</th>\n",
              "      <td>C</td>\n",
              "      <td>43</td>\n",
              "    </tr>\n",
              "  </tbody>\n",
              "</table>\n",
              "</div>"
            ],
            "text/plain": [
              "  Category  Values\n",
              "0        A      23\n",
              "1        B      54\n",
              "2        C      43"
            ]
          },
          "metadata": {
            "tags": []
          },
          "execution_count": 47
        }
      ]
    },
    {
      "cell_type": "code",
      "metadata": {
        "id": "r9nYl3Ybj00N",
        "colab_type": "code",
        "colab": {
          "base_uri": "https://localhost:8080/",
          "height": 282
        },
        "outputId": "332fb14c-4d29-4135-adec-e81e8aade266"
      },
      "source": [
        "df.plot()"
      ],
      "execution_count": 49,
      "outputs": [
        {
          "output_type": "execute_result",
          "data": {
            "text/plain": [
              "<matplotlib.axes._subplots.AxesSubplot at 0x7f29166b2240>"
            ]
          },
          "metadata": {
            "tags": []
          },
          "execution_count": 49
        },
        {
          "output_type": "display_data",
          "data": {
            "image/png": "[encoded data removed]",
            "text/plain": [
              "<Figure size 432x288 with 1 Axes>"
            ]
          },
          "metadata": {
            "tags": [],
            "needs_background": "light"
          }
        }
      ]
    },
    {
      "cell_type": "code",
      "metadata": {
        "id": "nZGXPMO3gW30",
        "colab_type": "code",
        "colab": {
          "base_uri": "https://localhost:8080/",
          "height": 542
        },
        "outputId": "f9570509-f576-4606-8b91-88fe46ea876c"
      },
      "source": [
        "df.iplot()"
      ],
      "execution_count": 39,
      "outputs": [
        {
          "output_type": "display_data",
          "data": {
            "text/html": [
              "<div>\n",
              "        \n",
              "        \n",
              "            <div id=\"740746a4-bea1-49fa-8dff-14823b649d37\" class=\"plotly-graph-div\" style=\"height:525px; width:100%;\"></div>\n",
              "            <script type=\"text/javascript\">\n",
              "                require([\"plotly\"], function(Plotly) {\n",
              "                    window.PLOTLYENV=window.PLOTLYENV || {};\n",
              "                    window.PLOTLYENV.BASE_URL='https://plot.ly';\n",
              "                    \n",
              "                if (document.getElementById(\"740746a4-bea1-49fa-8dff-14823b649d37\")) {\n",
              "                    Plotly.newPlot(\n",
              "                        '740746a4-bea1-49fa-8dff-14823b649d37',\n",
              "                        [{\"line\": {\"color\": \"rgba(255, 153, 51, 1.0)\", \"dash\": \"solid\", \"shape\": \"linear\", \"width\": 1.3}, \"mode\": \"lines\", \"name\": \"A\", \"text\": \"\", \"type\": \"scatter\", \"x\": [0, 1, 2, 3, 4, 5, 6, 7, 8, 9, 10, 11, 12, 13, 14, 15, 16, 17, 18, 19, 20, 21, 22, 23, 24, 25, 26, 27, 28, 29, 30, 31, 32, 33, 34, 35, 36, 37, 38, 39, 40, 41, 42, 43, 44, 45, 46, 47, 48, 49, 50, 51, 52, 53, 54, 55, 56, 57, 58, 59, 60, 61, 62, 63, 64, 65, 66, 67, 68, 69, 70, 71, 72, 73, 74, 75, 76, 77, 78, 79, 80, 81, 82, 83, 84, 85, 86, 87, 88, 89, 90, 91, 92, 93, 94, 95, 96, 97, 98, 99], \"y\": [-2.068481242470521, -0.06830072174778413, 0.34686815459740566, 1.7404560246674383, 0.260145933794787, -1.6687556797736214, 1.2128292608384186, 1.276759847076379, 0.012589088341520047, 0.6837240475443442, -0.5102467506900561, -0.7782360903554235, -2.341546922060079, 0.39173212431984145, 0.15323339526132104, 0.3104819072155177, -0.44218825427175923, -0.32150902708869994, -0.033858181247083445, 0.3359230701195722, 0.8022437874387931, 0.03601910255625717, -0.4061836761174409, -0.4003801133136168, 0.10092907154841461, 1.5233562187288536, -0.36722594437827283, 0.03253231846998982, -2.282982536415899, 0.5830802711190498, -0.4311524540735369, 1.1614317023417755, -0.10426289520479025, -1.1212768013578707, 0.06334068027172927, 0.01630376329550353, -0.45457557725717207, -0.938789821802139, 0.06099939323351222, 0.35887818748664885, -0.843793734057207, 0.0478569867049216, -0.2417538602769474, -0.038942887102078806, 0.053593639039046, -1.2211623482179648, -0.17036200068698545, -0.4443887116011843, 0.37019280008777267, 1.5443258334719654, -0.6181394088457115, -0.45792799326957373, -1.9361516681418143, 0.7434597203247988, -0.5108806403318328, 0.16514967255301594, 0.4775907874146169, -0.4774554221272687, 0.2419944748702217, 0.5181025641411692, 0.06948103228401782, -0.08102350563166708, -0.5632934821646675, -0.10831738227239747, 1.7327185525045936, 0.3704868260629756, -0.5159738914988036, 0.6967248312772667, 0.9729344612886184, 0.04693965652740349, 1.1054124247780315, -1.217420888691861, -0.38814588141461437, -1.0796755270554717, -1.0958149053019528, -2.3417318911687075, -0.011587462929148149, 0.9095237774878863, -0.02621533665839742, 0.8466593311125113, -0.7175705015184023, -0.19377387371188784, -0.5783852466829044, -0.13044163951325857, 1.066628215523557, 0.26129669924845683, 2.0189419209649317, -1.3553670039412815, 0.5018501059843185, 0.6531387684143183, 1.9022631291702592, -1.2934389171784868, 0.06544750594269423, 0.8411001692608153, 0.5580249008107335, 1.9956733413950396, -0.5021972339098685, -0.47316947988094754, -1.114299172278719, 1.3644252487147408]}, {\"line\": {\"color\": \"rgba(55, 128, 191, 1.0)\", \"dash\": \"solid\", \"shape\": \"linear\", \"width\": 1.3}, \"mode\": \"lines\", \"name\": \"B\", \"text\": \"\", \"type\": \"scatter\", \"x\": [0, 1, 2, 3, 4, 5, 6, 7, 8, 9, 10, 11, 12, 13, 14, 15, 16, 17, 18, 19, 20, 21, 22, 23, 24, 25, 26, 27, 28, 29, 30, 31, 32, 33, 34, 35, 36, 37, 38, 39, 40, 41, 42, 43, 44, 45, 46, 47, 48, 49, 50, 51, 52, 53, 54, 55, 56, 57, 58, 59, 60, 61, 62, 63, 64, 65, 66, 67, 68, 69, 70, 71, 72, 73, 74, 75, 76, 77, 78, 79, 80, 81, 82, 83, 84, 85, 86, 87, 88, 89, 90, 91, 92, 93, 94, 95, 96, 97, 98, 99], \"y\": [0.13546053507022923, 0.8528952539056167, -0.9120473287918056, -0.4360167071034324, 0.4030021035722929, 0.21845456351115183, -1.5146188477997056, -1.1081262345827807, 0.2505550893228284, -1.089754160529704, -1.999471543859598, -0.13298981222990705, 0.7083688242077885, -0.7428531839143373, 1.2717469173085532, -0.7243561359853562, -1.4370056513901115, -0.8578890500584263, -0.5199289547555342, -0.9858204761709641, 0.7502511092487195, -0.9622680220774841, 0.8606852397738878, -0.3529663721617263, -1.7724111999399959, 0.11671383039125793, 2.1104136856870674, -0.058342444826866936, 2.028760783982244, 0.6055565892850192, 1.343911038550699, 0.5764709024505792, 0.2573852649890621, -2.5497668496098447, -0.9505829571138086, 0.07158004593194874, -1.1320989581537642, 1.2498551328713434, -0.5411155904440764, 1.9433075662035164, -0.6390591873405453, 0.206562955695758, 0.24791031488052412, 1.2761130220428456, -0.43330761534391343, -0.6646931807852855, 1.0006041439810665, 0.24950232089024862, 1.824582338513296, -0.33503434728787385, -0.10390476120042613, 2.0558297587310213, 2.4705327300888382, 0.24641029074204315, 0.891406383668593, -0.4460375336323596, -0.05403819614345976, 0.6069379690402813, -0.6584213592294729, -0.6804624868343676, 0.3554374013526221, -0.6197422292201394, -1.4363793854686329, 0.6391732419232593, 1.5260538377224617, -1.327403466180733, 0.46678698493924725, 1.5618372075729798, 0.1771511713172017, -0.1471852825641017, 0.758092470021777, -1.531560505955019, -0.5331876622432652, -1.8806673130309681, 0.4339395458758081, 0.7287842973459717, 0.5843657299612066, 0.5675425116136315, 1.5051957081584857, 0.9984576089198394, -1.361450265891984, -0.05477528106219799, 0.651652184054883, 1.8956547523097942, 0.960325494070041, 0.6333460121494614, -0.23176142161827948, -1.4147891851188463, -0.47355461876870314, 0.24759608652395304, 0.6919142969542673, -0.33833598108215074, 0.1537146391163577, -0.9427824418183438, -1.0535415962258836, -0.46097231553426254, -2.5076551988203275, -0.43772317036284325, 0.7570175143322317, 0.4828692956441521]}, {\"line\": {\"color\": \"rgba(50, 171, 96, 1.0)\", \"dash\": \"solid\", \"shape\": \"linear\", \"width\": 1.3}, \"mode\": \"lines\", \"name\": \"C\", \"text\": \"\", \"type\": \"scatter\", \"x\": [0, 1, 2, 3, 4, 5, 6, 7, 8, 9, 10, 11, 12, 13, 14, 15, 16, 17, 18, 19, 20, 21, 22, 23, 24, 25, 26, 27, 28, 29, 30, 31, 32, 33, 34, 35, 36, 37, 38, 39, 40, 41, 42, 43, 44, 45, 46, 47, 48, 49, 50, 51, 52, 53, 54, 55, 56, 57, 58, 59, 60, 61, 62, 63, 64, 65, 66, 67, 68, 69, 70, 71, 72, 73, 74, 75, 76, 77, 78, 79, 80, 81, 82, 83, 84, 85, 86, 87, 88, 89, 90, 91, 92, 93, 94, 95, 96, 97, 98, 99], \"y\": [-0.4490965191707045, -1.3566624199171347, 0.11010174114668976, -1.2059230985671745, -1.293518642299254, 0.0768114429111746, 2.0713794720510563, -1.6136102766998872, -2.1183418088097254, 0.6584018977466556, -0.5819428441757667, 0.5471898408441686, -1.8244706216056903, -0.35890916630399583, 1.138641041310387, 0.31611546567849097, 1.0559771602321337, 0.33767317562215937, 0.3033628923796153, -1.4335836985969974, 1.2096368994544906, 0.20689061625255836, 0.09488785762250992, 0.5617887062170834, 0.023154308790518715, 0.15168789975164204, -0.6180336191881293, 0.20622837757895413, 0.6485714799411542, 1.1963676140509656, 0.1654910893430052, 0.5749779562163441, 0.16108900684868976, 0.3485567916805989, 0.3152055370319175, 0.08180464812136456, 0.020620326956704384, -1.5596986546230043, -0.2778496376241181, -0.8177813904604749, -0.047248911278135124, -0.26675964256587714, 0.33145366006431287, 0.4435718943527746, 1.0834591102193718, 1.1181927159205571, 0.4670669747598463, -0.5329526643065524, -0.44635128706169075, 0.014871920137131739, 1.3812612374583608, 1.8920639380885012, 0.5653173636965959, -1.098288205522477, -0.382976691456405, -2.0462213086186645, -0.20451968519589875, 0.07856773595182073, 0.6306289545841886, -0.8110523405607823, -2.0899974454372776, 0.056410401765543884, -0.47904391491468185, 0.9888181876263, 0.7921507229057528, 0.6588455707730912, -1.0117051153143026, -0.7401670941766406, -1.1019512930005688, -0.2330072114146048, 0.14678659128359187, -0.016972325384005515, 0.538226961324923, -0.5527431124284627, 0.21787234394765675, 0.5775448863301242, -0.18725702030590544, 0.2586947836219987, -0.2720062991616586, 0.4956980999399173, -0.2248874208324263, 1.046876962247096, 0.8739057120388894, -1.324810905399333, -1.8895230890311145, 0.8985423817325691, -0.4134721022129727, 0.07172149869464005, -1.6381683038387536, 0.42538928588685265, -1.1191856963454359, 0.32398329622996735, -1.3591175956603858, -1.9028566688666586, -0.6817634816272062, 0.2312632966984241, 0.6224618814324517, -0.8694786005425781, 0.847084292335929, -0.8414877548342978]}, {\"line\": {\"color\": \"rgba(128, 0, 128, 1.0)\", \"dash\": \"solid\", \"shape\": \"linear\", \"width\": 1.3}, \"mode\": \"lines\", \"name\": \"D\", \"text\": \"\", \"type\": \"scatter\", \"x\": [0, 1, 2, 3, 4, 5, 6, 7, 8, 9, 10, 11, 12, 13, 14, 15, 16, 17, 18, 19, 20, 21, 22, 23, 24, 25, 26, 27, 28, 29, 30, 31, 32, 33, 34, 35, 36, 37, 38, 39, 40, 41, 42, 43, 44, 45, 46, 47, 48, 49, 50, 51, 52, 53, 54, 55, 56, 57, 58, 59, 60, 61, 62, 63, 64, 65, 66, 67, 68, 69, 70, 71, 72, 73, 74, 75, 76, 77, 78, 79, 80, 81, 82, 83, 84, 85, 86, 87, 88, 89, 90, 91, 92, 93, 94, 95, 96, 97, 98, 99], \"y\": [0.16576029040650397, 0.7353781184301128, -0.39635288312626415, 0.8460923805492866, 0.5834280340395386, 0.022668873850809287, -0.7232984540044319, -1.3150340581479074, -0.34117426376557675, -2.2039151686405045, -0.5540034393317983, -0.5365510263084331, 0.9514694148660698, 1.6093071684143965, 0.5349031444835803, 0.8762223684320477, 1.4173775406277183, -0.45892366941253027, 0.7759706357601053, -0.5231570619640878, -0.7912812214498252, 1.1391103980200354, 1.040790199323024, -0.730873434869637, 1.3493645268911796, 0.9317563929515158, 0.7580306180283228, 0.5878386227634674, 1.4326486013465392, -0.20720218629137235, 0.24776731941903588, 0.07369409703522996, 0.5523389535964915, -1.4225823164676166, -0.31366079651470147, 0.2462780623614397, -0.9525515029157212, -1.5060095118808454, 0.16157669330880778, 0.2202473096122514, 0.25515230298668984, 0.1415806575371722, 1.0454826460039028, -1.6395532056044337, -1.1480878621577313, -0.21767196576881243, 0.6097280023008594, 1.0273906539859419, -1.2546164856141788, 1.6795186133330808, -1.2917753905896583, 1.4376577079402262, 2.042611479515502, 0.17051851887980343, 0.02899488058209822, 0.24876373421094727, 0.06601973384186423, 0.22350253848511487, 0.8241801220068634, 0.03501063486091633, 0.7539071353594212, 0.03488923989617106, -1.45547407467105, -0.5359645108060322, -1.284504149525958, 0.7162679959699161, -0.5031833256993665, 1.8929389937029355, 0.09901562576215357, -0.10940178309595011, 2.1374057165810063, -0.2027529518230585, -0.04669371402278774, -1.1166007758302954, -1.110979136920132, 0.9459463660753293, 0.27097005719316825, -1.7625289736087093, 0.8351417325563205, -1.6945826582379722, -0.2656569433609975, -0.8769678330899084, -0.8152967764266832, 0.19939256166508265, 0.5460777371186833, 1.458413440508323, -0.533553934042059, 0.936768896712938, -1.5020610105474623, -0.3740943538418646, -0.46449150985624155, 0.09247526313675637, 0.4408967762354214, -0.6062745194800315, -0.0868526946804238, 0.2379988912040208, -0.34447098504535295, 1.4294961780936741, -0.010673807091225312, 0.04162518036338937]}],\n",
              "                        {\"legend\": {\"bgcolor\": \"#F5F6F9\", \"font\": {\"color\": \"#4D5663\"}}, \"paper_bgcolor\": \"#F5F6F9\", \"plot_bgcolor\": \"#F5F6F9\", \"template\": {\"data\": {\"bar\": [{\"error_x\": {\"color\": \"#2a3f5f\"}, \"error_y\": {\"color\": \"#2a3f5f\"}, \"marker\": {\"line\": {\"color\": \"#E5ECF6\", \"width\": 0.5}}, \"type\": \"bar\"}], \"barpolar\": [{\"marker\": {\"line\": {\"color\": \"#E5ECF6\", \"width\": 0.5}}, \"type\": \"barpolar\"}], \"carpet\": [{\"aaxis\": {\"endlinecolor\": \"#2a3f5f\", \"gridcolor\": \"white\", \"linecolor\": \"white\", \"minorgridcolor\": \"white\", \"startlinecolor\": \"#2a3f5f\"}, \"baxis\": {\"endlinecolor\": \"#2a3f5f\", \"gridcolor\": \"white\", \"linecolor\": \"white\", \"minorgridcolor\": \"white\", \"startlinecolor\": \"#2a3f5f\"}, \"type\": \"carpet\"}], \"choropleth\": [{\"colorbar\": {\"outlinewidth\": 0, \"ticks\": \"\"}, \"type\": \"choropleth\"}], \"contour\": [{\"colorbar\": {\"outlinewidth\": 0, \"ticks\": \"\"}, \"colorscale\": [[0.0, \"#0d0887\"], [0.1111111111111111, \"#46039f\"], [0.2222222222222222, \"#7201a8\"], [0.3333333333333333, \"#9c179e\"], [0.4444444444444444, \"#bd3786\"], [0.5555555555555556, \"#d8576b\"], [0.6666666666666666, \"#ed7953\"], [0.7777777777777778, \"#fb9f3a\"], [0.8888888888888888, \"#fdca26\"], [1.0, \"#f0f921\"]], \"type\": \"contour\"}], \"contourcarpet\": [{\"colorbar\": {\"outlinewidth\": 0, \"ticks\": \"\"}, \"type\": \"contourcarpet\"}], \"heatmap\": [{\"colorbar\": {\"outlinewidth\": 0, \"ticks\": \"\"}, \"colorscale\": [[0.0, \"#0d0887\"], [0.1111111111111111, \"#46039f\"], [0.2222222222222222, \"#7201a8\"], [0.3333333333333333, \"#9c179e\"], [0.4444444444444444, \"#bd3786\"], [0.5555555555555556, \"#d8576b\"], [0.6666666666666666, \"#ed7953\"], [0.7777777777777778, \"#fb9f3a\"], [0.8888888888888888, \"#fdca26\"], [1.0, \"#f0f921\"]], \"type\": \"heatmap\"}], \"heatmapgl\": [{\"colorbar\": {\"outlinewidth\": 0, \"ticks\": \"\"}, \"colorscale\": [[0.0, \"#0d0887\"], [0.1111111111111111, \"#46039f\"], [0.2222222222222222, \"#7201a8\"], [0.3333333333333333, \"#9c179e\"], [0.4444444444444444, \"#bd3786\"], [0.5555555555555556, \"#d8576b\"], [0.6666666666666666, \"#ed7953\"], [0.7777777777777778, \"#fb9f3a\"], [0.8888888888888888, \"#fdca26\"], [1.0, \"#f0f921\"]], \"type\": \"heatmapgl\"}], \"histogram\": [{\"marker\": {\"colorbar\": {\"outlinewidth\": 0, \"ticks\": \"\"}}, \"type\": \"histogram\"}], \"histogram2d\": [{\"colorbar\": {\"outlinewidth\": 0, \"ticks\": \"\"}, \"colorscale\": [[0.0, \"#0d0887\"], [0.1111111111111111, \"#46039f\"], [0.2222222222222222, \"#7201a8\"], [0.3333333333333333, \"#9c179e\"], [0.4444444444444444, \"#bd3786\"], [0.5555555555555556, \"#d8576b\"], [0.6666666666666666, \"#ed7953\"], [0.7777777777777778, \"#fb9f3a\"], [0.8888888888888888, \"#fdca26\"], [1.0, \"#f0f921\"]], \"type\": \"histogram2d\"}], \"histogram2dcontour\": [{\"colorbar\": {\"outlinewidth\": 0, \"ticks\": \"\"}, \"colorscale\": [[0.0, \"#0d0887\"], [0.1111111111111111, \"#46039f\"], [0.2222222222222222, \"#7201a8\"], [0.3333333333333333, \"#9c179e\"], [0.4444444444444444, \"#bd3786\"], [0.5555555555555556, \"#d8576b\"], [0.6666666666666666, \"#ed7953\"], [0.7777777777777778, \"#fb9f3a\"], [0.8888888888888888, \"#fdca26\"], [1.0, \"#f0f921\"]], \"type\": \"histogram2dcontour\"}], \"mesh3d\": [{\"colorbar\": {\"outlinewidth\": 0, \"ticks\": \"\"}, \"type\": \"mesh3d\"}], \"parcoords\": [{\"line\": {\"colorbar\": {\"outlinewidth\": 0, \"ticks\": \"\"}}, \"type\": \"parcoords\"}], \"pie\": [{\"automargin\": true, \"type\": \"pie\"}], \"scatter\": [{\"marker\": {\"colorbar\": {\"outlinewidth\": 0, \"ticks\": \"\"}}, \"type\": \"scatter\"}], \"scatter3d\": [{\"line\": {\"colorbar\": {\"outlinewidth\": 0, \"ticks\": \"\"}}, \"marker\": {\"colorbar\": {\"outlinewidth\": 0, \"ticks\": \"\"}}, \"type\": \"scatter3d\"}], \"scattercarpet\": [{\"marker\": {\"colorbar\": {\"outlinewidth\": 0, \"ticks\": \"\"}}, \"type\": \"scattercarpet\"}], \"scattergeo\": [{\"marker\": {\"colorbar\": {\"outlinewidth\": 0, \"ticks\": \"\"}}, \"type\": \"scattergeo\"}], \"scattergl\": [{\"marker\": {\"colorbar\": {\"outlinewidth\": 0, \"ticks\": \"\"}}, \"type\": \"scattergl\"}], \"scattermapbox\": [{\"marker\": {\"colorbar\": {\"outlinewidth\": 0, \"ticks\": \"\"}}, \"type\": \"scattermapbox\"}], \"scatterpolar\": [{\"marker\": {\"colorbar\": {\"outlinewidth\": 0, \"ticks\": \"\"}}, \"type\": \"scatterpolar\"}], \"scatterpolargl\": [{\"marker\": {\"colorbar\": {\"outlinewidth\": 0, \"ticks\": \"\"}}, \"type\": \"scatterpolargl\"}], \"scatterternary\": [{\"marker\": {\"colorbar\": {\"outlinewidth\": 0, \"ticks\": \"\"}}, \"type\": \"scatterternary\"}], \"surface\": [{\"colorbar\": {\"outlinewidth\": 0, \"ticks\": \"\"}, \"colorscale\": [[0.0, \"#0d0887\"], [0.1111111111111111, \"#46039f\"], [0.2222222222222222, \"#7201a8\"], [0.3333333333333333, \"#9c179e\"], [0.4444444444444444, \"#bd3786\"], [0.5555555555555556, \"#d8576b\"], [0.6666666666666666, \"#ed7953\"], [0.7777777777777778, \"#fb9f3a\"], [0.8888888888888888, \"#fdca26\"], [1.0, \"#f0f921\"]], \"type\": \"surface\"}], \"table\": [{\"cells\": {\"fill\": {\"color\": \"#EBF0F8\"}, \"line\": {\"color\": \"white\"}}, \"header\": {\"fill\": {\"color\": \"#C8D4E3\"}, \"line\": {\"color\": \"white\"}}, \"type\": \"table\"}]}, \"layout\": {\"annotationdefaults\": {\"arrowcolor\": \"#2a3f5f\", \"arrowhead\": 0, \"arrowwidth\": 1}, \"coloraxis\": {\"colorbar\": {\"outlinewidth\": 0, \"ticks\": \"\"}}, \"colorscale\": {\"diverging\": [[0, \"#8e0152\"], [0.1, \"#c51b7d\"], [0.2, \"#de77ae\"], [0.3, \"#f1b6da\"], [0.4, \"#fde0ef\"], [0.5, \"#f7f7f7\"], [0.6, \"#e6f5d0\"], [0.7, \"#b8e186\"], [0.8, \"#7fbc41\"], [0.9, \"#4d9221\"], [1, \"#276419\"]], \"sequential\": [[0.0, \"#0d0887\"], [0.1111111111111111, \"#46039f\"], [0.2222222222222222, \"#7201a8\"], [0.3333333333333333, \"#9c179e\"], [0.4444444444444444, \"#bd3786\"], [0.5555555555555556, \"#d8576b\"], [0.6666666666666666, \"#ed7953\"], [0.7777777777777778, \"#fb9f3a\"], [0.8888888888888888, \"#fdca26\"], [1.0, \"#f0f921\"]], \"sequentialminus\": [[0.0, \"#0d0887\"], [0.1111111111111111, \"#46039f\"], [0.2222222222222222, \"#7201a8\"], [0.3333333333333333, \"#9c179e\"], [0.4444444444444444, \"#bd3786\"], [0.5555555555555556, \"#d8576b\"], [0.6666666666666666, \"#ed7953\"], [0.7777777777777778, \"#fb9f3a\"], [0.8888888888888888, \"#fdca26\"], [1.0, \"#f0f921\"]]}, \"colorway\": [\"#636efa\", \"#EF553B\", \"#00cc96\", \"#ab63fa\", \"#FFA15A\", \"#19d3f3\", \"#FF6692\", \"#B6E880\", \"#FF97FF\", \"#FECB52\"], \"font\": {\"color\": \"#2a3f5f\"}, \"geo\": {\"bgcolor\": \"white\", \"lakecolor\": \"white\", \"landcolor\": \"#E5ECF6\", \"showlakes\": true, \"showland\": true, \"subunitcolor\": \"white\"}, \"hoverlabel\": {\"align\": \"left\"}, \"hovermode\": \"closest\", \"mapbox\": {\"style\": \"light\"}, \"paper_bgcolor\": \"white\", \"plot_bgcolor\": \"#E5ECF6\", \"polar\": {\"angularaxis\": {\"gridcolor\": \"white\", \"linecolor\": \"white\", \"ticks\": \"\"}, \"bgcolor\": \"#E5ECF6\", \"radialaxis\": {\"gridcolor\": \"white\", \"linecolor\": \"white\", \"ticks\": \"\"}}, \"scene\": {\"xaxis\": {\"backgroundcolor\": \"#E5ECF6\", \"gridcolor\": \"white\", \"gridwidth\": 2, \"linecolor\": \"white\", \"showbackground\": true, \"ticks\": \"\", \"zerolinecolor\": \"white\"}, \"yaxis\": {\"backgroundcolor\": \"#E5ECF6\", \"gridcolor\": \"white\", \"gridwidth\": 2, \"linecolor\": \"white\", \"showbackground\": true, \"ticks\": \"\", \"zerolinecolor\": \"white\"}, \"zaxis\": {\"backgroundcolor\": \"#E5ECF6\", \"gridcolor\": \"white\", \"gridwidth\": 2, \"linecolor\": \"white\", \"showbackground\": true, \"ticks\": \"\", \"zerolinecolor\": \"white\"}}, \"shapedefaults\": {\"line\": {\"color\": \"#2a3f5f\"}}, \"ternary\": {\"aaxis\": {\"gridcolor\": \"white\", \"linecolor\": \"white\", \"ticks\": \"\"}, \"baxis\": {\"gridcolor\": \"white\", \"linecolor\": \"white\", \"ticks\": \"\"}, \"bgcolor\": \"#E5ECF6\", \"caxis\": {\"gridcolor\": \"white\", \"linecolor\": \"white\", \"ticks\": \"\"}}, \"title\": {\"x\": 0.05}, \"xaxis\": {\"automargin\": true, \"gridcolor\": \"white\", \"linecolor\": \"white\", \"ticks\": \"\", \"title\": {\"standoff\": 15}, \"zerolinecolor\": \"white\", \"zerolinewidth\": 2}, \"yaxis\": {\"automargin\": true, \"gridcolor\": \"white\", \"linecolor\": \"white\", \"ticks\": \"\", \"title\": {\"standoff\": 15}, \"zerolinecolor\": \"white\", \"zerolinewidth\": 2}}}, \"title\": {\"font\": {\"color\": \"#4D5663\"}}, \"xaxis\": {\"gridcolor\": \"#E1E5ED\", \"showgrid\": true, \"tickfont\": {\"color\": \"#4D5663\"}, \"title\": {\"font\": {\"color\": \"#4D5663\"}, \"text\": \"\"}, \"zerolinecolor\": \"#E1E5ED\"}, \"yaxis\": {\"gridcolor\": \"#E1E5ED\", \"showgrid\": true, \"tickfont\": {\"color\": \"#4D5663\"}, \"title\": {\"font\": {\"color\": \"#4D5663\"}, \"text\": \"\"}, \"zerolinecolor\": \"#E1E5ED\"}},\n",
              "                        {\"showLink\": true, \"linkText\": \"Export to plot.ly\", \"plotlyServerURL\": \"https://plot.ly\", \"responsive\": true}\n",
              "                    ).then(function(){\n",
              "                            \n",
              "var gd = document.getElementById('740746a4-bea1-49fa-8dff-14823b649d37');\n",
              "var x = new MutationObserver(function (mutations, observer) {{\n",
              "        var display = window.getComputedStyle(gd).display;\n",
              "        if (!display || display === 'none') {{\n",
              "            console.log([gd, 'removed!']);\n",
              "            Plotly.purge(gd);\n",
              "            observer.disconnect();\n",
              "        }}\n",
              "}});\n",
              "\n",
              "// Listen for the removal of the full notebook cells\n",
              "var notebookContainer = gd.closest('#notebook-container');\n",
              "if (notebookContainer) {{\n",
              "    x.observe(notebookContainer, {childList: true});\n",
              "}}\n",
              "\n",
              "// Listen for the clearing of the current output cell\n",
              "var outputEl = gd.closest('.output');\n",
              "if (outputEl) {{\n",
              "    x.observe(outputEl, {childList: true});\n",
              "}}\n",
              "\n",
              "                        })\n",
              "                };\n",
              "                });\n",
              "            </script>\n",
              "        </div>"
            ],
            "application/vnd.plotly.v1+json": {
              "data": [
                {
                  "name": "A",
                  "text": "",
                  "mode": "lines",
                  "y": [
                    -2.068481242470521,
                    -0.06830072174778413,
                    0.34686815459740566,
                    1.7404560246674383,
                    0.260145933794787,
                    -1.6687556797736214,
                    1.2128292608384186,
                    1.276759847076379,
                    0.012589088341520047,
                    0.6837240475443442,
                    -0.5102467506900561,
                    -0.7782360903554235,
                    -2.341546922060079,
                    0.39173212431984145,
                    0.15323339526132104,
                    0.3104819072155177,
                    -0.44218825427175923,
                    -0.32150902708869994,
                    -0.033858181247083445,
                    0.3359230701195722,
                    0.8022437874387931,
                    0.03601910255625717,
                    -0.4061836761174409,
                    -0.4003801133136168,
                    0.10092907154841461,
                    1.5233562187288536,
                    -0.36722594437827283,
                    0.03253231846998982,
                    -2.282982536415899,
                    0.5830802711190498,
                    -0.4311524540735369,
                    1.1614317023417755,
                    -0.10426289520479025,
                    -1.1212768013578707,
                    0.06334068027172927,
                    0.01630376329550353,
                    -0.45457557725717207,
                    -0.938789821802139,
                    0.06099939323351222,
                    0.35887818748664885,
                    -0.843793734057207,
                    0.0478569867049216,
                    -0.2417538602769474,
                    -0.038942887102078806,
                    0.053593639039046,
                    -1.2211623482179648,
                    -0.17036200068698545,
                    -0.4443887116011843,
                    0.37019280008777267,
                    1.5443258334719654,
                    -0.6181394088457115,
                    -0.45792799326957373,
                    -1.9361516681418143,
                    0.7434597203247988,
                    -0.5108806403318328,
                    0.16514967255301594,
                    0.4775907874146169,
                    -0.4774554221272687,
                    0.2419944748702217,
                    0.5181025641411692,
                    0.06948103228401782,
                    -0.08102350563166708,
                    -0.5632934821646675,
                    -0.10831738227239747,
                    1.7327185525045936,
                    0.3704868260629756,
                    -0.5159738914988036,
                    0.6967248312772667,
                    0.9729344612886184,
                    0.04693965652740349,
                    1.1054124247780315,
                    -1.217420888691861,
                    -0.38814588141461437,
                    -1.0796755270554717,
                    -1.0958149053019528,
                    -2.3417318911687075,
                    -0.011587462929148149,
                    0.9095237774878863,
                    -0.02621533665839742,
                    0.8466593311125113,
                    -0.7175705015184023,
                    -0.19377387371188784,
                    -0.5783852466829044,
                    -0.13044163951325857,
                    1.066628215523557,
                    0.26129669924845683,
                    2.0189419209649317,
                    -1.3553670039412815,
                    0.5018501059843185,
                    0.6531387684143183,
                    1.9022631291702592,
                    -1.2934389171784868,
                    0.06544750594269423,
                    0.8411001692608153,
                    0.5580249008107335,
                    1.9956733413950396,
                    -0.5021972339098685,
                    -0.47316947988094754,
                    -1.114299172278719,
                    1.3644252487147408
                  ],
                  "x": [
                    0,
                    1,
                    2,
                    3,
                    4,
                    5,
                    6,
                    7,
                    8,
                    9,
                    10,
                    11,
                    12,
                    13,
                    14,
                    15,
                    16,
                    17,
                    18,
                    19,
                    20,
                    21,
                    22,
                    23,
                    24,
                    25,
                    26,
                    27,
                    28,
                    29,
                    30,
                    31,
                    32,
                    33,
                    34,
                    35,
                    36,
                    37,
                    38,
                    39,
                    40,
                    41,
                    42,
                    43,
                    44,
                    45,
                    46,
                    47,
                    48,
                    49,
                    50,
                    51,
                    52,
                    53,
                    54,
                    55,
                    56,
                    57,
                    58,
                    59,
                    60,
                    61,
                    62,
                    63,
                    64,
                    65,
                    66,
                    67,
                    68,
                    69,
                    70,
                    71,
                    72,
                    73,
                    74,
                    75,
                    76,
                    77,
                    78,
                    79,
                    80,
                    81,
                    82,
                    83,
                    84,
                    85,
                    86,
                    87,
                    88,
                    89,
                    90,
                    91,
                    92,
                    93,
                    94,
                    95,
                    96,
                    97,
                    98,
                    99
                  ],
                  "line": {
                    "color": "rgba(255, 153, 51, 1.0)",
                    "dash": "solid",
                    "shape": "linear",
                    "width": 1.3
                  },
                  "type": "scatter"
                },
                {
                  "name": "B",
                  "text": "",
                  "mode": "lines",
                  "y": [
                    0.13546053507022923,
                    0.8528952539056167,
                    -0.9120473287918056,
                    -0.4360167071034324,
                    0.4030021035722929,
                    0.21845456351115183,
                    -1.5146188477997056,
                    -1.1081262345827807,
                    0.2505550893228284,
                    -1.089754160529704,
                    -1.999471543859598,
                    -0.13298981222990705,
                    0.7083688242077885,
                    -0.7428531839143373,
                    1.2717469173085532,
                    -0.7243561359853562,
                    -1.4370056513901115,
                    -0.8578890500584263,
                    -0.5199289547555342,
                    -0.9858204761709641,
                    0.7502511092487195,
                    -0.9622680220774841,
                    0.8606852397738878,
                    -0.3529663721617263,
                    -1.7724111999399959,
                    0.11671383039125793,
                    2.1104136856870674,
                    -0.058342444826866936,
                    2.028760783982244,
                    0.6055565892850192,
                    1.343911038550699,
                    0.5764709024505792,
                    0.2573852649890621,
                    -2.5497668496098447,
                    -0.9505829571138086,
                    0.07158004593194874,
                    -1.1320989581537642,
                    1.2498551328713434,
                    -0.5411155904440764,
                    1.9433075662035164,
                    -0.6390591873405453,
                    0.206562955695758,
                    0.24791031488052412,
                    1.2761130220428456,
                    -0.43330761534391343,
                    -0.6646931807852855,
                    1.0006041439810665,
                    0.24950232089024862,
                    1.824582338513296,
                    -0.33503434728787385,
                    -0.10390476120042613,
                    2.0558297587310213,
                    2.4705327300888382,
                    0.24641029074204315,
                    0.891406383668593,
                    -0.4460375336323596,
                    -0.05403819614345976,
                    0.6069379690402813,
                    -0.6584213592294729,
                    -0.6804624868343676,
                    0.3554374013526221,
                    -0.6197422292201394,
                    -1.4363793854686329,
                    0.6391732419232593,
                    1.5260538377224617,
                    -1.327403466180733,
                    0.46678698493924725,
                    1.5618372075729798,
                    0.1771511713172017,
                    -0.1471852825641017,
                    0.758092470021777,
                    -1.531560505955019,
                    -0.5331876622432652,
                    -1.8806673130309681,
                    0.4339395458758081,
                    0.7287842973459717,
                    0.5843657299612066,
                    0.5675425116136315,
                    1.5051957081584857,
                    0.9984576089198394,
                    -1.361450265891984,
                    -0.05477528106219799,
                    0.651652184054883,
                    1.8956547523097942,
                    0.960325494070041,
                    0.6333460121494614,
                    -0.23176142161827948,
                    -1.4147891851188463,
                    -0.47355461876870314,
                    0.24759608652395304,
                    0.6919142969542673,
                    -0.33833598108215074,
                    0.1537146391163577,
                    -0.9427824418183438,
                    -1.0535415962258836,
                    -0.46097231553426254,
                    -2.5076551988203275,
                    -0.43772317036284325,
                    0.7570175143322317,
                    0.4828692956441521
                  ],
                  "x": [
                    0,
                    1,
                    2,
                    3,
                    4,
                    5,
                    6,
                    7,
                    8,
                    9,
                    10,
                    11,
                    12,
                    13,
                    14,
                    15,
                    16,
                    17,
                    18,
                    19,
                    20,
                    21,
                    22,
                    23,
                    24,
                    25,
                    26,
                    27,
                    28,
                    29,
                    30,
                    31,
                    32,
                    33,
                    34,
                    35,
                    36,
                    37,
                    38,
                    39,
                    40,
                    41,
                    42,
                    43,
                    44,
                    45,
                    46,
                    47,
                    48,
                    49,
                    50,
                    51,
                    52,
                    53,
                    54,
                    55,
                    56,
                    57,
                    58,
                    59,
                    60,
                    61,
                    62,
                    63,
                    64,
                    65,
                    66,
                    67,
                    68,
                    69,
                    70,
                    71,
                    72,
                    73,
                    74,
                    75,
                    76,
                    77,
                    78,
                    79,
                    80,
                    81,
                    82,
                    83,
                    84,
                    85,
                    86,
                    87,
                    88,
                    89,
                    90,
                    91,
                    92,
                    93,
                    94,
                    95,
                    96,
                    97,
                    98,
                    99
                  ],
                  "line": {
                    "color": "rgba(55, 128, 191, 1.0)",
                    "dash": "solid",
                    "shape": "linear",
                    "width": 1.3
                  },
                  "type": "scatter"
                },
                {
                  "name": "C",
                  "text": "",
                  "mode": "lines",
                  "y": [
                    -0.4490965191707045,
                    -1.3566624199171347,
                    0.11010174114668976,
                    -1.2059230985671745,
                    -1.293518642299254,
                    0.0768114429111746,
                    2.0713794720510563,
                    -1.6136102766998872,
                    -2.1183418088097254,
                    0.6584018977466556,
                    -0.5819428441757667,
                    0.5471898408441686,
                    -1.8244706216056903,
                    -0.35890916630399583,
                    1.138641041310387,
                    0.31611546567849097,
                    1.0559771602321337,
                    0.33767317562215937,
                    0.3033628923796153,
                    -1.4335836985969974,
                    1.2096368994544906,
                    0.20689061625255836,
                    0.09488785762250992,
                    0.5617887062170834,
                    0.023154308790518715,
                    0.15168789975164204,
                    -0.6180336191881293,
                    0.20622837757895413,
                    0.6485714799411542,
                    1.1963676140509656,
                    0.1654910893430052,
                    0.5749779562163441,
                    0.16108900684868976,
                    0.3485567916805989,
                    0.3152055370319175,
                    0.08180464812136456,
                    0.020620326956704384,
                    -1.5596986546230043,
                    -0.2778496376241181,
                    -0.8177813904604749,
                    -0.047248911278135124,
                    -0.26675964256587714,
                    0.33145366006431287,
                    0.4435718943527746,
                    1.0834591102193718,
                    1.1181927159205571,
                    0.4670669747598463,
                    -0.5329526643065524,
                    -0.44635128706169075,
                    0.014871920137131739,
                    1.3812612374583608,
                    1.8920639380885012,
                    0.5653173636965959,
                    -1.098288205522477,
                    -0.382976691456405,
                    -2.0462213086186645,
                    -0.20451968519589875,
                    0.07856773595182073,
                    0.6306289545841886,
                    -0.8110523405607823,
                    -2.0899974454372776,
                    0.056410401765543884,
                    -0.47904391491468185,
                    0.9888181876263,
                    0.7921507229057528,
                    0.6588455707730912,
                    -1.0117051153143026,
                    -0.7401670941766406,
                    -1.1019512930005688,
                    -0.2330072114146048,
                    0.14678659128359187,
                    -0.016972325384005515,
                    0.538226961324923,
                    -0.5527431124284627,
                    0.21787234394765675,
                    0.5775448863301242,
                    -0.18725702030590544,
                    0.2586947836219987,
                    -0.2720062991616586,
                    0.4956980999399173,
                    -0.2248874208324263,
                    1.046876962247096,
                    0.8739057120388894,
                    -1.324810905399333,
                    -1.8895230890311145,
                    0.8985423817325691,
                    -0.4134721022129727,
                    0.07172149869464005,
                    -1.6381683038387536,
                    0.42538928588685265,
                    -1.1191856963454359,
                    0.32398329622996735,
                    -1.3591175956603858,
                    -1.9028566688666586,
                    -0.6817634816272062,
                    0.2312632966984241,
                    0.6224618814324517,
                    -0.8694786005425781,
                    0.847084292335929,
                    -0.8414877548342978
                  ],
                  "x": [
                    0,
                    1,
                    2,
                    3,
                    4,
                    5,
                    6,
                    7,
                    8,
                    9,
                    10,
                    11,
                    12,
                    13,
                    14,
                    15,
                    16,
                    17,
                    18,
                    19,
                    20,
                    21,
                    22,
                    23,
                    24,
                    25,
                    26,
                    27,
                    28,
                    29,
                    30,
                    31,
                    32,
                    33,
                    34,
                    35,
                    36,
                    37,
                    38,
                    39,
                    40,
                    41,
                    42,
                    43,
                    44,
                    45,
                    46,
                    47,
                    48,
                    49,
                    50,
                    51,
                    52,
                    53,
                    54,
                    55,
                    56,
                    57,
                    58,
                    59,
                    60,
                    61,
                    62,
                    63,
                    64,
                    65,
                    66,
                    67,
                    68,
                    69,
                    70,
                    71,
                    72,
                    73,
                    74,
                    75,
                    76,
                    77,
                    78,
                    79,
                    80,
                    81,
                    82,
                    83,
                    84,
                    85,
                    86,
                    87,
                    88,
                    89,
                    90,
                    91,
                    92,
                    93,
                    94,
                    95,
                    96,
                    97,
                    98,
                    99
                  ],
                  "line": {
                    "color": "rgba(50, 171, 96, 1.0)",
                    "dash": "solid",
                    "shape": "linear",
                    "width": 1.3
                  },
                  "type": "scatter"
                },
                {
                  "name": "D",
                  "text": "",
                  "mode": "lines",
                  "y": [
                    0.16576029040650397,
                    0.7353781184301128,
                    -0.39635288312626415,
                    0.8460923805492866,
                    0.5834280340395386,
                    0.022668873850809287,
                    -0.7232984540044319,
                    -1.3150340581479074,
                    -0.34117426376557675,
                    -2.2039151686405045,
                    -0.5540034393317983,
                    -0.5365510263084331,
                    0.9514694148660698,
                    1.6093071684143965,
                    0.5349031444835803,
                    0.8762223684320477,
                    1.4173775406277183,
                    -0.45892366941253027,
                    0.7759706357601053,
                    -0.5231570619640878,
                    -0.7912812214498252,
                    1.1391103980200354,
                    1.040790199323024,
                    -0.730873434869637,
                    1.3493645268911796,
                    0.9317563929515158,
                    0.7580306180283228,
                    0.5878386227634674,
                    1.4326486013465392,
                    -0.20720218629137235,
                    0.24776731941903588,
                    0.07369409703522996,
                    0.5523389535964915,
                    -1.4225823164676166,
                    -0.31366079651470147,
                    0.2462780623614397,
                    -0.9525515029157212,
                    -1.5060095118808454,
                    0.16157669330880778,
                    0.2202473096122514,
                    0.25515230298668984,
                    0.1415806575371722,
                    1.0454826460039028,
                    -1.6395532056044337,
                    -1.1480878621577313,
                    -0.21767196576881243,
                    0.6097280023008594,
                    1.0273906539859419,
                    -1.2546164856141788,
                    1.6795186133330808,
                    -1.2917753905896583,
                    1.4376577079402262,
                    2.042611479515502,
                    0.17051851887980343,
                    0.02899488058209822,
                    0.24876373421094727,
                    0.06601973384186423,
                    0.22350253848511487,
                    0.8241801220068634,
                    0.03501063486091633,
                    0.7539071353594212,
                    0.03488923989617106,
                    -1.45547407467105,
                    -0.5359645108060322,
                    -1.284504149525958,
                    0.7162679959699161,
                    -0.5031833256993665,
                    1.8929389937029355,
                    0.09901562576215357,
                    -0.10940178309595011,
                    2.1374057165810063,
                    -0.2027529518230585,
                    -0.04669371402278774,
                    -1.1166007758302954,
                    -1.110979136920132,
                    0.9459463660753293,
                    0.27097005719316825,
                    -1.7625289736087093,
                    0.8351417325563205,
                    -1.6945826582379722,
                    -0.2656569433609975,
                    -0.8769678330899084,
                    -0.8152967764266832,
                    0.19939256166508265,
                    0.5460777371186833,
                    1.458413440508323,
                    -0.533553934042059,
                    0.936768896712938,
                    -1.5020610105474623,
                    -0.3740943538418646,
                    -0.46449150985624155,
                    0.09247526313675637,
                    0.4408967762354214,
                    -0.6062745194800315,
                    -0.0868526946804238,
                    0.2379988912040208,
                    -0.34447098504535295,
                    1.4294961780936741,
                    -0.010673807091225312,
                    0.04162518036338937
                  ],
                  "x": [
                    0,
                    1,
                    2,
                    3,
                    4,
                    5,
                    6,
                    7,
                    8,
                    9,
                    10,
                    11,
                    12,
                    13,
                    14,
                    15,
                    16,
                    17,
                    18,
                    19,
                    20,
                    21,
                    22,
                    23,
                    24,
                    25,
                    26,
                    27,
                    28,
                    29,
                    30,
                    31,
                    32,
                    33,
                    34,
                    35,
                    36,
                    37,
                    38,
                    39,
                    40,
                    41,
                    42,
                    43,
                    44,
                    45,
                    46,
                    47,
                    48,
                    49,
                    50,
                    51,
                    52,
                    53,
                    54,
                    55,
                    56,
                    57,
                    58,
                    59,
                    60,
                    61,
                    62,
                    63,
                    64,
                    65,
                    66,
                    67,
                    68,
                    69,
                    70,
                    71,
                    72,
                    73,
                    74,
                    75,
                    76,
                    77,
                    78,
                    79,
                    80,
                    81,
                    82,
                    83,
                    84,
                    85,
                    86,
                    87,
                    88,
                    89,
                    90,
                    91,
                    92,
                    93,
                    94,
                    95,
                    96,
                    97,
                    98,
                    99
                  ],
                  "line": {
                    "color": "rgba(128, 0, 128, 1.0)",
                    "dash": "solid",
                    "shape": "linear",
                    "width": 1.3
                  },
                  "type": "scatter"
                }
              ],
              "config": {
                "plotlyServerURL": "https://plot.ly",
                "linkText": "Export to plot.ly",
                "showLink": true
              },
              "layout": {
                "template": {
                  "layout": {
                    "shapedefaults": {
                      "line": {
                        "color": "#2a3f5f"
                      }
                    },
                    "polar": {
                      "radialaxis": {
                        "ticks": "",
                        "gridcolor": "white",
                        "linecolor": "white"
                      },
                      "bgcolor": "#E5ECF6",
                      "angularaxis": {
                        "ticks": "",
                        "gridcolor": "white",
                        "linecolor": "white"
                      }
                    },
                    "colorway": [
                      "#636efa",
                      "#EF553B",
                      "#00cc96",
                      "#ab63fa",
                      "#FFA15A",
                      "#19d3f3",
                      "#FF6692",
                      "#B6E880",
                      "#FF97FF",
                      "#FECB52"
                    ],
                    "xaxis": {
                      "automargin": true,
                      "title": {
                        "standoff": 15
                      },
                      "zerolinewidth": 2,
                      "ticks": "",
                      "zerolinecolor": "white",
                      "gridcolor": "white",
                      "linecolor": "white"
                    },
                    "colorscale": {
                      "diverging": [
                        [
                          0,
                          "#8e0152"
                        ],
                        [
                          0.1,
                          "#c51b7d"
                        ],
                        [
                          0.2,
                          "#de77ae"
                        ],
                        [
                          0.3,
                          "#f1b6da"
                        ],
                        [
                          0.4,
                          "#fde0ef"
                        ],
                        [
                          0.5,
                          "#f7f7f7"
                        ],
                        [
                          0.6,
                          "#e6f5d0"
                        ],
                        [
                          0.7,
                          "#b8e186"
                        ],
                        [
                          0.8,
                          "#7fbc41"
                        ],
                        [
                          0.9,
                          "#4d9221"
                        ],
                        [
                          1,
                          "#276419"
                        ]
                      ],
                      "sequential": [
                        [
                          0,
                          "#0d0887"
                        ],
                        [
                          0.1111111111111111,
                          "#46039f"
                        ],
                        [
                          0.2222222222222222,
                          "#7201a8"
                        ],
                        [
                          0.3333333333333333,
                          "#9c179e"
                        ],
                        [
                          0.4444444444444444,
                          "#bd3786"
                        ],
                        [
                          0.5555555555555556,
                          "#d8576b"
                        ],
                        [
                          0.6666666666666666,
                          "#ed7953"
                        ],
                        [
                          0.7777777777777778,
                          "#fb9f3a"
                        ],
                        [
                          0.8888888888888888,
                          "#fdca26"
                        ],
                        [
                          1,
                          "#f0f921"
                        ]
                      ],
                      "sequentialminus": [
                        [
                          0,
                          "#0d0887"
                        ],
                        [
                          0.1111111111111111,
                          "#46039f"
                        ],
                        [
                          0.2222222222222222,
                          "#7201a8"
                        ],
                        [
                          0.3333333333333333,
                          "#9c179e"
                        ],
                        [
                          0.4444444444444444,
                          "#bd3786"
                        ],
                        [
                          0.5555555555555556,
                          "#d8576b"
                        ],
                        [
                          0.6666666666666666,
                          "#ed7953"
                        ],
                        [
                          0.7777777777777778,
                          "#fb9f3a"
                        ],
                        [
                          0.8888888888888888,
                          "#fdca26"
                        ],
                        [
                          1,
                          "#f0f921"
                        ]
                      ]
                    },
                    "paper_bgcolor": "white",
                    "plot_bgcolor": "#E5ECF6",
                    "title": {
                      "x": 0.05
                    },
                    "scene": {
                      "zaxis": {
                        "backgroundcolor": "#E5ECF6",
                        "ticks": "",
                        "gridwidth": 2,
                        "showbackground": true,
                        "zerolinecolor": "white",
                        "gridcolor": "white",
                        "linecolor": "white"
                      },
                      "xaxis": {
                        "backgroundcolor": "#E5ECF6",
                        "ticks": "",
                        "gridwidth": 2,
                        "showbackground": true,
                        "zerolinecolor": "white",
                        "gridcolor": "white",
                        "linecolor": "white"
                      },
                      "yaxis": {
                        "backgroundcolor": "#E5ECF6",
                        "ticks": "",
                        "gridwidth": 2,
                        "showbackground": true,
                        "zerolinecolor": "white",
                        "gridcolor": "white",
                        "linecolor": "white"
                      }
                    },
                    "yaxis": {
                      "automargin": true,
                      "title": {
                        "standoff": 15
                      },
                      "zerolinewidth": 2,
                      "ticks": "",
                      "zerolinecolor": "white",
                      "gridcolor": "white",
                      "linecolor": "white"
                    },
                    "annotationdefaults": {
                      "arrowwidth": 1,
                      "arrowhead": 0,
                      "arrowcolor": "#2a3f5f"
                    },
                    "hoverlabel": {
                      "align": "left"
                    },
                    "ternary": {
                      "bgcolor": "#E5ECF6",
                      "baxis": {
                        "ticks": "",
                        "gridcolor": "white",
                        "linecolor": "white"
                      },
                      "caxis": {
                        "ticks": "",
                        "gridcolor": "white",
                        "linecolor": "white"
                      },
                      "aaxis": {
                        "ticks": "",
                        "gridcolor": "white",
                        "linecolor": "white"
                      }
                    },
                    "mapbox": {
                      "style": "light"
                    },
                    "hovermode": "closest",
                    "font": {
                      "color": "#2a3f5f"
                    },
                    "geo": {
                      "showland": true,
                      "landcolor": "#E5ECF6",
                      "showlakes": true,
                      "bgcolor": "white",
                      "subunitcolor": "white",
                      "lakecolor": "white"
                    },
                    "coloraxis": {
                      "colorbar": {
                        "outlinewidth": 0,
                        "ticks": ""
                      }
                    }
                  },
                  "data": {
                    "mesh3d": [
                      {
                        "colorbar": {
                          "outlinewidth": 0,
                          "ticks": ""
                        },
                        "type": "mesh3d"
                      }
                    ],
                    "scattercarpet": [
                      {
                        "marker": {
                          "colorbar": {
                            "outlinewidth": 0,
                            "ticks": ""
                          }
                        },
                        "type": "scattercarpet"
                      }
                    ],
                    "pie": [
                      {
                        "automargin": true,
                        "type": "pie"
                      }
                    ],
                    "surface": [
                      {
                        "colorbar": {
                          "outlinewidth": 0,
                          "ticks": ""
                        },
                        "type": "surface",
                        "colorscale": [
                          [
                            0,
                            "#0d0887"
                          ],
                          [
                            0.1111111111111111,
                            "#46039f"
                          ],
                          [
                            0.2222222222222222,
                            "#7201a8"
                          ],
                          [
                            0.3333333333333333,
                            "#9c179e"
                          ],
                          [
                            0.4444444444444444,
                            "#bd3786"
                          ],
                          [
                            0.5555555555555556,
                            "#d8576b"
                          ],
                          [
                            0.6666666666666666,
                            "#ed7953"
                          ],
                          [
                            0.7777777777777778,
                            "#fb9f3a"
                          ],
                          [
                            0.8888888888888888,
                            "#fdca26"
                          ],
                          [
                            1,
                            "#f0f921"
                          ]
                        ]
                      }
                    ],
                    "table": [
                      {
                        "header": {
                          "line": {
                            "color": "white"
                          },
                          "fill": {
                            "color": "#C8D4E3"
                          }
                        },
                        "cells": {
                          "line": {
                            "color": "white"
                          },
                          "fill": {
                            "color": "#EBF0F8"
                          }
                        },
                        "type": "table"
                      }
                    ],
                    "scatterpolargl": [
                      {
                        "marker": {
                          "colorbar": {
                            "outlinewidth": 0,
                            "ticks": ""
                          }
                        },
                        "type": "scatterpolargl"
                      }
                    ],
                    "contour": [
                      {
                        "colorbar": {
                          "outlinewidth": 0,
                          "ticks": ""
                        },
                        "type": "contour",
                        "colorscale": [
                          [
                            0,
                            "#0d0887"
                          ],
                          [
                            0.1111111111111111,
                            "#46039f"
                          ],
                          [
                            0.2222222222222222,
                            "#7201a8"
                          ],
                          [
                            0.3333333333333333,
                            "#9c179e"
                          ],
                          [
                            0.4444444444444444,
                            "#bd3786"
                          ],
                          [
                            0.5555555555555556,
                            "#d8576b"
                          ],
                          [
                            0.6666666666666666,
                            "#ed7953"
                          ],
                          [
                            0.7777777777777778,
                            "#fb9f3a"
                          ],
                          [
                            0.8888888888888888,
                            "#fdca26"
                          ],
                          [
                            1,
                            "#f0f921"
                          ]
                        ]
                      }
                    ],
                    "carpet": [
                      {
                        "type": "carpet",
                        "baxis": {
                          "minorgridcolor": "white",
                          "gridcolor": "white",
                          "linecolor": "white",
                          "endlinecolor": "#2a3f5f",
                          "startlinecolor": "#2a3f5f"
                        },
                        "aaxis": {
                          "minorgridcolor": "white",
                          "gridcolor": "white",
                          "linecolor": "white",
                          "endlinecolor": "#2a3f5f",
                          "startlinecolor": "#2a3f5f"
                        }
                      }
                    ],
                    "contourcarpet": [
                      {
                        "colorbar": {
                          "outlinewidth": 0,
                          "ticks": ""
                        },
                        "type": "contourcarpet"
                      }
                    ],
                    "heatmap": [
                      {
                        "colorbar": {
                          "outlinewidth": 0,
                          "ticks": ""
                        },
                        "type": "heatmap",
                        "colorscale": [
                          [
                            0,
                            "#0d0887"
                          ],
                          [
                            0.1111111111111111,
                            "#46039f"
                          ],
                          [
                            0.2222222222222222,
                            "#7201a8"
                          ],
                          [
                            0.3333333333333333,
                            "#9c179e"
                          ],
                          [
                            0.4444444444444444,
                            "#bd3786"
                          ],
                          [
                            0.5555555555555556,
                            "#d8576b"
                          ],
                          [
                            0.6666666666666666,
                            "#ed7953"
                          ],
                          [
                            0.7777777777777778,
                            "#fb9f3a"
                          ],
                          [
                            0.8888888888888888,
                            "#fdca26"
                          ],
                          [
                            1,
                            "#f0f921"
                          ]
                        ]
                      }
                    ],
                    "scattermapbox": [
                      {
                        "marker": {
                          "colorbar": {
                            "outlinewidth": 0,
                            "ticks": ""
                          }
                        },
                        "type": "scattermapbox"
                      }
                    ],
                    "scatter3d": [
                      {
                        "marker": {
                          "colorbar": {
                            "outlinewidth": 0,
                            "ticks": ""
                          }
                        },
                        "line": {
                          "colorbar": {
                            "outlinewidth": 0,
                            "ticks": ""
                          }
                        },
                        "type": "scatter3d"
                      }
                    ],
                    "scattergl": [
                      {
                        "marker": {
                          "colorbar": {
                            "outlinewidth": 0,
                            "ticks": ""
                          }
                        },
                        "type": "scattergl"
                      }
                    ],
                    "scatterternary": [
                      {
                        "marker": {
                          "colorbar": {
                            "outlinewidth": 0,
                            "ticks": ""
                          }
                        },
                        "type": "scatterternary"
                      }
                    ],
                    "histogram": [
                      {
                        "marker": {
                          "colorbar": {
                            "outlinewidth": 0,
                            "ticks": ""
                          }
                        },
                        "type": "histogram"
                      }
                    ],
                    "heatmapgl": [
                      {
                        "colorbar": {
                          "outlinewidth": 0,
                          "ticks": ""
                        },
                        "type": "heatmapgl",
                        "colorscale": [
                          [
                            0,
                            "#0d0887"
                          ],
                          [
                            0.1111111111111111,
                            "#46039f"
                          ],
                          [
                            0.2222222222222222,
                            "#7201a8"
                          ],
                          [
                            0.3333333333333333,
                            "#9c179e"
                          ],
                          [
                            0.4444444444444444,
                            "#bd3786"
                          ],
                          [
                            0.5555555555555556,
                            "#d8576b"
                          ],
                          [
                            0.6666666666666666,
                            "#ed7953"
                          ],
                          [
                            0.7777777777777778,
                            "#fb9f3a"
                          ],
                          [
                            0.8888888888888888,
                            "#fdca26"
                          ],
                          [
                            1,
                            "#f0f921"
                          ]
                        ]
                      }
                    ],
                    "scatterpolar": [
                      {
                        "marker": {
                          "colorbar": {
                            "outlinewidth": 0,
                            "ticks": ""
                          }
                        },
                        "type": "scatterpolar"
                      }
                    ],
                    "histogram2d": [
                      {
                        "colorbar": {
                          "outlinewidth": 0,
                          "ticks": ""
                        },
                        "type": "histogram2d",
                        "colorscale": [
                          [
                            0,
                            "#0d0887"
                          ],
                          [
                            0.1111111111111111,
                            "#46039f"
                          ],
                          [
                            0.2222222222222222,
                            "#7201a8"
                          ],
                          [
                            0.3333333333333333,
                            "#9c179e"
                          ],
                          [
                            0.4444444444444444,
                            "#bd3786"
                          ],
                          [
                            0.5555555555555556,
                            "#d8576b"
                          ],
                          [
                            0.6666666666666666,
                            "#ed7953"
                          ],
                          [
                            0.7777777777777778,
                            "#fb9f3a"
                          ],
                          [
                            0.8888888888888888,
                            "#fdca26"
                          ],
                          [
                            1,
                            "#f0f921"
                          ]
                        ]
                      }
                    ],
                    "scattergeo": [
                      {
                        "marker": {
                          "colorbar": {
                            "outlinewidth": 0,
                            "ticks": ""
                          }
                        },
                        "type": "scattergeo"
                      }
                    ],
                    "bar": [
                      {
                        "marker": {
                          "line": {
                            "color": "#E5ECF6",
                            "width": 0.5
                          }
                        },
                        "type": "bar",
                        "error_x": {
                          "color": "#2a3f5f"
                        },
                        "error_y": {
                          "color": "#2a3f5f"
                        }
                      }
                    ],
                    "choropleth": [
                      {
                        "colorbar": {
                          "outlinewidth": 0,
                          "ticks": ""
                        },
                        "type": "choropleth"
                      }
                    ],
                    "parcoords": [
                      {
                        "line": {
                          "colorbar": {
                            "outlinewidth": 0,
                            "ticks": ""
                          }
                        },
                        "type": "parcoords"
                      }
                    ],
                    "barpolar": [
                      {
                        "marker": {
                          "line": {
                            "color": "#E5ECF6",
                            "width": 0.5
                          }
                        },
                        "type": "barpolar"
                      }
                    ],
                    "histogram2dcontour": [
                      {
                        "colorbar": {
                          "outlinewidth": 0,
                          "ticks": ""
                        },
                        "type": "histogram2dcontour",
                        "colorscale": [
                          [
                            0,
                            "#0d0887"
                          ],
                          [
                            0.1111111111111111,
                            "#46039f"
                          ],
                          [
                            0.2222222222222222,
                            "#7201a8"
                          ],
                          [
                            0.3333333333333333,
                            "#9c179e"
                          ],
                          [
                            0.4444444444444444,
                            "#bd3786"
                          ],
                          [
                            0.5555555555555556,
                            "#d8576b"
                          ],
                          [
                            0.6666666666666666,
                            "#ed7953"
                          ],
                          [
                            0.7777777777777778,
                            "#fb9f3a"
                          ],
                          [
                            0.8888888888888888,
                            "#fdca26"
                          ],
                          [
                            1,
                            "#f0f921"
                          ]
                        ]
                      }
                    ],
                    "scatter": [
                      {
                        "marker": {
                          "colorbar": {
                            "outlinewidth": 0,
                            "ticks": ""
                          }
                        },
                        "type": "scatter"
                      }
                    ]
                  }
                },
                "title": {
                  "font": {
                    "color": "#4D5663"
                  }
                },
                "paper_bgcolor": "#F5F6F9",
                "plot_bgcolor": "#F5F6F9",
                "yaxis": {
                  "tickfont": {
                    "color": "#4D5663"
                  },
                  "zerolinecolor": "#E1E5ED",
                  "title": {
                    "text": "",
                    "font": {
                      "color": "#4D5663"
                    }
                  },
                  "gridcolor": "#E1E5ED",
                  "showgrid": true
                },
                "xaxis": {
                  "tickfont": {
                    "color": "#4D5663"
                  },
                  "zerolinecolor": "#E1E5ED",
                  "title": {
                    "text": "",
                    "font": {
                      "color": "#4D5663"
                    }
                  },
                  "gridcolor": "#E1E5ED",
                  "showgrid": true
                },
                "legend": {
                  "bgcolor": "#F5F6F9",
                  "font": {
                    "color": "#4D5663"
                  }
                }
              }
            }
          },
          "metadata": {
            "tags": []
          }
        }
      ]
    },
    {
      "cell_type": "code",
      "metadata": {
        "id": "6_buKfuJhJIC",
        "colab_type": "code",
        "colab": {}
      },
      "source": [
        "import plotly.io as pio"
      ],
      "execution_count": 0,
      "outputs": []
    },
    {
      "cell_type": "code",
      "metadata": {
        "id": "Rr_peIhTjmhK",
        "colab_type": "code",
        "colab": {
          "base_uri": "https://localhost:8080/",
          "height": 168
        },
        "outputId": "6217c7e2-8553-48c5-92e0-84bcc7ab120d"
      },
      "source": [
        "pio.renderers"
      ],
      "execution_count": 44,
      "outputs": [
        {
          "output_type": "execute_result",
          "data": {
            "text/plain": [
              "Renderers configuration\n",
              "-----------------------\n",
              "    Default renderer: 'plotly_mimetype+notebook_connected'\n",
              "    Available renderers:\n",
              "        ['plotly_mimetype', 'jupyterlab', 'nteract', 'vscode',\n",
              "         'notebook', 'notebook_connected', 'kaggle', 'azure', 'colab',\n",
              "         'cocalc', 'databricks', 'json', 'png', 'jpeg', 'jpg', 'svg',\n",
              "         'pdf', 'browser', 'firefox', 'chrome', 'chromium', 'iframe',\n",
              "         'iframe_connected', 'sphinx_gallery']"
            ]
          },
          "metadata": {
            "tags": []
          },
          "execution_count": 44
        }
      ]
    },
    {
      "cell_type": "code",
      "metadata": {
        "id": "AwNSW-Drjnw8",
        "colab_type": "code",
        "colab": {}
      },
      "source": [
        "pio.renderers.default = 'colab'"
      ],
      "execution_count": 0,
      "outputs": []
    },
    {
      "cell_type": "code",
      "metadata": {
        "id": "G3BXSMEDjr-a",
        "colab_type": "code",
        "colab": {
          "base_uri": "https://localhost:8080/",
          "height": 542
        },
        "outputId": "45b5ec6e-68df-44cc-abe1-150f515199e8"
      },
      "source": [
        "df.iplot()"
      ],
      "execution_count": 46,
      "outputs": [
        {
          "output_type": "display_data",
          "data": {
            "text/html": [
              "<html>\n",
              "<head><meta charset=\"utf-8\" /></head>\n",
              "<body>\n",
              "    <div>\n",
              "            <script src=\"https://cdnjs.cloudflare.com/ajax/libs/mathjax/2.7.5/MathJax.js?config=TeX-AMS-MML_SVG\"></script><script type=\"text/javascript\">if (window.MathJax) {MathJax.Hub.Config({SVG: {font: \"STIX-Web\"}});}</script>\n",
              "                <script type=\"text/javascript\">window.PlotlyConfig = {MathJaxConfig: 'local'};</script>\n",
              "        <script src=\"https://cdn.plot.ly/plotly-latest.min.js\"></script>    \n",
              "            <div id=\"a6c64df9-c0ef-46bf-ad50-07b28be83ff7\" class=\"plotly-graph-div\" style=\"height:525px; width:100%;\"></div>\n",
              "            <script type=\"text/javascript\">\n",
              "                \n",
              "                    window.PLOTLYENV=window.PLOTLYENV || {};\n",
              "                    window.PLOTLYENV.BASE_URL='https://plot.ly';\n",
              "                    \n",
              "                if (document.getElementById(\"a6c64df9-c0ef-46bf-ad50-07b28be83ff7\")) {\n",
              "                    Plotly.newPlot(\n",
              "                        'a6c64df9-c0ef-46bf-ad50-07b28be83ff7',\n",
              "                        [{\"line\": {\"color\": \"rgba(255, 153, 51, 1.0)\", \"dash\": \"solid\", \"shape\": \"linear\", \"width\": 1.3}, \"mode\": \"lines\", \"name\": \"A\", \"text\": \"\", \"type\": \"scatter\", \"x\": [0, 1, 2, 3, 4, 5, 6, 7, 8, 9, 10, 11, 12, 13, 14, 15, 16, 17, 18, 19, 20, 21, 22, 23, 24, 25, 26, 27, 28, 29, 30, 31, 32, 33, 34, 35, 36, 37, 38, 39, 40, 41, 42, 43, 44, 45, 46, 47, 48, 49, 50, 51, 52, 53, 54, 55, 56, 57, 58, 59, 60, 61, 62, 63, 64, 65, 66, 67, 68, 69, 70, 71, 72, 73, 74, 75, 76, 77, 78, 79, 80, 81, 82, 83, 84, 85, 86, 87, 88, 89, 90, 91, 92, 93, 94, 95, 96, 97, 98, 99], \"y\": [-2.068481242470521, -0.06830072174778413, 0.34686815459740566, 1.7404560246674383, 0.260145933794787, -1.6687556797736214, 1.2128292608384186, 1.276759847076379, 0.012589088341520047, 0.6837240475443442, -0.5102467506900561, -0.7782360903554235, -2.341546922060079, 0.39173212431984145, 0.15323339526132104, 0.3104819072155177, -0.44218825427175923, -0.32150902708869994, -0.033858181247083445, 0.3359230701195722, 0.8022437874387931, 0.03601910255625717, -0.4061836761174409, -0.4003801133136168, 0.10092907154841461, 1.5233562187288536, -0.36722594437827283, 0.03253231846998982, -2.282982536415899, 0.5830802711190498, -0.4311524540735369, 1.1614317023417755, -0.10426289520479025, -1.1212768013578707, 0.06334068027172927, 0.01630376329550353, -0.45457557725717207, -0.938789821802139, 0.06099939323351222, 0.35887818748664885, -0.843793734057207, 0.0478569867049216, -0.2417538602769474, -0.038942887102078806, 0.053593639039046, -1.2211623482179648, -0.17036200068698545, -0.4443887116011843, 0.37019280008777267, 1.5443258334719654, -0.6181394088457115, -0.45792799326957373, -1.9361516681418143, 0.7434597203247988, -0.5108806403318328, 0.16514967255301594, 0.4775907874146169, -0.4774554221272687, 0.2419944748702217, 0.5181025641411692, 0.06948103228401782, -0.08102350563166708, -0.5632934821646675, -0.10831738227239747, 1.7327185525045936, 0.3704868260629756, -0.5159738914988036, 0.6967248312772667, 0.9729344612886184, 0.04693965652740349, 1.1054124247780315, -1.217420888691861, -0.38814588141461437, -1.0796755270554717, -1.0958149053019528, -2.3417318911687075, -0.011587462929148149, 0.9095237774878863, -0.02621533665839742, 0.8466593311125113, -0.7175705015184023, -0.19377387371188784, -0.5783852466829044, -0.13044163951325857, 1.066628215523557, 0.26129669924845683, 2.0189419209649317, -1.3553670039412815, 0.5018501059843185, 0.6531387684143183, 1.9022631291702592, -1.2934389171784868, 0.06544750594269423, 0.8411001692608153, 0.5580249008107335, 1.9956733413950396, -0.5021972339098685, -0.47316947988094754, -1.114299172278719, 1.3644252487147408]}, {\"line\": {\"color\": \"rgba(55, 128, 191, 1.0)\", \"dash\": \"solid\", \"shape\": \"linear\", \"width\": 1.3}, \"mode\": \"lines\", \"name\": \"B\", \"text\": \"\", \"type\": \"scatter\", \"x\": [0, 1, 2, 3, 4, 5, 6, 7, 8, 9, 10, 11, 12, 13, 14, 15, 16, 17, 18, 19, 20, 21, 22, 23, 24, 25, 26, 27, 28, 29, 30, 31, 32, 33, 34, 35, 36, 37, 38, 39, 40, 41, 42, 43, 44, 45, 46, 47, 48, 49, 50, 51, 52, 53, 54, 55, 56, 57, 58, 59, 60, 61, 62, 63, 64, 65, 66, 67, 68, 69, 70, 71, 72, 73, 74, 75, 76, 77, 78, 79, 80, 81, 82, 83, 84, 85, 86, 87, 88, 89, 90, 91, 92, 93, 94, 95, 96, 97, 98, 99], \"y\": [0.13546053507022923, 0.8528952539056167, -0.9120473287918056, -0.4360167071034324, 0.4030021035722929, 0.21845456351115183, -1.5146188477997056, -1.1081262345827807, 0.2505550893228284, -1.089754160529704, -1.999471543859598, -0.13298981222990705, 0.7083688242077885, -0.7428531839143373, 1.2717469173085532, -0.7243561359853562, -1.4370056513901115, -0.8578890500584263, -0.5199289547555342, -0.9858204761709641, 0.7502511092487195, -0.9622680220774841, 0.8606852397738878, -0.3529663721617263, -1.7724111999399959, 0.11671383039125793, 2.1104136856870674, -0.058342444826866936, 2.028760783982244, 0.6055565892850192, 1.343911038550699, 0.5764709024505792, 0.2573852649890621, -2.5497668496098447, -0.9505829571138086, 0.07158004593194874, -1.1320989581537642, 1.2498551328713434, -0.5411155904440764, 1.9433075662035164, -0.6390591873405453, 0.206562955695758, 0.24791031488052412, 1.2761130220428456, -0.43330761534391343, -0.6646931807852855, 1.0006041439810665, 0.24950232089024862, 1.824582338513296, -0.33503434728787385, -0.10390476120042613, 2.0558297587310213, 2.4705327300888382, 0.24641029074204315, 0.891406383668593, -0.4460375336323596, -0.05403819614345976, 0.6069379690402813, -0.6584213592294729, -0.6804624868343676, 0.3554374013526221, -0.6197422292201394, -1.4363793854686329, 0.6391732419232593, 1.5260538377224617, -1.327403466180733, 0.46678698493924725, 1.5618372075729798, 0.1771511713172017, -0.1471852825641017, 0.758092470021777, -1.531560505955019, -0.5331876622432652, -1.8806673130309681, 0.4339395458758081, 0.7287842973459717, 0.5843657299612066, 0.5675425116136315, 1.5051957081584857, 0.9984576089198394, -1.361450265891984, -0.05477528106219799, 0.651652184054883, 1.8956547523097942, 0.960325494070041, 0.6333460121494614, -0.23176142161827948, -1.4147891851188463, -0.47355461876870314, 0.24759608652395304, 0.6919142969542673, -0.33833598108215074, 0.1537146391163577, -0.9427824418183438, -1.0535415962258836, -0.46097231553426254, -2.5076551988203275, -0.43772317036284325, 0.7570175143322317, 0.4828692956441521]}, {\"line\": {\"color\": \"rgba(50, 171, 96, 1.0)\", \"dash\": \"solid\", \"shape\": \"linear\", \"width\": 1.3}, \"mode\": \"lines\", \"name\": \"C\", \"text\": \"\", \"type\": \"scatter\", \"x\": [0, 1, 2, 3, 4, 5, 6, 7, 8, 9, 10, 11, 12, 13, 14, 15, 16, 17, 18, 19, 20, 21, 22, 23, 24, 25, 26, 27, 28, 29, 30, 31, 32, 33, 34, 35, 36, 37, 38, 39, 40, 41, 42, 43, 44, 45, 46, 47, 48, 49, 50, 51, 52, 53, 54, 55, 56, 57, 58, 59, 60, 61, 62, 63, 64, 65, 66, 67, 68, 69, 70, 71, 72, 73, 74, 75, 76, 77, 78, 79, 80, 81, 82, 83, 84, 85, 86, 87, 88, 89, 90, 91, 92, 93, 94, 95, 96, 97, 98, 99], \"y\": [-0.4490965191707045, -1.3566624199171347, 0.11010174114668976, -1.2059230985671745, -1.293518642299254, 0.0768114429111746, 2.0713794720510563, -1.6136102766998872, -2.1183418088097254, 0.6584018977466556, -0.5819428441757667, 0.5471898408441686, -1.8244706216056903, -0.35890916630399583, 1.138641041310387, 0.31611546567849097, 1.0559771602321337, 0.33767317562215937, 0.3033628923796153, -1.4335836985969974, 1.2096368994544906, 0.20689061625255836, 0.09488785762250992, 0.5617887062170834, 0.023154308790518715, 0.15168789975164204, -0.6180336191881293, 0.20622837757895413, 0.6485714799411542, 1.1963676140509656, 0.1654910893430052, 0.5749779562163441, 0.16108900684868976, 0.3485567916805989, 0.3152055370319175, 0.08180464812136456, 0.020620326956704384, -1.5596986546230043, -0.2778496376241181, -0.8177813904604749, -0.047248911278135124, -0.26675964256587714, 0.33145366006431287, 0.4435718943527746, 1.0834591102193718, 1.1181927159205571, 0.4670669747598463, -0.5329526643065524, -0.44635128706169075, 0.014871920137131739, 1.3812612374583608, 1.8920639380885012, 0.5653173636965959, -1.098288205522477, -0.382976691456405, -2.0462213086186645, -0.20451968519589875, 0.07856773595182073, 0.6306289545841886, -0.8110523405607823, -2.0899974454372776, 0.056410401765543884, -0.47904391491468185, 0.9888181876263, 0.7921507229057528, 0.6588455707730912, -1.0117051153143026, -0.7401670941766406, -1.1019512930005688, -0.2330072114146048, 0.14678659128359187, -0.016972325384005515, 0.538226961324923, -0.5527431124284627, 0.21787234394765675, 0.5775448863301242, -0.18725702030590544, 0.2586947836219987, -0.2720062991616586, 0.4956980999399173, -0.2248874208324263, 1.046876962247096, 0.8739057120388894, -1.324810905399333, -1.8895230890311145, 0.8985423817325691, -0.4134721022129727, 0.07172149869464005, -1.6381683038387536, 0.42538928588685265, -1.1191856963454359, 0.32398329622996735, -1.3591175956603858, -1.9028566688666586, -0.6817634816272062, 0.2312632966984241, 0.6224618814324517, -0.8694786005425781, 0.847084292335929, -0.8414877548342978]}, {\"line\": {\"color\": \"rgba(128, 0, 128, 1.0)\", \"dash\": \"solid\", \"shape\": \"linear\", \"width\": 1.3}, \"mode\": \"lines\", \"name\": \"D\", \"text\": \"\", \"type\": \"scatter\", \"x\": [0, 1, 2, 3, 4, 5, 6, 7, 8, 9, 10, 11, 12, 13, 14, 15, 16, 17, 18, 19, 20, 21, 22, 23, 24, 25, 26, 27, 28, 29, 30, 31, 32, 33, 34, 35, 36, 37, 38, 39, 40, 41, 42, 43, 44, 45, 46, 47, 48, 49, 50, 51, 52, 53, 54, 55, 56, 57, 58, 59, 60, 61, 62, 63, 64, 65, 66, 67, 68, 69, 70, 71, 72, 73, 74, 75, 76, 77, 78, 79, 80, 81, 82, 83, 84, 85, 86, 87, 88, 89, 90, 91, 92, 93, 94, 95, 96, 97, 98, 99], \"y\": [0.16576029040650397, 0.7353781184301128, -0.39635288312626415, 0.8460923805492866, 0.5834280340395386, 0.022668873850809287, -0.7232984540044319, -1.3150340581479074, -0.34117426376557675, -2.2039151686405045, -0.5540034393317983, -0.5365510263084331, 0.9514694148660698, 1.6093071684143965, 0.5349031444835803, 0.8762223684320477, 1.4173775406277183, -0.45892366941253027, 0.7759706357601053, -0.5231570619640878, -0.7912812214498252, 1.1391103980200354, 1.040790199323024, -0.730873434869637, 1.3493645268911796, 0.9317563929515158, 0.7580306180283228, 0.5878386227634674, 1.4326486013465392, -0.20720218629137235, 0.24776731941903588, 0.07369409703522996, 0.5523389535964915, -1.4225823164676166, -0.31366079651470147, 0.2462780623614397, -0.9525515029157212, -1.5060095118808454, 0.16157669330880778, 0.2202473096122514, 0.25515230298668984, 0.1415806575371722, 1.0454826460039028, -1.6395532056044337, -1.1480878621577313, -0.21767196576881243, 0.6097280023008594, 1.0273906539859419, -1.2546164856141788, 1.6795186133330808, -1.2917753905896583, 1.4376577079402262, 2.042611479515502, 0.17051851887980343, 0.02899488058209822, 0.24876373421094727, 0.06601973384186423, 0.22350253848511487, 0.8241801220068634, 0.03501063486091633, 0.7539071353594212, 0.03488923989617106, -1.45547407467105, -0.5359645108060322, -1.284504149525958, 0.7162679959699161, -0.5031833256993665, 1.8929389937029355, 0.09901562576215357, -0.10940178309595011, 2.1374057165810063, -0.2027529518230585, -0.04669371402278774, -1.1166007758302954, -1.110979136920132, 0.9459463660753293, 0.27097005719316825, -1.7625289736087093, 0.8351417325563205, -1.6945826582379722, -0.2656569433609975, -0.8769678330899084, -0.8152967764266832, 0.19939256166508265, 0.5460777371186833, 1.458413440508323, -0.533553934042059, 0.936768896712938, -1.5020610105474623, -0.3740943538418646, -0.46449150985624155, 0.09247526313675637, 0.4408967762354214, -0.6062745194800315, -0.0868526946804238, 0.2379988912040208, -0.34447098504535295, 1.4294961780936741, -0.010673807091225312, 0.04162518036338937]}],\n",
              "                        {\"legend\": {\"bgcolor\": \"#F5F6F9\", \"font\": {\"color\": \"#4D5663\"}}, \"paper_bgcolor\": \"#F5F6F9\", \"plot_bgcolor\": \"#F5F6F9\", \"template\": {\"data\": {\"bar\": [{\"error_x\": {\"color\": \"#2a3f5f\"}, \"error_y\": {\"color\": \"#2a3f5f\"}, \"marker\": {\"line\": {\"color\": \"#E5ECF6\", \"width\": 0.5}}, \"type\": \"bar\"}], \"barpolar\": [{\"marker\": {\"line\": {\"color\": \"#E5ECF6\", \"width\": 0.5}}, \"type\": \"barpolar\"}], \"carpet\": [{\"aaxis\": {\"endlinecolor\": \"#2a3f5f\", \"gridcolor\": \"white\", \"linecolor\": \"white\", \"minorgridcolor\": \"white\", \"startlinecolor\": \"#2a3f5f\"}, \"baxis\": {\"endlinecolor\": \"#2a3f5f\", \"gridcolor\": \"white\", \"linecolor\": \"white\", \"minorgridcolor\": \"white\", \"startlinecolor\": \"#2a3f5f\"}, \"type\": \"carpet\"}], \"choropleth\": [{\"colorbar\": {\"outlinewidth\": 0, \"ticks\": \"\"}, \"type\": \"choropleth\"}], \"contour\": [{\"colorbar\": {\"outlinewidth\": 0, \"ticks\": \"\"}, \"colorscale\": [[0.0, \"#0d0887\"], [0.1111111111111111, \"#46039f\"], [0.2222222222222222, \"#7201a8\"], [0.3333333333333333, \"#9c179e\"], [0.4444444444444444, \"#bd3786\"], [0.5555555555555556, \"#d8576b\"], [0.6666666666666666, \"#ed7953\"], [0.7777777777777778, \"#fb9f3a\"], [0.8888888888888888, \"#fdca26\"], [1.0, \"#f0f921\"]], \"type\": \"contour\"}], \"contourcarpet\": [{\"colorbar\": {\"outlinewidth\": 0, \"ticks\": \"\"}, \"type\": \"contourcarpet\"}], \"heatmap\": [{\"colorbar\": {\"outlinewidth\": 0, \"ticks\": \"\"}, \"colorscale\": [[0.0, \"#0d0887\"], [0.1111111111111111, \"#46039f\"], [0.2222222222222222, \"#7201a8\"], [0.3333333333333333, \"#9c179e\"], [0.4444444444444444, \"#bd3786\"], [0.5555555555555556, \"#d8576b\"], [0.6666666666666666, \"#ed7953\"], [0.7777777777777778, \"#fb9f3a\"], [0.8888888888888888, \"#fdca26\"], [1.0, \"#f0f921\"]], \"type\": \"heatmap\"}], \"heatmapgl\": [{\"colorbar\": {\"outlinewidth\": 0, \"ticks\": \"\"}, \"colorscale\": [[0.0, \"#0d0887\"], [0.1111111111111111, \"#46039f\"], [0.2222222222222222, \"#7201a8\"], [0.3333333333333333, \"#9c179e\"], [0.4444444444444444, \"#bd3786\"], [0.5555555555555556, \"#d8576b\"], [0.6666666666666666, \"#ed7953\"], [0.7777777777777778, \"#fb9f3a\"], [0.8888888888888888, \"#fdca26\"], [1.0, \"#f0f921\"]], \"type\": \"heatmapgl\"}], \"histogram\": [{\"marker\": {\"colorbar\": {\"outlinewidth\": 0, \"ticks\": \"\"}}, \"type\": \"histogram\"}], \"histogram2d\": [{\"colorbar\": {\"outlinewidth\": 0, \"ticks\": \"\"}, \"colorscale\": [[0.0, \"#0d0887\"], [0.1111111111111111, \"#46039f\"], [0.2222222222222222, \"#7201a8\"], [0.3333333333333333, \"#9c179e\"], [0.4444444444444444, \"#bd3786\"], [0.5555555555555556, \"#d8576b\"], [0.6666666666666666, \"#ed7953\"], [0.7777777777777778, \"#fb9f3a\"], [0.8888888888888888, \"#fdca26\"], [1.0, \"#f0f921\"]], \"type\": \"histogram2d\"}], \"histogram2dcontour\": [{\"colorbar\": {\"outlinewidth\": 0, \"ticks\": \"\"}, \"colorscale\": [[0.0, \"#0d0887\"], [0.1111111111111111, \"#46039f\"], [0.2222222222222222, \"#7201a8\"], [0.3333333333333333, \"#9c179e\"], [0.4444444444444444, \"#bd3786\"], [0.5555555555555556, \"#d8576b\"], [0.6666666666666666, \"#ed7953\"], [0.7777777777777778, \"#fb9f3a\"], [0.8888888888888888, \"#fdca26\"], [1.0, \"#f0f921\"]], \"type\": \"histogram2dcontour\"}], \"mesh3d\": [{\"colorbar\": {\"outlinewidth\": 0, \"ticks\": \"\"}, \"type\": \"mesh3d\"}], \"parcoords\": [{\"line\": {\"colorbar\": {\"outlinewidth\": 0, \"ticks\": \"\"}}, \"type\": \"parcoords\"}], \"pie\": [{\"automargin\": true, \"type\": \"pie\"}], \"scatter\": [{\"marker\": {\"colorbar\": {\"outlinewidth\": 0, \"ticks\": \"\"}}, \"type\": \"scatter\"}], \"scatter3d\": [{\"line\": {\"colorbar\": {\"outlinewidth\": 0, \"ticks\": \"\"}}, \"marker\": {\"colorbar\": {\"outlinewidth\": 0, \"ticks\": \"\"}}, \"type\": \"scatter3d\"}], \"scattercarpet\": [{\"marker\": {\"colorbar\": {\"outlinewidth\": 0, \"ticks\": \"\"}}, \"type\": \"scattercarpet\"}], \"scattergeo\": [{\"marker\": {\"colorbar\": {\"outlinewidth\": 0, \"ticks\": \"\"}}, \"type\": \"scattergeo\"}], \"scattergl\": [{\"marker\": {\"colorbar\": {\"outlinewidth\": 0, \"ticks\": \"\"}}, \"type\": \"scattergl\"}], \"scattermapbox\": [{\"marker\": {\"colorbar\": {\"outlinewidth\": 0, \"ticks\": \"\"}}, \"type\": \"scattermapbox\"}], \"scatterpolar\": [{\"marker\": {\"colorbar\": {\"outlinewidth\": 0, \"ticks\": \"\"}}, \"type\": \"scatterpolar\"}], \"scatterpolargl\": [{\"marker\": {\"colorbar\": {\"outlinewidth\": 0, \"ticks\": \"\"}}, \"type\": \"scatterpolargl\"}], \"scatterternary\": [{\"marker\": {\"colorbar\": {\"outlinewidth\": 0, \"ticks\": \"\"}}, \"type\": \"scatterternary\"}], \"surface\": [{\"colorbar\": {\"outlinewidth\": 0, \"ticks\": \"\"}, \"colorscale\": [[0.0, \"#0d0887\"], [0.1111111111111111, \"#46039f\"], [0.2222222222222222, \"#7201a8\"], [0.3333333333333333, \"#9c179e\"], [0.4444444444444444, \"#bd3786\"], [0.5555555555555556, \"#d8576b\"], [0.6666666666666666, \"#ed7953\"], [0.7777777777777778, \"#fb9f3a\"], [0.8888888888888888, \"#fdca26\"], [1.0, \"#f0f921\"]], \"type\": \"surface\"}], \"table\": [{\"cells\": {\"fill\": {\"color\": \"#EBF0F8\"}, \"line\": {\"color\": \"white\"}}, \"header\": {\"fill\": {\"color\": \"#C8D4E3\"}, \"line\": {\"color\": \"white\"}}, \"type\": \"table\"}]}, \"layout\": {\"annotationdefaults\": {\"arrowcolor\": \"#2a3f5f\", \"arrowhead\": 0, \"arrowwidth\": 1}, \"coloraxis\": {\"colorbar\": {\"outlinewidth\": 0, \"ticks\": \"\"}}, \"colorscale\": {\"diverging\": [[0, \"#8e0152\"], [0.1, \"#c51b7d\"], [0.2, \"#de77ae\"], [0.3, \"#f1b6da\"], [0.4, \"#fde0ef\"], [0.5, \"#f7f7f7\"], [0.6, \"#e6f5d0\"], [0.7, \"#b8e186\"], [0.8, \"#7fbc41\"], [0.9, \"#4d9221\"], [1, \"#276419\"]], \"sequential\": [[0.0, \"#0d0887\"], [0.1111111111111111, \"#46039f\"], [0.2222222222222222, \"#7201a8\"], [0.3333333333333333, \"#9c179e\"], [0.4444444444444444, \"#bd3786\"], [0.5555555555555556, \"#d8576b\"], [0.6666666666666666, \"#ed7953\"], [0.7777777777777778, \"#fb9f3a\"], [0.8888888888888888, \"#fdca26\"], [1.0, \"#f0f921\"]], \"sequentialminus\": [[0.0, \"#0d0887\"], [0.1111111111111111, \"#46039f\"], [0.2222222222222222, \"#7201a8\"], [0.3333333333333333, \"#9c179e\"], [0.4444444444444444, \"#bd3786\"], [0.5555555555555556, \"#d8576b\"], [0.6666666666666666, \"#ed7953\"], [0.7777777777777778, \"#fb9f3a\"], [0.8888888888888888, \"#fdca26\"], [1.0, \"#f0f921\"]]}, \"colorway\": [\"#636efa\", \"#EF553B\", \"#00cc96\", \"#ab63fa\", \"#FFA15A\", \"#19d3f3\", \"#FF6692\", \"#B6E880\", \"#FF97FF\", \"#FECB52\"], \"font\": {\"color\": \"#2a3f5f\"}, \"geo\": {\"bgcolor\": \"white\", \"lakecolor\": \"white\", \"landcolor\": \"#E5ECF6\", \"showlakes\": true, \"showland\": true, \"subunitcolor\": \"white\"}, \"hoverlabel\": {\"align\": \"left\"}, \"hovermode\": \"closest\", \"mapbox\": {\"style\": \"light\"}, \"paper_bgcolor\": \"white\", \"plot_bgcolor\": \"#E5ECF6\", \"polar\": {\"angularaxis\": {\"gridcolor\": \"white\", \"linecolor\": \"white\", \"ticks\": \"\"}, \"bgcolor\": \"#E5ECF6\", \"radialaxis\": {\"gridcolor\": \"white\", \"linecolor\": \"white\", \"ticks\": \"\"}}, \"scene\": {\"xaxis\": {\"backgroundcolor\": \"#E5ECF6\", \"gridcolor\": \"white\", \"gridwidth\": 2, \"linecolor\": \"white\", \"showbackground\": true, \"ticks\": \"\", \"zerolinecolor\": \"white\"}, \"yaxis\": {\"backgroundcolor\": \"#E5ECF6\", \"gridcolor\": \"white\", \"gridwidth\": 2, \"linecolor\": \"white\", \"showbackground\": true, \"ticks\": \"\", \"zerolinecolor\": \"white\"}, \"zaxis\": {\"backgroundcolor\": \"#E5ECF6\", \"gridcolor\": \"white\", \"gridwidth\": 2, \"linecolor\": \"white\", \"showbackground\": true, \"ticks\": \"\", \"zerolinecolor\": \"white\"}}, \"shapedefaults\": {\"line\": {\"color\": \"#2a3f5f\"}}, \"ternary\": {\"aaxis\": {\"gridcolor\": \"white\", \"linecolor\": \"white\", \"ticks\": \"\"}, \"baxis\": {\"gridcolor\": \"white\", \"linecolor\": \"white\", \"ticks\": \"\"}, \"bgcolor\": \"#E5ECF6\", \"caxis\": {\"gridcolor\": \"white\", \"linecolor\": \"white\", \"ticks\": \"\"}}, \"title\": {\"x\": 0.05}, \"xaxis\": {\"automargin\": true, \"gridcolor\": \"white\", \"linecolor\": \"white\", \"ticks\": \"\", \"title\": {\"standoff\": 15}, \"zerolinecolor\": \"white\", \"zerolinewidth\": 2}, \"yaxis\": {\"automargin\": true, \"gridcolor\": \"white\", \"linecolor\": \"white\", \"ticks\": \"\", \"title\": {\"standoff\": 15}, \"zerolinecolor\": \"white\", \"zerolinewidth\": 2}}}, \"title\": {\"font\": {\"color\": \"#4D5663\"}}, \"xaxis\": {\"gridcolor\": \"#E1E5ED\", \"showgrid\": true, \"tickfont\": {\"color\": \"#4D5663\"}, \"title\": {\"font\": {\"color\": \"#4D5663\"}, \"text\": \"\"}, \"zerolinecolor\": \"#E1E5ED\"}, \"yaxis\": {\"gridcolor\": \"#E1E5ED\", \"showgrid\": true, \"tickfont\": {\"color\": \"#4D5663\"}, \"title\": {\"font\": {\"color\": \"#4D5663\"}, \"text\": \"\"}, \"zerolinecolor\": \"#E1E5ED\"}},\n",
              "                        {\"showLink\": true, \"linkText\": \"Export to plot.ly\", \"plotlyServerURL\": \"https://plot.ly\", \"responsive\": true}\n",
              "                    ).then(function(){\n",
              "                            \n",
              "var gd = document.getElementById('a6c64df9-c0ef-46bf-ad50-07b28be83ff7');\n",
              "var x = new MutationObserver(function (mutations, observer) {{\n",
              "        var display = window.getComputedStyle(gd).display;\n",
              "        if (!display || display === 'none') {{\n",
              "            console.log([gd, 'removed!']);\n",
              "            Plotly.purge(gd);\n",
              "            observer.disconnect();\n",
              "        }}\n",
              "}});\n",
              "\n",
              "// Listen for the removal of the full notebook cells\n",
              "var notebookContainer = gd.closest('#notebook-container');\n",
              "if (notebookContainer) {{\n",
              "    x.observe(notebookContainer, {childList: true});\n",
              "}}\n",
              "\n",
              "// Listen for the clearing of the current output cell\n",
              "var outputEl = gd.closest('.output');\n",
              "if (outputEl) {{\n",
              "    x.observe(outputEl, {childList: true});\n",
              "}}\n",
              "\n",
              "                        })\n",
              "                };\n",
              "                \n",
              "            </script>\n",
              "        </div>\n",
              "</body>\n",
              "</html>"
            ]
          },
          "metadata": {
            "tags": []
          }
        }
      ]
    },
    {
      "cell_type": "code",
      "metadata": {
        "id": "__AYP7HFjuD1",
        "colab_type": "code",
        "colab": {
          "base_uri": "https://localhost:8080/",
          "height": 542
        },
        "outputId": "534a518d-202e-453a-c416-38f8c228d5a7"
      },
      "source": [
        "df.iplot(kind='scatter',x='A',y='B',mode='markers',size=10)"
      ],
      "execution_count": 52,
      "outputs": [
        {
          "output_type": "display_data",
          "data": {
            "text/html": [
              "<html>\n",
              "<head><meta charset=\"utf-8\" /></head>\n",
              "<body>\n",
              "    <div>\n",
              "            <script src=\"https://cdnjs.cloudflare.com/ajax/libs/mathjax/2.7.5/MathJax.js?config=TeX-AMS-MML_SVG\"></script><script type=\"text/javascript\">if (window.MathJax) {MathJax.Hub.Config({SVG: {font: \"STIX-Web\"}});}</script>\n",
              "                <script type=\"text/javascript\">window.PlotlyConfig = {MathJaxConfig: 'local'};</script>\n",
              "        <script src=\"https://cdn.plot.ly/plotly-latest.min.js\"></script>    \n",
              "            <div id=\"3550ade6-1db9-4cf5-b1d1-5ee70be4a5d9\" class=\"plotly-graph-div\" style=\"height:525px; width:100%;\"></div>\n",
              "            <script type=\"text/javascript\">\n",
              "                \n",
              "                    window.PLOTLYENV=window.PLOTLYENV || {};\n",
              "                    window.PLOTLYENV.BASE_URL='https://plot.ly';\n",
              "                    \n",
              "                if (document.getElementById(\"3550ade6-1db9-4cf5-b1d1-5ee70be4a5d9\")) {\n",
              "                    Plotly.newPlot(\n",
              "                        '3550ade6-1db9-4cf5-b1d1-5ee70be4a5d9',\n",
              "                        [{\"line\": {\"color\": \"rgba(255, 153, 51, 1.0)\", \"dash\": \"solid\", \"shape\": \"linear\", \"width\": 1.3}, \"marker\": {\"size\": 10, \"symbol\": \"circle\"}, \"mode\": \"markers\", \"name\": \"B\", \"text\": \"\", \"type\": \"scatter\", \"x\": [-2.068481242470521, -0.06830072174778413, 0.34686815459740566, 1.7404560246674383, 0.260145933794787, -1.6687556797736214, 1.2128292608384186, 1.276759847076379, 0.012589088341520047, 0.6837240475443442, -0.5102467506900561, -0.7782360903554235, -2.341546922060079, 0.39173212431984145, 0.15323339526132104, 0.3104819072155177, -0.44218825427175923, -0.32150902708869994, -0.033858181247083445, 0.3359230701195722, 0.8022437874387931, 0.03601910255625717, -0.4061836761174409, -0.4003801133136168, 0.10092907154841461, 1.5233562187288536, -0.36722594437827283, 0.03253231846998982, -2.282982536415899, 0.5830802711190498, -0.4311524540735369, 1.1614317023417755, -0.10426289520479025, -1.1212768013578707, 0.06334068027172927, 0.01630376329550353, -0.45457557725717207, -0.938789821802139, 0.06099939323351222, 0.35887818748664885, -0.843793734057207, 0.0478569867049216, -0.2417538602769474, -0.038942887102078806, 0.053593639039046, -1.2211623482179648, -0.17036200068698545, -0.4443887116011843, 0.37019280008777267, 1.5443258334719654, -0.6181394088457115, -0.45792799326957373, -1.9361516681418143, 0.7434597203247988, -0.5108806403318328, 0.16514967255301594, 0.4775907874146169, -0.4774554221272687, 0.2419944748702217, 0.5181025641411692, 0.06948103228401782, -0.08102350563166708, -0.5632934821646675, -0.10831738227239747, 1.7327185525045936, 0.3704868260629756, -0.5159738914988036, 0.6967248312772667, 0.9729344612886184, 0.04693965652740349, 1.1054124247780315, -1.217420888691861, -0.38814588141461437, -1.0796755270554717, -1.0958149053019528, -2.3417318911687075, -0.011587462929148149, 0.9095237774878863, -0.02621533665839742, 0.8466593311125113, -0.7175705015184023, -0.19377387371188784, -0.5783852466829044, -0.13044163951325857, 1.066628215523557, 0.26129669924845683, 2.0189419209649317, -1.3553670039412815, 0.5018501059843185, 0.6531387684143183, 1.9022631291702592, -1.2934389171784868, 0.06544750594269423, 0.8411001692608153, 0.5580249008107335, 1.9956733413950396, -0.5021972339098685, -0.47316947988094754, -1.114299172278719, 1.3644252487147408], \"y\": [0.13546053507022923, 0.8528952539056167, -0.9120473287918056, -0.4360167071034324, 0.4030021035722929, 0.21845456351115183, -1.5146188477997056, -1.1081262345827807, 0.2505550893228284, -1.089754160529704, -1.999471543859598, -0.13298981222990705, 0.7083688242077885, -0.7428531839143373, 1.2717469173085532, -0.7243561359853562, -1.4370056513901115, -0.8578890500584263, -0.5199289547555342, -0.9858204761709641, 0.7502511092487195, -0.9622680220774841, 0.8606852397738878, -0.3529663721617263, -1.7724111999399959, 0.11671383039125793, 2.1104136856870674, -0.058342444826866936, 2.028760783982244, 0.6055565892850192, 1.343911038550699, 0.5764709024505792, 0.2573852649890621, -2.5497668496098447, -0.9505829571138086, 0.07158004593194874, -1.1320989581537642, 1.2498551328713434, -0.5411155904440764, 1.9433075662035164, -0.6390591873405453, 0.206562955695758, 0.24791031488052412, 1.2761130220428456, -0.43330761534391343, -0.6646931807852855, 1.0006041439810665, 0.24950232089024862, 1.824582338513296, -0.33503434728787385, -0.10390476120042613, 2.0558297587310213, 2.4705327300888382, 0.24641029074204315, 0.891406383668593, -0.4460375336323596, -0.05403819614345976, 0.6069379690402813, -0.6584213592294729, -0.6804624868343676, 0.3554374013526221, -0.6197422292201394, -1.4363793854686329, 0.6391732419232593, 1.5260538377224617, -1.327403466180733, 0.46678698493924725, 1.5618372075729798, 0.1771511713172017, -0.1471852825641017, 0.758092470021777, -1.531560505955019, -0.5331876622432652, -1.8806673130309681, 0.4339395458758081, 0.7287842973459717, 0.5843657299612066, 0.5675425116136315, 1.5051957081584857, 0.9984576089198394, -1.361450265891984, -0.05477528106219799, 0.651652184054883, 1.8956547523097942, 0.960325494070041, 0.6333460121494614, -0.23176142161827948, -1.4147891851188463, -0.47355461876870314, 0.24759608652395304, 0.6919142969542673, -0.33833598108215074, 0.1537146391163577, -0.9427824418183438, -1.0535415962258836, -0.46097231553426254, -2.5076551988203275, -0.43772317036284325, 0.7570175143322317, 0.4828692956441521]}],\n",
              "                        {\"legend\": {\"bgcolor\": \"#F5F6F9\", \"font\": {\"color\": \"#4D5663\"}}, \"paper_bgcolor\": \"#F5F6F9\", \"plot_bgcolor\": \"#F5F6F9\", \"template\": {\"data\": {\"bar\": [{\"error_x\": {\"color\": \"#2a3f5f\"}, \"error_y\": {\"color\": \"#2a3f5f\"}, \"marker\": {\"line\": {\"color\": \"#E5ECF6\", \"width\": 0.5}}, \"type\": \"bar\"}], \"barpolar\": [{\"marker\": {\"line\": {\"color\": \"#E5ECF6\", \"width\": 0.5}}, \"type\": \"barpolar\"}], \"carpet\": [{\"aaxis\": {\"endlinecolor\": \"#2a3f5f\", \"gridcolor\": \"white\", \"linecolor\": \"white\", \"minorgridcolor\": \"white\", \"startlinecolor\": \"#2a3f5f\"}, \"baxis\": {\"endlinecolor\": \"#2a3f5f\", \"gridcolor\": \"white\", \"linecolor\": \"white\", \"minorgridcolor\": \"white\", \"startlinecolor\": \"#2a3f5f\"}, \"type\": \"carpet\"}], \"choropleth\": [{\"colorbar\": {\"outlinewidth\": 0, \"ticks\": \"\"}, \"type\": \"choropleth\"}], \"contour\": [{\"colorbar\": {\"outlinewidth\": 0, \"ticks\": \"\"}, \"colorscale\": [[0.0, \"#0d0887\"], [0.1111111111111111, \"#46039f\"], [0.2222222222222222, \"#7201a8\"], [0.3333333333333333, \"#9c179e\"], [0.4444444444444444, \"#bd3786\"], [0.5555555555555556, \"#d8576b\"], [0.6666666666666666, \"#ed7953\"], [0.7777777777777778, \"#fb9f3a\"], [0.8888888888888888, \"#fdca26\"], [1.0, \"#f0f921\"]], \"type\": \"contour\"}], \"contourcarpet\": [{\"colorbar\": {\"outlinewidth\": 0, \"ticks\": \"\"}, \"type\": \"contourcarpet\"}], \"heatmap\": [{\"colorbar\": {\"outlinewidth\": 0, \"ticks\": \"\"}, \"colorscale\": [[0.0, \"#0d0887\"], [0.1111111111111111, \"#46039f\"], [0.2222222222222222, \"#7201a8\"], [0.3333333333333333, \"#9c179e\"], [0.4444444444444444, \"#bd3786\"], [0.5555555555555556, \"#d8576b\"], [0.6666666666666666, \"#ed7953\"], [0.7777777777777778, \"#fb9f3a\"], [0.8888888888888888, \"#fdca26\"], [1.0, \"#f0f921\"]], \"type\": \"heatmap\"}], \"heatmapgl\": [{\"colorbar\": {\"outlinewidth\": 0, \"ticks\": \"\"}, \"colorscale\": [[0.0, \"#0d0887\"], [0.1111111111111111, \"#46039f\"], [0.2222222222222222, \"#7201a8\"], [0.3333333333333333, \"#9c179e\"], [0.4444444444444444, \"#bd3786\"], [0.5555555555555556, \"#d8576b\"], [0.6666666666666666, \"#ed7953\"], [0.7777777777777778, \"#fb9f3a\"], [0.8888888888888888, \"#fdca26\"], [1.0, \"#f0f921\"]], \"type\": \"heatmapgl\"}], \"histogram\": [{\"marker\": {\"colorbar\": {\"outlinewidth\": 0, \"ticks\": \"\"}}, \"type\": \"histogram\"}], \"histogram2d\": [{\"colorbar\": {\"outlinewidth\": 0, \"ticks\": \"\"}, \"colorscale\": [[0.0, \"#0d0887\"], [0.1111111111111111, \"#46039f\"], [0.2222222222222222, \"#7201a8\"], [0.3333333333333333, \"#9c179e\"], [0.4444444444444444, \"#bd3786\"], [0.5555555555555556, \"#d8576b\"], [0.6666666666666666, \"#ed7953\"], [0.7777777777777778, \"#fb9f3a\"], [0.8888888888888888, \"#fdca26\"], [1.0, \"#f0f921\"]], \"type\": \"histogram2d\"}], \"histogram2dcontour\": [{\"colorbar\": {\"outlinewidth\": 0, \"ticks\": \"\"}, \"colorscale\": [[0.0, \"#0d0887\"], [0.1111111111111111, \"#46039f\"], [0.2222222222222222, \"#7201a8\"], [0.3333333333333333, \"#9c179e\"], [0.4444444444444444, \"#bd3786\"], [0.5555555555555556, \"#d8576b\"], [0.6666666666666666, \"#ed7953\"], [0.7777777777777778, \"#fb9f3a\"], [0.8888888888888888, \"#fdca26\"], [1.0, \"#f0f921\"]], \"type\": \"histogram2dcontour\"}], \"mesh3d\": [{\"colorbar\": {\"outlinewidth\": 0, \"ticks\": \"\"}, \"type\": \"mesh3d\"}], \"parcoords\": [{\"line\": {\"colorbar\": {\"outlinewidth\": 0, \"ticks\": \"\"}}, \"type\": \"parcoords\"}], \"pie\": [{\"automargin\": true, \"type\": \"pie\"}], \"scatter\": [{\"marker\": {\"colorbar\": {\"outlinewidth\": 0, \"ticks\": \"\"}}, \"type\": \"scatter\"}], \"scatter3d\": [{\"line\": {\"colorbar\": {\"outlinewidth\": 0, \"ticks\": \"\"}}, \"marker\": {\"colorbar\": {\"outlinewidth\": 0, \"ticks\": \"\"}}, \"type\": \"scatter3d\"}], \"scattercarpet\": [{\"marker\": {\"colorbar\": {\"outlinewidth\": 0, \"ticks\": \"\"}}, \"type\": \"scattercarpet\"}], \"scattergeo\": [{\"marker\": {\"colorbar\": {\"outlinewidth\": 0, \"ticks\": \"\"}}, \"type\": \"scattergeo\"}], \"scattergl\": [{\"marker\": {\"colorbar\": {\"outlinewidth\": 0, \"ticks\": \"\"}}, \"type\": \"scattergl\"}], \"scattermapbox\": [{\"marker\": {\"colorbar\": {\"outlinewidth\": 0, \"ticks\": \"\"}}, \"type\": \"scattermapbox\"}], \"scatterpolar\": [{\"marker\": {\"colorbar\": {\"outlinewidth\": 0, \"ticks\": \"\"}}, \"type\": \"scatterpolar\"}], \"scatterpolargl\": [{\"marker\": {\"colorbar\": {\"outlinewidth\": 0, \"ticks\": \"\"}}, \"type\": \"scatterpolargl\"}], \"scatterternary\": [{\"marker\": {\"colorbar\": {\"outlinewidth\": 0, \"ticks\": \"\"}}, \"type\": \"scatterternary\"}], \"surface\": [{\"colorbar\": {\"outlinewidth\": 0, \"ticks\": \"\"}, \"colorscale\": [[0.0, \"#0d0887\"], [0.1111111111111111, \"#46039f\"], [0.2222222222222222, \"#7201a8\"], [0.3333333333333333, \"#9c179e\"], [0.4444444444444444, \"#bd3786\"], [0.5555555555555556, \"#d8576b\"], [0.6666666666666666, \"#ed7953\"], [0.7777777777777778, \"#fb9f3a\"], [0.8888888888888888, \"#fdca26\"], [1.0, \"#f0f921\"]], \"type\": \"surface\"}], \"table\": [{\"cells\": {\"fill\": {\"color\": \"#EBF0F8\"}, \"line\": {\"color\": \"white\"}}, \"header\": {\"fill\": {\"color\": \"#C8D4E3\"}, \"line\": {\"color\": \"white\"}}, \"type\": \"table\"}]}, \"layout\": {\"annotationdefaults\": {\"arrowcolor\": \"#2a3f5f\", \"arrowhead\": 0, \"arrowwidth\": 1}, \"coloraxis\": {\"colorbar\": {\"outlinewidth\": 0, \"ticks\": \"\"}}, \"colorscale\": {\"diverging\": [[0, \"#8e0152\"], [0.1, \"#c51b7d\"], [0.2, \"#de77ae\"], [0.3, \"#f1b6da\"], [0.4, \"#fde0ef\"], [0.5, \"#f7f7f7\"], [0.6, \"#e6f5d0\"], [0.7, \"#b8e186\"], [0.8, \"#7fbc41\"], [0.9, \"#4d9221\"], [1, \"#276419\"]], \"sequential\": [[0.0, \"#0d0887\"], [0.1111111111111111, \"#46039f\"], [0.2222222222222222, \"#7201a8\"], [0.3333333333333333, \"#9c179e\"], [0.4444444444444444, \"#bd3786\"], [0.5555555555555556, \"#d8576b\"], [0.6666666666666666, \"#ed7953\"], [0.7777777777777778, \"#fb9f3a\"], [0.8888888888888888, \"#fdca26\"], [1.0, \"#f0f921\"]], \"sequentialminus\": [[0.0, \"#0d0887\"], [0.1111111111111111, \"#46039f\"], [0.2222222222222222, \"#7201a8\"], [0.3333333333333333, \"#9c179e\"], [0.4444444444444444, \"#bd3786\"], [0.5555555555555556, \"#d8576b\"], [0.6666666666666666, \"#ed7953\"], [0.7777777777777778, \"#fb9f3a\"], [0.8888888888888888, \"#fdca26\"], [1.0, \"#f0f921\"]]}, \"colorway\": [\"#636efa\", \"#EF553B\", \"#00cc96\", \"#ab63fa\", \"#FFA15A\", \"#19d3f3\", \"#FF6692\", \"#B6E880\", \"#FF97FF\", \"#FECB52\"], \"font\": {\"color\": \"#2a3f5f\"}, \"geo\": {\"bgcolor\": \"white\", \"lakecolor\": \"white\", \"landcolor\": \"#E5ECF6\", \"showlakes\": true, \"showland\": true, \"subunitcolor\": \"white\"}, \"hoverlabel\": {\"align\": \"left\"}, \"hovermode\": \"closest\", \"mapbox\": {\"style\": \"light\"}, \"paper_bgcolor\": \"white\", \"plot_bgcolor\": \"#E5ECF6\", \"polar\": {\"angularaxis\": {\"gridcolor\": \"white\", \"linecolor\": \"white\", \"ticks\": \"\"}, \"bgcolor\": \"#E5ECF6\", \"radialaxis\": {\"gridcolor\": \"white\", \"linecolor\": \"white\", \"ticks\": \"\"}}, \"scene\": {\"xaxis\": {\"backgroundcolor\": \"#E5ECF6\", \"gridcolor\": \"white\", \"gridwidth\": 2, \"linecolor\": \"white\", \"showbackground\": true, \"ticks\": \"\", \"zerolinecolor\": \"white\"}, \"yaxis\": {\"backgroundcolor\": \"#E5ECF6\", \"gridcolor\": \"white\", \"gridwidth\": 2, \"linecolor\": \"white\", \"showbackground\": true, \"ticks\": \"\", \"zerolinecolor\": \"white\"}, \"zaxis\": {\"backgroundcolor\": \"#E5ECF6\", \"gridcolor\": \"white\", \"gridwidth\": 2, \"linecolor\": \"white\", \"showbackground\": true, \"ticks\": \"\", \"zerolinecolor\": \"white\"}}, \"shapedefaults\": {\"line\": {\"color\": \"#2a3f5f\"}}, \"ternary\": {\"aaxis\": {\"gridcolor\": \"white\", \"linecolor\": \"white\", \"ticks\": \"\"}, \"baxis\": {\"gridcolor\": \"white\", \"linecolor\": \"white\", \"ticks\": \"\"}, \"bgcolor\": \"#E5ECF6\", \"caxis\": {\"gridcolor\": \"white\", \"linecolor\": \"white\", \"ticks\": \"\"}}, \"title\": {\"x\": 0.05}, \"xaxis\": {\"automargin\": true, \"gridcolor\": \"white\", \"linecolor\": \"white\", \"ticks\": \"\", \"title\": {\"standoff\": 15}, \"zerolinecolor\": \"white\", \"zerolinewidth\": 2}, \"yaxis\": {\"automargin\": true, \"gridcolor\": \"white\", \"linecolor\": \"white\", \"ticks\": \"\", \"title\": {\"standoff\": 15}, \"zerolinecolor\": \"white\", \"zerolinewidth\": 2}}}, \"title\": {\"font\": {\"color\": \"#4D5663\"}}, \"xaxis\": {\"gridcolor\": \"#E1E5ED\", \"showgrid\": true, \"tickfont\": {\"color\": \"#4D5663\"}, \"title\": {\"font\": {\"color\": \"#4D5663\"}, \"text\": \"\"}, \"zerolinecolor\": \"#E1E5ED\"}, \"yaxis\": {\"gridcolor\": \"#E1E5ED\", \"showgrid\": true, \"tickfont\": {\"color\": \"#4D5663\"}, \"title\": {\"font\": {\"color\": \"#4D5663\"}, \"text\": \"\"}, \"zerolinecolor\": \"#E1E5ED\"}},\n",
              "                        {\"showLink\": true, \"linkText\": \"Export to plot.ly\", \"plotlyServerURL\": \"https://plot.ly\", \"responsive\": true}\n",
              "                    ).then(function(){\n",
              "                            \n",
              "var gd = document.getElementById('3550ade6-1db9-4cf5-b1d1-5ee70be4a5d9');\n",
              "var x = new MutationObserver(function (mutations, observer) {{\n",
              "        var display = window.getComputedStyle(gd).display;\n",
              "        if (!display || display === 'none') {{\n",
              "            console.log([gd, 'removed!']);\n",
              "            Plotly.purge(gd);\n",
              "            observer.disconnect();\n",
              "        }}\n",
              "}});\n",
              "\n",
              "// Listen for the removal of the full notebook cells\n",
              "var notebookContainer = gd.closest('#notebook-container');\n",
              "if (notebookContainer) {{\n",
              "    x.observe(notebookContainer, {childList: true});\n",
              "}}\n",
              "\n",
              "// Listen for the clearing of the current output cell\n",
              "var outputEl = gd.closest('.output');\n",
              "if (outputEl) {{\n",
              "    x.observe(outputEl, {childList: true});\n",
              "}}\n",
              "\n",
              "                        })\n",
              "                };\n",
              "                \n",
              "            </script>\n",
              "        </div>\n",
              "</body>\n",
              "</html>"
            ]
          },
          "metadata": {
            "tags": []
          }
        }
      ]
    },
    {
      "cell_type": "code",
      "metadata": {
        "id": "tUFwtH7O2IqZ",
        "colab_type": "code",
        "colab": {
          "base_uri": "https://localhost:8080/",
          "height": 542
        },
        "outputId": "8f120ea1-701f-4581-df2f-97c6c0cd7aaa"
      },
      "source": [
        "df2.iplot(kind='bar',x='Category',y='Values')"
      ],
      "execution_count": 53,
      "outputs": [
        {
          "output_type": "display_data",
          "data": {
            "text/html": [
              "<html>\n",
              "<head><meta charset=\"utf-8\" /></head>\n",
              "<body>\n",
              "    <div>\n",
              "            <script src=\"https://cdnjs.cloudflare.com/ajax/libs/mathjax/2.7.5/MathJax.js?config=TeX-AMS-MML_SVG\"></script><script type=\"text/javascript\">if (window.MathJax) {MathJax.Hub.Config({SVG: {font: \"STIX-Web\"}});}</script>\n",
              "                <script type=\"text/javascript\">window.PlotlyConfig = {MathJaxConfig: 'local'};</script>\n",
              "        <script src=\"https://cdn.plot.ly/plotly-latest.min.js\"></script>    \n",
              "            <div id=\"1d7c6ac5-f021-462b-bd6c-e9b64902b844\" class=\"plotly-graph-div\" style=\"height:525px; width:100%;\"></div>\n",
              "            <script type=\"text/javascript\">\n",
              "                \n",
              "                    window.PLOTLYENV=window.PLOTLYENV || {};\n",
              "                    window.PLOTLYENV.BASE_URL='https://plot.ly';\n",
              "                    \n",
              "                if (document.getElementById(\"1d7c6ac5-f021-462b-bd6c-e9b64902b844\")) {\n",
              "                    Plotly.newPlot(\n",
              "                        '1d7c6ac5-f021-462b-bd6c-e9b64902b844',\n",
              "                        [{\"marker\": {\"color\": \"rgba(255, 153, 51, 0.6)\", \"line\": {\"color\": \"rgba(255, 153, 51, 1.0)\", \"width\": 1}}, \"name\": \"Values\", \"orientation\": \"v\", \"text\": \"\", \"type\": \"bar\", \"x\": [\"A\", \"B\", \"C\"], \"y\": [23, 54, 43]}],\n",
              "                        {\"legend\": {\"bgcolor\": \"#F5F6F9\", \"font\": {\"color\": \"#4D5663\"}}, \"paper_bgcolor\": \"#F5F6F9\", \"plot_bgcolor\": \"#F5F6F9\", \"template\": {\"data\": {\"bar\": [{\"error_x\": {\"color\": \"#2a3f5f\"}, \"error_y\": {\"color\": \"#2a3f5f\"}, \"marker\": {\"line\": {\"color\": \"#E5ECF6\", \"width\": 0.5}}, \"type\": \"bar\"}], \"barpolar\": [{\"marker\": {\"line\": {\"color\": \"#E5ECF6\", \"width\": 0.5}}, \"type\": \"barpolar\"}], \"carpet\": [{\"aaxis\": {\"endlinecolor\": \"#2a3f5f\", \"gridcolor\": \"white\", \"linecolor\": \"white\", \"minorgridcolor\": \"white\", \"startlinecolor\": \"#2a3f5f\"}, \"baxis\": {\"endlinecolor\": \"#2a3f5f\", \"gridcolor\": \"white\", \"linecolor\": \"white\", \"minorgridcolor\": \"white\", \"startlinecolor\": \"#2a3f5f\"}, \"type\": \"carpet\"}], \"choropleth\": [{\"colorbar\": {\"outlinewidth\": 0, \"ticks\": \"\"}, \"type\": \"choropleth\"}], \"contour\": [{\"colorbar\": {\"outlinewidth\": 0, \"ticks\": \"\"}, \"colorscale\": [[0.0, \"#0d0887\"], [0.1111111111111111, \"#46039f\"], [0.2222222222222222, \"#7201a8\"], [0.3333333333333333, \"#9c179e\"], [0.4444444444444444, \"#bd3786\"], [0.5555555555555556, \"#d8576b\"], [0.6666666666666666, \"#ed7953\"], [0.7777777777777778, \"#fb9f3a\"], [0.8888888888888888, \"#fdca26\"], [1.0, \"#f0f921\"]], \"type\": \"contour\"}], \"contourcarpet\": [{\"colorbar\": {\"outlinewidth\": 0, \"ticks\": \"\"}, \"type\": \"contourcarpet\"}], \"heatmap\": [{\"colorbar\": {\"outlinewidth\": 0, \"ticks\": \"\"}, \"colorscale\": [[0.0, \"#0d0887\"], [0.1111111111111111, \"#46039f\"], [0.2222222222222222, \"#7201a8\"], [0.3333333333333333, \"#9c179e\"], [0.4444444444444444, \"#bd3786\"], [0.5555555555555556, \"#d8576b\"], [0.6666666666666666, \"#ed7953\"], [0.7777777777777778, \"#fb9f3a\"], [0.8888888888888888, \"#fdca26\"], [1.0, \"#f0f921\"]], \"type\": \"heatmap\"}], \"heatmapgl\": [{\"colorbar\": {\"outlinewidth\": 0, \"ticks\": \"\"}, \"colorscale\": [[0.0, \"#0d0887\"], [0.1111111111111111, \"#46039f\"], [0.2222222222222222, \"#7201a8\"], [0.3333333333333333, \"#9c179e\"], [0.4444444444444444, \"#bd3786\"], [0.5555555555555556, \"#d8576b\"], [0.6666666666666666, \"#ed7953\"], [0.7777777777777778, \"#fb9f3a\"], [0.8888888888888888, \"#fdca26\"], [1.0, \"#f0f921\"]], \"type\": \"heatmapgl\"}], \"histogram\": [{\"marker\": {\"colorbar\": {\"outlinewidth\": 0, \"ticks\": \"\"}}, \"type\": \"histogram\"}], \"histogram2d\": [{\"colorbar\": {\"outlinewidth\": 0, \"ticks\": \"\"}, \"colorscale\": [[0.0, \"#0d0887\"], [0.1111111111111111, \"#46039f\"], [0.2222222222222222, \"#7201a8\"], [0.3333333333333333, \"#9c179e\"], [0.4444444444444444, \"#bd3786\"], [0.5555555555555556, \"#d8576b\"], [0.6666666666666666, \"#ed7953\"], [0.7777777777777778, \"#fb9f3a\"], [0.8888888888888888, \"#fdca26\"], [1.0, \"#f0f921\"]], \"type\": \"histogram2d\"}], \"histogram2dcontour\": [{\"colorbar\": {\"outlinewidth\": 0, \"ticks\": \"\"}, \"colorscale\": [[0.0, \"#0d0887\"], [0.1111111111111111, \"#46039f\"], [0.2222222222222222, \"#7201a8\"], [0.3333333333333333, \"#9c179e\"], [0.4444444444444444, \"#bd3786\"], [0.5555555555555556, \"#d8576b\"], [0.6666666666666666, \"#ed7953\"], [0.7777777777777778, \"#fb9f3a\"], [0.8888888888888888, \"#fdca26\"], [1.0, \"#f0f921\"]], \"type\": \"histogram2dcontour\"}], \"mesh3d\": [{\"colorbar\": {\"outlinewidth\": 0, \"ticks\": \"\"}, \"type\": \"mesh3d\"}], \"parcoords\": [{\"line\": {\"colorbar\": {\"outlinewidth\": 0, \"ticks\": \"\"}}, \"type\": \"parcoords\"}], \"pie\": [{\"automargin\": true, \"type\": \"pie\"}], \"scatter\": [{\"marker\": {\"colorbar\": {\"outlinewidth\": 0, \"ticks\": \"\"}}, \"type\": \"scatter\"}], \"scatter3d\": [{\"line\": {\"colorbar\": {\"outlinewidth\": 0, \"ticks\": \"\"}}, \"marker\": {\"colorbar\": {\"outlinewidth\": 0, \"ticks\": \"\"}}, \"type\": \"scatter3d\"}], \"scattercarpet\": [{\"marker\": {\"colorbar\": {\"outlinewidth\": 0, \"ticks\": \"\"}}, \"type\": \"scattercarpet\"}], \"scattergeo\": [{\"marker\": {\"colorbar\": {\"outlinewidth\": 0, \"ticks\": \"\"}}, \"type\": \"scattergeo\"}], \"scattergl\": [{\"marker\": {\"colorbar\": {\"outlinewidth\": 0, \"ticks\": \"\"}}, \"type\": \"scattergl\"}], \"scattermapbox\": [{\"marker\": {\"colorbar\": {\"outlinewidth\": 0, \"ticks\": \"\"}}, \"type\": \"scattermapbox\"}], \"scatterpolar\": [{\"marker\": {\"colorbar\": {\"outlinewidth\": 0, \"ticks\": \"\"}}, \"type\": \"scatterpolar\"}], \"scatterpolargl\": [{\"marker\": {\"colorbar\": {\"outlinewidth\": 0, \"ticks\": \"\"}}, \"type\": \"scatterpolargl\"}], \"scatterternary\": [{\"marker\": {\"colorbar\": {\"outlinewidth\": 0, \"ticks\": \"\"}}, \"type\": \"scatterternary\"}], \"surface\": [{\"colorbar\": {\"outlinewidth\": 0, \"ticks\": \"\"}, \"colorscale\": [[0.0, \"#0d0887\"], [0.1111111111111111, \"#46039f\"], [0.2222222222222222, \"#7201a8\"], [0.3333333333333333, \"#9c179e\"], [0.4444444444444444, \"#bd3786\"], [0.5555555555555556, \"#d8576b\"], [0.6666666666666666, \"#ed7953\"], [0.7777777777777778, \"#fb9f3a\"], [0.8888888888888888, \"#fdca26\"], [1.0, \"#f0f921\"]], \"type\": \"surface\"}], \"table\": [{\"cells\": {\"fill\": {\"color\": \"#EBF0F8\"}, \"line\": {\"color\": \"white\"}}, \"header\": {\"fill\": {\"color\": \"#C8D4E3\"}, \"line\": {\"color\": \"white\"}}, \"type\": \"table\"}]}, \"layout\": {\"annotationdefaults\": {\"arrowcolor\": \"#2a3f5f\", \"arrowhead\": 0, \"arrowwidth\": 1}, \"coloraxis\": {\"colorbar\": {\"outlinewidth\": 0, \"ticks\": \"\"}}, \"colorscale\": {\"diverging\": [[0, \"#8e0152\"], [0.1, \"#c51b7d\"], [0.2, \"#de77ae\"], [0.3, \"#f1b6da\"], [0.4, \"#fde0ef\"], [0.5, \"#f7f7f7\"], [0.6, \"#e6f5d0\"], [0.7, \"#b8e186\"], [0.8, \"#7fbc41\"], [0.9, \"#4d9221\"], [1, \"#276419\"]], \"sequential\": [[0.0, \"#0d0887\"], [0.1111111111111111, \"#46039f\"], [0.2222222222222222, \"#7201a8\"], [0.3333333333333333, \"#9c179e\"], [0.4444444444444444, \"#bd3786\"], [0.5555555555555556, \"#d8576b\"], [0.6666666666666666, \"#ed7953\"], [0.7777777777777778, \"#fb9f3a\"], [0.8888888888888888, \"#fdca26\"], [1.0, \"#f0f921\"]], \"sequentialminus\": [[0.0, \"#0d0887\"], [0.1111111111111111, \"#46039f\"], [0.2222222222222222, \"#7201a8\"], [0.3333333333333333, \"#9c179e\"], [0.4444444444444444, \"#bd3786\"], [0.5555555555555556, \"#d8576b\"], [0.6666666666666666, \"#ed7953\"], [0.7777777777777778, \"#fb9f3a\"], [0.8888888888888888, \"#fdca26\"], [1.0, \"#f0f921\"]]}, \"colorway\": [\"#636efa\", \"#EF553B\", \"#00cc96\", \"#ab63fa\", \"#FFA15A\", \"#19d3f3\", \"#FF6692\", \"#B6E880\", \"#FF97FF\", \"#FECB52\"], \"font\": {\"color\": \"#2a3f5f\"}, \"geo\": {\"bgcolor\": \"white\", \"lakecolor\": \"white\", \"landcolor\": \"#E5ECF6\", \"showlakes\": true, \"showland\": true, \"subunitcolor\": \"white\"}, \"hoverlabel\": {\"align\": \"left\"}, \"hovermode\": \"closest\", \"mapbox\": {\"style\": \"light\"}, \"paper_bgcolor\": \"white\", \"plot_bgcolor\": \"#E5ECF6\", \"polar\": {\"angularaxis\": {\"gridcolor\": \"white\", \"linecolor\": \"white\", \"ticks\": \"\"}, \"bgcolor\": \"#E5ECF6\", \"radialaxis\": {\"gridcolor\": \"white\", \"linecolor\": \"white\", \"ticks\": \"\"}}, \"scene\": {\"xaxis\": {\"backgroundcolor\": \"#E5ECF6\", \"gridcolor\": \"white\", \"gridwidth\": 2, \"linecolor\": \"white\", \"showbackground\": true, \"ticks\": \"\", \"zerolinecolor\": \"white\"}, \"yaxis\": {\"backgroundcolor\": \"#E5ECF6\", \"gridcolor\": \"white\", \"gridwidth\": 2, \"linecolor\": \"white\", \"showbackground\": true, \"ticks\": \"\", \"zerolinecolor\": \"white\"}, \"zaxis\": {\"backgroundcolor\": \"#E5ECF6\", \"gridcolor\": \"white\", \"gridwidth\": 2, \"linecolor\": \"white\", \"showbackground\": true, \"ticks\": \"\", \"zerolinecolor\": \"white\"}}, \"shapedefaults\": {\"line\": {\"color\": \"#2a3f5f\"}}, \"ternary\": {\"aaxis\": {\"gridcolor\": \"white\", \"linecolor\": \"white\", \"ticks\": \"\"}, \"baxis\": {\"gridcolor\": \"white\", \"linecolor\": \"white\", \"ticks\": \"\"}, \"bgcolor\": \"#E5ECF6\", \"caxis\": {\"gridcolor\": \"white\", \"linecolor\": \"white\", \"ticks\": \"\"}}, \"title\": {\"x\": 0.05}, \"xaxis\": {\"automargin\": true, \"gridcolor\": \"white\", \"linecolor\": \"white\", \"ticks\": \"\", \"title\": {\"standoff\": 15}, \"zerolinecolor\": \"white\", \"zerolinewidth\": 2}, \"yaxis\": {\"automargin\": true, \"gridcolor\": \"white\", \"linecolor\": \"white\", \"ticks\": \"\", \"title\": {\"standoff\": 15}, \"zerolinecolor\": \"white\", \"zerolinewidth\": 2}}}, \"title\": {\"font\": {\"color\": \"#4D5663\"}}, \"xaxis\": {\"gridcolor\": \"#E1E5ED\", \"showgrid\": true, \"tickfont\": {\"color\": \"#4D5663\"}, \"title\": {\"font\": {\"color\": \"#4D5663\"}, \"text\": \"\"}, \"zerolinecolor\": \"#E1E5ED\"}, \"yaxis\": {\"gridcolor\": \"#E1E5ED\", \"showgrid\": true, \"tickfont\": {\"color\": \"#4D5663\"}, \"title\": {\"font\": {\"color\": \"#4D5663\"}, \"text\": \"\"}, \"zerolinecolor\": \"#E1E5ED\"}},\n",
              "                        {\"showLink\": true, \"linkText\": \"Export to plot.ly\", \"plotlyServerURL\": \"https://plot.ly\", \"responsive\": true}\n",
              "                    ).then(function(){\n",
              "                            \n",
              "var gd = document.getElementById('1d7c6ac5-f021-462b-bd6c-e9b64902b844');\n",
              "var x = new MutationObserver(function (mutations, observer) {{\n",
              "        var display = window.getComputedStyle(gd).display;\n",
              "        if (!display || display === 'none') {{\n",
              "            console.log([gd, 'removed!']);\n",
              "            Plotly.purge(gd);\n",
              "            observer.disconnect();\n",
              "        }}\n",
              "}});\n",
              "\n",
              "// Listen for the removal of the full notebook cells\n",
              "var notebookContainer = gd.closest('#notebook-container');\n",
              "if (notebookContainer) {{\n",
              "    x.observe(notebookContainer, {childList: true});\n",
              "}}\n",
              "\n",
              "// Listen for the clearing of the current output cell\n",
              "var outputEl = gd.closest('.output');\n",
              "if (outputEl) {{\n",
              "    x.observe(outputEl, {childList: true});\n",
              "}}\n",
              "\n",
              "                        })\n",
              "                };\n",
              "                \n",
              "            </script>\n",
              "        </div>\n",
              "</body>\n",
              "</html>"
            ]
          },
          "metadata": {
            "tags": []
          }
        }
      ]
    },
    {
      "cell_type": "code",
      "metadata": {
        "id": "BUE5u7FH2eQt",
        "colab_type": "code",
        "colab": {
          "base_uri": "https://localhost:8080/",
          "height": 542
        },
        "outputId": "68e71d06-833e-46cc-c7dd-3d69c56c73f5"
      },
      "source": [
        "df.count().iplot(kind='bar')"
      ],
      "execution_count": 60,
      "outputs": [
        {
          "output_type": "display_data",
          "data": {
            "text/html": [
              "<html>\n",
              "<head><meta charset=\"utf-8\" /></head>\n",
              "<body>\n",
              "    <div>\n",
              "            <script src=\"https://cdnjs.cloudflare.com/ajax/libs/mathjax/2.7.5/MathJax.js?config=TeX-AMS-MML_SVG\"></script><script type=\"text/javascript\">if (window.MathJax) {MathJax.Hub.Config({SVG: {font: \"STIX-Web\"}});}</script>\n",
              "                <script type=\"text/javascript\">window.PlotlyConfig = {MathJaxConfig: 'local'};</script>\n",
              "        <script src=\"https://cdn.plot.ly/plotly-latest.min.js\"></script>    \n",
              "            <div id=\"e4df2953-1488-49df-9d5d-21ae3e05b816\" class=\"plotly-graph-div\" style=\"height:525px; width:100%;\"></div>\n",
              "            <script type=\"text/javascript\">\n",
              "                \n",
              "                    window.PLOTLYENV=window.PLOTLYENV || {};\n",
              "                    window.PLOTLYENV.BASE_URL='https://plot.ly';\n",
              "                    \n",
              "                if (document.getElementById(\"e4df2953-1488-49df-9d5d-21ae3e05b816\")) {\n",
              "                    Plotly.newPlot(\n",
              "                        'e4df2953-1488-49df-9d5d-21ae3e05b816',\n",
              "                        [{\"marker\": {\"color\": \"rgba(255, 153, 51, 0.6)\", \"line\": {\"color\": \"rgba(255, 153, 51, 1.0)\", \"width\": 1}}, \"name\": \"None\", \"orientation\": \"v\", \"text\": \"\", \"type\": \"bar\", \"x\": [\"A\", \"B\", \"C\", \"D\"], \"y\": [100, 100, 100, 100]}],\n",
              "                        {\"legend\": {\"bgcolor\": \"#F5F6F9\", \"font\": {\"color\": \"#4D5663\"}}, \"paper_bgcolor\": \"#F5F6F9\", \"plot_bgcolor\": \"#F5F6F9\", \"template\": {\"data\": {\"bar\": [{\"error_x\": {\"color\": \"#2a3f5f\"}, \"error_y\": {\"color\": \"#2a3f5f\"}, \"marker\": {\"line\": {\"color\": \"#E5ECF6\", \"width\": 0.5}}, \"type\": \"bar\"}], \"barpolar\": [{\"marker\": {\"line\": {\"color\": \"#E5ECF6\", \"width\": 0.5}}, \"type\": \"barpolar\"}], \"carpet\": [{\"aaxis\": {\"endlinecolor\": \"#2a3f5f\", \"gridcolor\": \"white\", \"linecolor\": \"white\", \"minorgridcolor\": \"white\", \"startlinecolor\": \"#2a3f5f\"}, \"baxis\": {\"endlinecolor\": \"#2a3f5f\", \"gridcolor\": \"white\", \"linecolor\": \"white\", \"minorgridcolor\": \"white\", \"startlinecolor\": \"#2a3f5f\"}, \"type\": \"carpet\"}], \"choropleth\": [{\"colorbar\": {\"outlinewidth\": 0, \"ticks\": \"\"}, \"type\": \"choropleth\"}], \"contour\": [{\"colorbar\": {\"outlinewidth\": 0, \"ticks\": \"\"}, \"colorscale\": [[0.0, \"#0d0887\"], [0.1111111111111111, \"#46039f\"], [0.2222222222222222, \"#7201a8\"], [0.3333333333333333, \"#9c179e\"], [0.4444444444444444, \"#bd3786\"], [0.5555555555555556, \"#d8576b\"], [0.6666666666666666, \"#ed7953\"], [0.7777777777777778, \"#fb9f3a\"], [0.8888888888888888, \"#fdca26\"], [1.0, \"#f0f921\"]], \"type\": \"contour\"}], \"contourcarpet\": [{\"colorbar\": {\"outlinewidth\": 0, \"ticks\": \"\"}, \"type\": \"contourcarpet\"}], \"heatmap\": [{\"colorbar\": {\"outlinewidth\": 0, \"ticks\": \"\"}, \"colorscale\": [[0.0, \"#0d0887\"], [0.1111111111111111, \"#46039f\"], [0.2222222222222222, \"#7201a8\"], [0.3333333333333333, \"#9c179e\"], [0.4444444444444444, \"#bd3786\"], [0.5555555555555556, \"#d8576b\"], [0.6666666666666666, \"#ed7953\"], [0.7777777777777778, \"#fb9f3a\"], [0.8888888888888888, \"#fdca26\"], [1.0, \"#f0f921\"]], \"type\": \"heatmap\"}], \"heatmapgl\": [{\"colorbar\": {\"outlinewidth\": 0, \"ticks\": \"\"}, \"colorscale\": [[0.0, \"#0d0887\"], [0.1111111111111111, \"#46039f\"], [0.2222222222222222, \"#7201a8\"], [0.3333333333333333, \"#9c179e\"], [0.4444444444444444, \"#bd3786\"], [0.5555555555555556, \"#d8576b\"], [0.6666666666666666, \"#ed7953\"], [0.7777777777777778, \"#fb9f3a\"], [0.8888888888888888, \"#fdca26\"], [1.0, \"#f0f921\"]], \"type\": \"heatmapgl\"}], \"histogram\": [{\"marker\": {\"colorbar\": {\"outlinewidth\": 0, \"ticks\": \"\"}}, \"type\": \"histogram\"}], \"histogram2d\": [{\"colorbar\": {\"outlinewidth\": 0, \"ticks\": \"\"}, \"colorscale\": [[0.0, \"#0d0887\"], [0.1111111111111111, \"#46039f\"], [0.2222222222222222, \"#7201a8\"], [0.3333333333333333, \"#9c179e\"], [0.4444444444444444, \"#bd3786\"], [0.5555555555555556, \"#d8576b\"], [0.6666666666666666, \"#ed7953\"], [0.7777777777777778, \"#fb9f3a\"], [0.8888888888888888, \"#fdca26\"], [1.0, \"#f0f921\"]], \"type\": \"histogram2d\"}], \"histogram2dcontour\": [{\"colorbar\": {\"outlinewidth\": 0, \"ticks\": \"\"}, \"colorscale\": [[0.0, \"#0d0887\"], [0.1111111111111111, \"#46039f\"], [0.2222222222222222, \"#7201a8\"], [0.3333333333333333, \"#9c179e\"], [0.4444444444444444, \"#bd3786\"], [0.5555555555555556, \"#d8576b\"], [0.6666666666666666, \"#ed7953\"], [0.7777777777777778, \"#fb9f3a\"], [0.8888888888888888, \"#fdca26\"], [1.0, \"#f0f921\"]], \"type\": \"histogram2dcontour\"}], \"mesh3d\": [{\"colorbar\": {\"outlinewidth\": 0, \"ticks\": \"\"}, \"type\": \"mesh3d\"}], \"parcoords\": [{\"line\": {\"colorbar\": {\"outlinewidth\": 0, \"ticks\": \"\"}}, \"type\": \"parcoords\"}], \"pie\": [{\"automargin\": true, \"type\": \"pie\"}], \"scatter\": [{\"marker\": {\"colorbar\": {\"outlinewidth\": 0, \"ticks\": \"\"}}, \"type\": \"scatter\"}], \"scatter3d\": [{\"line\": {\"colorbar\": {\"outlinewidth\": 0, \"ticks\": \"\"}}, \"marker\": {\"colorbar\": {\"outlinewidth\": 0, \"ticks\": \"\"}}, \"type\": \"scatter3d\"}], \"scattercarpet\": [{\"marker\": {\"colorbar\": {\"outlinewidth\": 0, \"ticks\": \"\"}}, \"type\": \"scattercarpet\"}], \"scattergeo\": [{\"marker\": {\"colorbar\": {\"outlinewidth\": 0, \"ticks\": \"\"}}, \"type\": \"scattergeo\"}], \"scattergl\": [{\"marker\": {\"colorbar\": {\"outlinewidth\": 0, \"ticks\": \"\"}}, \"type\": \"scattergl\"}], \"scattermapbox\": [{\"marker\": {\"colorbar\": {\"outlinewidth\": 0, \"ticks\": \"\"}}, \"type\": \"scattermapbox\"}], \"scatterpolar\": [{\"marker\": {\"colorbar\": {\"outlinewidth\": 0, \"ticks\": \"\"}}, \"type\": \"scatterpolar\"}], \"scatterpolargl\": [{\"marker\": {\"colorbar\": {\"outlinewidth\": 0, \"ticks\": \"\"}}, \"type\": \"scatterpolargl\"}], \"scatterternary\": [{\"marker\": {\"colorbar\": {\"outlinewidth\": 0, \"ticks\": \"\"}}, \"type\": \"scatterternary\"}], \"surface\": [{\"colorbar\": {\"outlinewidth\": 0, \"ticks\": \"\"}, \"colorscale\": [[0.0, \"#0d0887\"], [0.1111111111111111, \"#46039f\"], [0.2222222222222222, \"#7201a8\"], [0.3333333333333333, \"#9c179e\"], [0.4444444444444444, \"#bd3786\"], [0.5555555555555556, \"#d8576b\"], [0.6666666666666666, \"#ed7953\"], [0.7777777777777778, \"#fb9f3a\"], [0.8888888888888888, \"#fdca26\"], [1.0, \"#f0f921\"]], \"type\": \"surface\"}], \"table\": [{\"cells\": {\"fill\": {\"color\": \"#EBF0F8\"}, \"line\": {\"color\": \"white\"}}, \"header\": {\"fill\": {\"color\": \"#C8D4E3\"}, \"line\": {\"color\": \"white\"}}, \"type\": \"table\"}]}, \"layout\": {\"annotationdefaults\": {\"arrowcolor\": \"#2a3f5f\", \"arrowhead\": 0, \"arrowwidth\": 1}, \"coloraxis\": {\"colorbar\": {\"outlinewidth\": 0, \"ticks\": \"\"}}, \"colorscale\": {\"diverging\": [[0, \"#8e0152\"], [0.1, \"#c51b7d\"], [0.2, \"#de77ae\"], [0.3, \"#f1b6da\"], [0.4, \"#fde0ef\"], [0.5, \"#f7f7f7\"], [0.6, \"#e6f5d0\"], [0.7, \"#b8e186\"], [0.8, \"#7fbc41\"], [0.9, \"#4d9221\"], [1, \"#276419\"]], \"sequential\": [[0.0, \"#0d0887\"], [0.1111111111111111, \"#46039f\"], [0.2222222222222222, \"#7201a8\"], [0.3333333333333333, \"#9c179e\"], [0.4444444444444444, \"#bd3786\"], [0.5555555555555556, \"#d8576b\"], [0.6666666666666666, \"#ed7953\"], [0.7777777777777778, \"#fb9f3a\"], [0.8888888888888888, \"#fdca26\"], [1.0, \"#f0f921\"]], \"sequentialminus\": [[0.0, \"#0d0887\"], [0.1111111111111111, \"#46039f\"], [0.2222222222222222, \"#7201a8\"], [0.3333333333333333, \"#9c179e\"], [0.4444444444444444, \"#bd3786\"], [0.5555555555555556, \"#d8576b\"], [0.6666666666666666, \"#ed7953\"], [0.7777777777777778, \"#fb9f3a\"], [0.8888888888888888, \"#fdca26\"], [1.0, \"#f0f921\"]]}, \"colorway\": [\"#636efa\", \"#EF553B\", \"#00cc96\", \"#ab63fa\", \"#FFA15A\", \"#19d3f3\", \"#FF6692\", \"#B6E880\", \"#FF97FF\", \"#FECB52\"], \"font\": {\"color\": \"#2a3f5f\"}, \"geo\": {\"bgcolor\": \"white\", \"lakecolor\": \"white\", \"landcolor\": \"#E5ECF6\", \"showlakes\": true, \"showland\": true, \"subunitcolor\": \"white\"}, \"hoverlabel\": {\"align\": \"left\"}, \"hovermode\": \"closest\", \"mapbox\": {\"style\": \"light\"}, \"paper_bgcolor\": \"white\", \"plot_bgcolor\": \"#E5ECF6\", \"polar\": {\"angularaxis\": {\"gridcolor\": \"white\", \"linecolor\": \"white\", \"ticks\": \"\"}, \"bgcolor\": \"#E5ECF6\", \"radialaxis\": {\"gridcolor\": \"white\", \"linecolor\": \"white\", \"ticks\": \"\"}}, \"scene\": {\"xaxis\": {\"backgroundcolor\": \"#E5ECF6\", \"gridcolor\": \"white\", \"gridwidth\": 2, \"linecolor\": \"white\", \"showbackground\": true, \"ticks\": \"\", \"zerolinecolor\": \"white\"}, \"yaxis\": {\"backgroundcolor\": \"#E5ECF6\", \"gridcolor\": \"white\", \"gridwidth\": 2, \"linecolor\": \"white\", \"showbackground\": true, \"ticks\": \"\", \"zerolinecolor\": \"white\"}, \"zaxis\": {\"backgroundcolor\": \"#E5ECF6\", \"gridcolor\": \"white\", \"gridwidth\": 2, \"linecolor\": \"white\", \"showbackground\": true, \"ticks\": \"\", \"zerolinecolor\": \"white\"}}, \"shapedefaults\": {\"line\": {\"color\": \"#2a3f5f\"}}, \"ternary\": {\"aaxis\": {\"gridcolor\": \"white\", \"linecolor\": \"white\", \"ticks\": \"\"}, \"baxis\": {\"gridcolor\": \"white\", \"linecolor\": \"white\", \"ticks\": \"\"}, \"bgcolor\": \"#E5ECF6\", \"caxis\": {\"gridcolor\": \"white\", \"linecolor\": \"white\", \"ticks\": \"\"}}, \"title\": {\"x\": 0.05}, \"xaxis\": {\"automargin\": true, \"gridcolor\": \"white\", \"linecolor\": \"white\", \"ticks\": \"\", \"title\": {\"standoff\": 15}, \"zerolinecolor\": \"white\", \"zerolinewidth\": 2}, \"yaxis\": {\"automargin\": true, \"gridcolor\": \"white\", \"linecolor\": \"white\", \"ticks\": \"\", \"title\": {\"standoff\": 15}, \"zerolinecolor\": \"white\", \"zerolinewidth\": 2}}}, \"title\": {\"font\": {\"color\": \"#4D5663\"}}, \"xaxis\": {\"gridcolor\": \"#E1E5ED\", \"showgrid\": true, \"tickfont\": {\"color\": \"#4D5663\"}, \"title\": {\"font\": {\"color\": \"#4D5663\"}, \"text\": \"\"}, \"zerolinecolor\": \"#E1E5ED\"}, \"yaxis\": {\"gridcolor\": \"#E1E5ED\", \"showgrid\": true, \"tickfont\": {\"color\": \"#4D5663\"}, \"title\": {\"font\": {\"color\": \"#4D5663\"}, \"text\": \"\"}, \"zerolinecolor\": \"#E1E5ED\"}},\n",
              "                        {\"showLink\": true, \"linkText\": \"Export to plot.ly\", \"plotlyServerURL\": \"https://plot.ly\", \"responsive\": true}\n",
              "                    ).then(function(){\n",
              "                            \n",
              "var gd = document.getElementById('e4df2953-1488-49df-9d5d-21ae3e05b816');\n",
              "var x = new MutationObserver(function (mutations, observer) {{\n",
              "        var display = window.getComputedStyle(gd).display;\n",
              "        if (!display || display === 'none') {{\n",
              "            console.log([gd, 'removed!']);\n",
              "            Plotly.purge(gd);\n",
              "            observer.disconnect();\n",
              "        }}\n",
              "}});\n",
              "\n",
              "// Listen for the removal of the full notebook cells\n",
              "var notebookContainer = gd.closest('#notebook-container');\n",
              "if (notebookContainer) {{\n",
              "    x.observe(notebookContainer, {childList: true});\n",
              "}}\n",
              "\n",
              "// Listen for the clearing of the current output cell\n",
              "var outputEl = gd.closest('.output');\n",
              "if (outputEl) {{\n",
              "    x.observe(outputEl, {childList: true});\n",
              "}}\n",
              "\n",
              "                        })\n",
              "                };\n",
              "                \n",
              "            </script>\n",
              "        </div>\n",
              "</body>\n",
              "</html>"
            ]
          },
          "metadata": {
            "tags": []
          }
        }
      ]
    },
    {
      "cell_type": "code",
      "metadata": {
        "id": "0PRsUAj32lH6",
        "colab_type": "code",
        "colab": {
          "base_uri": "https://localhost:8080/",
          "height": 542
        },
        "outputId": "9fa665a3-98ac-47a2-9629-ad9d0da9bbd5"
      },
      "source": [
        "df.iplot(kind='box')"
      ],
      "execution_count": 61,
      "outputs": [
        {
          "output_type": "display_data",
          "data": {
            "text/html": [
              "<html>\n",
              "<head><meta charset=\"utf-8\" /></head>\n",
              "<body>\n",
              "    <div>\n",
              "            <script src=\"https://cdnjs.cloudflare.com/ajax/libs/mathjax/2.7.5/MathJax.js?config=TeX-AMS-MML_SVG\"></script><script type=\"text/javascript\">if (window.MathJax) {MathJax.Hub.Config({SVG: {font: \"STIX-Web\"}});}</script>\n",
              "                <script type=\"text/javascript\">window.PlotlyConfig = {MathJaxConfig: 'local'};</script>\n",
              "        <script src=\"https://cdn.plot.ly/plotly-latest.min.js\"></script>    \n",
              "            <div id=\"46c89015-e8b1-47e1-b3f7-d3cc40874db8\" class=\"plotly-graph-div\" style=\"height:525px; width:100%;\"></div>\n",
              "            <script type=\"text/javascript\">\n",
              "                \n",
              "                    window.PLOTLYENV=window.PLOTLYENV || {};\n",
              "                    window.PLOTLYENV.BASE_URL='https://plot.ly';\n",
              "                    \n",
              "                if (document.getElementById(\"46c89015-e8b1-47e1-b3f7-d3cc40874db8\")) {\n",
              "                    Plotly.newPlot(\n",
              "                        '46c89015-e8b1-47e1-b3f7-d3cc40874db8',\n",
              "                        [{\"boxpoints\": false, \"line\": {\"width\": 1.3}, \"marker\": {\"color\": \"rgba(255, 153, 51, 1.0)\"}, \"name\": \"A\", \"orientation\": \"v\", \"type\": \"box\", \"y\": [-2.068481242470521, -0.06830072174778413, 0.34686815459740566, 1.7404560246674383, 0.260145933794787, -1.6687556797736214, 1.2128292608384186, 1.276759847076379, 0.012589088341520047, 0.6837240475443442, -0.5102467506900561, -0.7782360903554235, -2.341546922060079, 0.39173212431984145, 0.15323339526132104, 0.3104819072155177, -0.44218825427175923, -0.32150902708869994, -0.033858181247083445, 0.3359230701195722, 0.8022437874387931, 0.03601910255625717, -0.4061836761174409, -0.4003801133136168, 0.10092907154841461, 1.5233562187288536, -0.36722594437827283, 0.03253231846998982, -2.282982536415899, 0.5830802711190498, -0.4311524540735369, 1.1614317023417755, -0.10426289520479025, -1.1212768013578707, 0.06334068027172927, 0.01630376329550353, -0.45457557725717207, -0.938789821802139, 0.06099939323351222, 0.35887818748664885, -0.843793734057207, 0.0478569867049216, -0.2417538602769474, -0.038942887102078806, 0.053593639039046, -1.2211623482179648, -0.17036200068698545, -0.4443887116011843, 0.37019280008777267, 1.5443258334719654, -0.6181394088457115, -0.45792799326957373, -1.9361516681418143, 0.7434597203247988, -0.5108806403318328, 0.16514967255301594, 0.4775907874146169, -0.4774554221272687, 0.2419944748702217, 0.5181025641411692, 0.06948103228401782, -0.08102350563166708, -0.5632934821646675, -0.10831738227239747, 1.7327185525045936, 0.3704868260629756, -0.5159738914988036, 0.6967248312772667, 0.9729344612886184, 0.04693965652740349, 1.1054124247780315, -1.217420888691861, -0.38814588141461437, -1.0796755270554717, -1.0958149053019528, -2.3417318911687075, -0.011587462929148149, 0.9095237774878863, -0.02621533665839742, 0.8466593311125113, -0.7175705015184023, -0.19377387371188784, -0.5783852466829044, -0.13044163951325857, 1.066628215523557, 0.26129669924845683, 2.0189419209649317, -1.3553670039412815, 0.5018501059843185, 0.6531387684143183, 1.9022631291702592, -1.2934389171784868, 0.06544750594269423, 0.8411001692608153, 0.5580249008107335, 1.9956733413950396, -0.5021972339098685, -0.47316947988094754, -1.114299172278719, 1.3644252487147408]}, {\"boxpoints\": false, \"line\": {\"width\": 1.3}, \"marker\": {\"color\": \"rgba(55, 128, 191, 1.0)\"}, \"name\": \"B\", \"orientation\": \"v\", \"type\": \"box\", \"y\": [0.13546053507022923, 0.8528952539056167, -0.9120473287918056, -0.4360167071034324, 0.4030021035722929, 0.21845456351115183, -1.5146188477997056, -1.1081262345827807, 0.2505550893228284, -1.089754160529704, -1.999471543859598, -0.13298981222990705, 0.7083688242077885, -0.7428531839143373, 1.2717469173085532, -0.7243561359853562, -1.4370056513901115, -0.8578890500584263, -0.5199289547555342, -0.9858204761709641, 0.7502511092487195, -0.9622680220774841, 0.8606852397738878, -0.3529663721617263, -1.7724111999399959, 0.11671383039125793, 2.1104136856870674, -0.058342444826866936, 2.028760783982244, 0.6055565892850192, 1.343911038550699, 0.5764709024505792, 0.2573852649890621, -2.5497668496098447, -0.9505829571138086, 0.07158004593194874, -1.1320989581537642, 1.2498551328713434, -0.5411155904440764, 1.9433075662035164, -0.6390591873405453, 0.206562955695758, 0.24791031488052412, 1.2761130220428456, -0.43330761534391343, -0.6646931807852855, 1.0006041439810665, 0.24950232089024862, 1.824582338513296, -0.33503434728787385, -0.10390476120042613, 2.0558297587310213, 2.4705327300888382, 0.24641029074204315, 0.891406383668593, -0.4460375336323596, -0.05403819614345976, 0.6069379690402813, -0.6584213592294729, -0.6804624868343676, 0.3554374013526221, -0.6197422292201394, -1.4363793854686329, 0.6391732419232593, 1.5260538377224617, -1.327403466180733, 0.46678698493924725, 1.5618372075729798, 0.1771511713172017, -0.1471852825641017, 0.758092470021777, -1.531560505955019, -0.5331876622432652, -1.8806673130309681, 0.4339395458758081, 0.7287842973459717, 0.5843657299612066, 0.5675425116136315, 1.5051957081584857, 0.9984576089198394, -1.361450265891984, -0.05477528106219799, 0.651652184054883, 1.8956547523097942, 0.960325494070041, 0.6333460121494614, -0.23176142161827948, -1.4147891851188463, -0.47355461876870314, 0.24759608652395304, 0.6919142969542673, -0.33833598108215074, 0.1537146391163577, -0.9427824418183438, -1.0535415962258836, -0.46097231553426254, -2.5076551988203275, -0.43772317036284325, 0.7570175143322317, 0.4828692956441521]}, {\"boxpoints\": false, \"line\": {\"width\": 1.3}, \"marker\": {\"color\": \"rgba(50, 171, 96, 1.0)\"}, \"name\": \"C\", \"orientation\": \"v\", \"type\": \"box\", \"y\": [-0.4490965191707045, -1.3566624199171347, 0.11010174114668976, -1.2059230985671745, -1.293518642299254, 0.0768114429111746, 2.0713794720510563, -1.6136102766998872, -2.1183418088097254, 0.6584018977466556, -0.5819428441757667, 0.5471898408441686, -1.8244706216056903, -0.35890916630399583, 1.138641041310387, 0.31611546567849097, 1.0559771602321337, 0.33767317562215937, 0.3033628923796153, -1.4335836985969974, 1.2096368994544906, 0.20689061625255836, 0.09488785762250992, 0.5617887062170834, 0.023154308790518715, 0.15168789975164204, -0.6180336191881293, 0.20622837757895413, 0.6485714799411542, 1.1963676140509656, 0.1654910893430052, 0.5749779562163441, 0.16108900684868976, 0.3485567916805989, 0.3152055370319175, 0.08180464812136456, 0.020620326956704384, -1.5596986546230043, -0.2778496376241181, -0.8177813904604749, -0.047248911278135124, -0.26675964256587714, 0.33145366006431287, 0.4435718943527746, 1.0834591102193718, 1.1181927159205571, 0.4670669747598463, -0.5329526643065524, -0.44635128706169075, 0.014871920137131739, 1.3812612374583608, 1.8920639380885012, 0.5653173636965959, -1.098288205522477, -0.382976691456405, -2.0462213086186645, -0.20451968519589875, 0.07856773595182073, 0.6306289545841886, -0.8110523405607823, -2.0899974454372776, 0.056410401765543884, -0.47904391491468185, 0.9888181876263, 0.7921507229057528, 0.6588455707730912, -1.0117051153143026, -0.7401670941766406, -1.1019512930005688, -0.2330072114146048, 0.14678659128359187, -0.016972325384005515, 0.538226961324923, -0.5527431124284627, 0.21787234394765675, 0.5775448863301242, -0.18725702030590544, 0.2586947836219987, -0.2720062991616586, 0.4956980999399173, -0.2248874208324263, 1.046876962247096, 0.8739057120388894, -1.324810905399333, -1.8895230890311145, 0.8985423817325691, -0.4134721022129727, 0.07172149869464005, -1.6381683038387536, 0.42538928588685265, -1.1191856963454359, 0.32398329622996735, -1.3591175956603858, -1.9028566688666586, -0.6817634816272062, 0.2312632966984241, 0.6224618814324517, -0.8694786005425781, 0.847084292335929, -0.8414877548342978]}, {\"boxpoints\": false, \"line\": {\"width\": 1.3}, \"marker\": {\"color\": \"rgba(128, 0, 128, 1.0)\"}, \"name\": \"D\", \"orientation\": \"v\", \"type\": \"box\", \"y\": [0.16576029040650397, 0.7353781184301128, -0.39635288312626415, 0.8460923805492866, 0.5834280340395386, 0.022668873850809287, -0.7232984540044319, -1.3150340581479074, -0.34117426376557675, -2.2039151686405045, -0.5540034393317983, -0.5365510263084331, 0.9514694148660698, 1.6093071684143965, 0.5349031444835803, 0.8762223684320477, 1.4173775406277183, -0.45892366941253027, 0.7759706357601053, -0.5231570619640878, -0.7912812214498252, 1.1391103980200354, 1.040790199323024, -0.730873434869637, 1.3493645268911796, 0.9317563929515158, 0.7580306180283228, 0.5878386227634674, 1.4326486013465392, -0.20720218629137235, 0.24776731941903588, 0.07369409703522996, 0.5523389535964915, -1.4225823164676166, -0.31366079651470147, 0.2462780623614397, -0.9525515029157212, -1.5060095118808454, 0.16157669330880778, 0.2202473096122514, 0.25515230298668984, 0.1415806575371722, 1.0454826460039028, -1.6395532056044337, -1.1480878621577313, -0.21767196576881243, 0.6097280023008594, 1.0273906539859419, -1.2546164856141788, 1.6795186133330808, -1.2917753905896583, 1.4376577079402262, 2.042611479515502, 0.17051851887980343, 0.02899488058209822, 0.24876373421094727, 0.06601973384186423, 0.22350253848511487, 0.8241801220068634, 0.03501063486091633, 0.7539071353594212, 0.03488923989617106, -1.45547407467105, -0.5359645108060322, -1.284504149525958, 0.7162679959699161, -0.5031833256993665, 1.8929389937029355, 0.09901562576215357, -0.10940178309595011, 2.1374057165810063, -0.2027529518230585, -0.04669371402278774, -1.1166007758302954, -1.110979136920132, 0.9459463660753293, 0.27097005719316825, -1.7625289736087093, 0.8351417325563205, -1.6945826582379722, -0.2656569433609975, -0.8769678330899084, -0.8152967764266832, 0.19939256166508265, 0.5460777371186833, 1.458413440508323, -0.533553934042059, 0.936768896712938, -1.5020610105474623, -0.3740943538418646, -0.46449150985624155, 0.09247526313675637, 0.4408967762354214, -0.6062745194800315, -0.0868526946804238, 0.2379988912040208, -0.34447098504535295, 1.4294961780936741, -0.010673807091225312, 0.04162518036338937]}],\n",
              "                        {\"legend\": {\"bgcolor\": \"#F5F6F9\", \"font\": {\"color\": \"#4D5663\"}}, \"paper_bgcolor\": \"#F5F6F9\", \"plot_bgcolor\": \"#F5F6F9\", \"template\": {\"data\": {\"bar\": [{\"error_x\": {\"color\": \"#2a3f5f\"}, \"error_y\": {\"color\": \"#2a3f5f\"}, \"marker\": {\"line\": {\"color\": \"#E5ECF6\", \"width\": 0.5}}, \"type\": \"bar\"}], \"barpolar\": [{\"marker\": {\"line\": {\"color\": \"#E5ECF6\", \"width\": 0.5}}, \"type\": \"barpolar\"}], \"carpet\": [{\"aaxis\": {\"endlinecolor\": \"#2a3f5f\", \"gridcolor\": \"white\", \"linecolor\": \"white\", \"minorgridcolor\": \"white\", \"startlinecolor\": \"#2a3f5f\"}, \"baxis\": {\"endlinecolor\": \"#2a3f5f\", \"gridcolor\": \"white\", \"linecolor\": \"white\", \"minorgridcolor\": \"white\", \"startlinecolor\": \"#2a3f5f\"}, \"type\": \"carpet\"}], \"choropleth\": [{\"colorbar\": {\"outlinewidth\": 0, \"ticks\": \"\"}, \"type\": \"choropleth\"}], \"contour\": [{\"colorbar\": {\"outlinewidth\": 0, \"ticks\": \"\"}, \"colorscale\": [[0.0, \"#0d0887\"], [0.1111111111111111, \"#46039f\"], [0.2222222222222222, \"#7201a8\"], [0.3333333333333333, \"#9c179e\"], [0.4444444444444444, \"#bd3786\"], [0.5555555555555556, \"#d8576b\"], [0.6666666666666666, \"#ed7953\"], [0.7777777777777778, \"#fb9f3a\"], [0.8888888888888888, \"#fdca26\"], [1.0, \"#f0f921\"]], \"type\": \"contour\"}], \"contourcarpet\": [{\"colorbar\": {\"outlinewidth\": 0, \"ticks\": \"\"}, \"type\": \"contourcarpet\"}], \"heatmap\": [{\"colorbar\": {\"outlinewidth\": 0, \"ticks\": \"\"}, \"colorscale\": [[0.0, \"#0d0887\"], [0.1111111111111111, \"#46039f\"], [0.2222222222222222, \"#7201a8\"], [0.3333333333333333, \"#9c179e\"], [0.4444444444444444, \"#bd3786\"], [0.5555555555555556, \"#d8576b\"], [0.6666666666666666, \"#ed7953\"], [0.7777777777777778, \"#fb9f3a\"], [0.8888888888888888, \"#fdca26\"], [1.0, \"#f0f921\"]], \"type\": \"heatmap\"}], \"heatmapgl\": [{\"colorbar\": {\"outlinewidth\": 0, \"ticks\": \"\"}, \"colorscale\": [[0.0, \"#0d0887\"], [0.1111111111111111, \"#46039f\"], [0.2222222222222222, \"#7201a8\"], [0.3333333333333333, \"#9c179e\"], [0.4444444444444444, \"#bd3786\"], [0.5555555555555556, \"#d8576b\"], [0.6666666666666666, \"#ed7953\"], [0.7777777777777778, \"#fb9f3a\"], [0.8888888888888888, \"#fdca26\"], [1.0, \"#f0f921\"]], \"type\": \"heatmapgl\"}], \"histogram\": [{\"marker\": {\"colorbar\": {\"outlinewidth\": 0, \"ticks\": \"\"}}, \"type\": \"histogram\"}], \"histogram2d\": [{\"colorbar\": {\"outlinewidth\": 0, \"ticks\": \"\"}, \"colorscale\": [[0.0, \"#0d0887\"], [0.1111111111111111, \"#46039f\"], [0.2222222222222222, \"#7201a8\"], [0.3333333333333333, \"#9c179e\"], [0.4444444444444444, \"#bd3786\"], [0.5555555555555556, \"#d8576b\"], [0.6666666666666666, \"#ed7953\"], [0.7777777777777778, \"#fb9f3a\"], [0.8888888888888888, \"#fdca26\"], [1.0, \"#f0f921\"]], \"type\": \"histogram2d\"}], \"histogram2dcontour\": [{\"colorbar\": {\"outlinewidth\": 0, \"ticks\": \"\"}, \"colorscale\": [[0.0, \"#0d0887\"], [0.1111111111111111, \"#46039f\"], [0.2222222222222222, \"#7201a8\"], [0.3333333333333333, \"#9c179e\"], [0.4444444444444444, \"#bd3786\"], [0.5555555555555556, \"#d8576b\"], [0.6666666666666666, \"#ed7953\"], [0.7777777777777778, \"#fb9f3a\"], [0.8888888888888888, \"#fdca26\"], [1.0, \"#f0f921\"]], \"type\": \"histogram2dcontour\"}], \"mesh3d\": [{\"colorbar\": {\"outlinewidth\": 0, \"ticks\": \"\"}, \"type\": \"mesh3d\"}], \"parcoords\": [{\"line\": {\"colorbar\": {\"outlinewidth\": 0, \"ticks\": \"\"}}, \"type\": \"parcoords\"}], \"pie\": [{\"automargin\": true, \"type\": \"pie\"}], \"scatter\": [{\"marker\": {\"colorbar\": {\"outlinewidth\": 0, \"ticks\": \"\"}}, \"type\": \"scatter\"}], \"scatter3d\": [{\"line\": {\"colorbar\": {\"outlinewidth\": 0, \"ticks\": \"\"}}, \"marker\": {\"colorbar\": {\"outlinewidth\": 0, \"ticks\": \"\"}}, \"type\": \"scatter3d\"}], \"scattercarpet\": [{\"marker\": {\"colorbar\": {\"outlinewidth\": 0, \"ticks\": \"\"}}, \"type\": \"scattercarpet\"}], \"scattergeo\": [{\"marker\": {\"colorbar\": {\"outlinewidth\": 0, \"ticks\": \"\"}}, \"type\": \"scattergeo\"}], \"scattergl\": [{\"marker\": {\"colorbar\": {\"outlinewidth\": 0, \"ticks\": \"\"}}, \"type\": \"scattergl\"}], \"scattermapbox\": [{\"marker\": {\"colorbar\": {\"outlinewidth\": 0, \"ticks\": \"\"}}, \"type\": \"scattermapbox\"}], \"scatterpolar\": [{\"marker\": {\"colorbar\": {\"outlinewidth\": 0, \"ticks\": \"\"}}, \"type\": \"scatterpolar\"}], \"scatterpolargl\": [{\"marker\": {\"colorbar\": {\"outlinewidth\": 0, \"ticks\": \"\"}}, \"type\": \"scatterpolargl\"}], \"scatterternary\": [{\"marker\": {\"colorbar\": {\"outlinewidth\": 0, \"ticks\": \"\"}}, \"type\": \"scatterternary\"}], \"surface\": [{\"colorbar\": {\"outlinewidth\": 0, \"ticks\": \"\"}, \"colorscale\": [[0.0, \"#0d0887\"], [0.1111111111111111, \"#46039f\"], [0.2222222222222222, \"#7201a8\"], [0.3333333333333333, \"#9c179e\"], [0.4444444444444444, \"#bd3786\"], [0.5555555555555556, \"#d8576b\"], [0.6666666666666666, \"#ed7953\"], [0.7777777777777778, \"#fb9f3a\"], [0.8888888888888888, \"#fdca26\"], [1.0, \"#f0f921\"]], \"type\": \"surface\"}], \"table\": [{\"cells\": {\"fill\": {\"color\": \"#EBF0F8\"}, \"line\": {\"color\": \"white\"}}, \"header\": {\"fill\": {\"color\": \"#C8D4E3\"}, \"line\": {\"color\": \"white\"}}, \"type\": \"table\"}]}, \"layout\": {\"annotationdefaults\": {\"arrowcolor\": \"#2a3f5f\", \"arrowhead\": 0, \"arrowwidth\": 1}, \"coloraxis\": {\"colorbar\": {\"outlinewidth\": 0, \"ticks\": \"\"}}, \"colorscale\": {\"diverging\": [[0, \"#8e0152\"], [0.1, \"#c51b7d\"], [0.2, \"#de77ae\"], [0.3, \"#f1b6da\"], [0.4, \"#fde0ef\"], [0.5, \"#f7f7f7\"], [0.6, \"#e6f5d0\"], [0.7, \"#b8e186\"], [0.8, \"#7fbc41\"], [0.9, \"#4d9221\"], [1, \"#276419\"]], \"sequential\": [[0.0, \"#0d0887\"], [0.1111111111111111, \"#46039f\"], [0.2222222222222222, \"#7201a8\"], [0.3333333333333333, \"#9c179e\"], [0.4444444444444444, \"#bd3786\"], [0.5555555555555556, \"#d8576b\"], [0.6666666666666666, \"#ed7953\"], [0.7777777777777778, \"#fb9f3a\"], [0.8888888888888888, \"#fdca26\"], [1.0, \"#f0f921\"]], \"sequentialminus\": [[0.0, \"#0d0887\"], [0.1111111111111111, \"#46039f\"], [0.2222222222222222, \"#7201a8\"], [0.3333333333333333, \"#9c179e\"], [0.4444444444444444, \"#bd3786\"], [0.5555555555555556, \"#d8576b\"], [0.6666666666666666, \"#ed7953\"], [0.7777777777777778, \"#fb9f3a\"], [0.8888888888888888, \"#fdca26\"], [1.0, \"#f0f921\"]]}, \"colorway\": [\"#636efa\", \"#EF553B\", \"#00cc96\", \"#ab63fa\", \"#FFA15A\", \"#19d3f3\", \"#FF6692\", \"#B6E880\", \"#FF97FF\", \"#FECB52\"], \"font\": {\"color\": \"#2a3f5f\"}, \"geo\": {\"bgcolor\": \"white\", \"lakecolor\": \"white\", \"landcolor\": \"#E5ECF6\", \"showlakes\": true, \"showland\": true, \"subunitcolor\": \"white\"}, \"hoverlabel\": {\"align\": \"left\"}, \"hovermode\": \"closest\", \"mapbox\": {\"style\": \"light\"}, \"paper_bgcolor\": \"white\", \"plot_bgcolor\": \"#E5ECF6\", \"polar\": {\"angularaxis\": {\"gridcolor\": \"white\", \"linecolor\": \"white\", \"ticks\": \"\"}, \"bgcolor\": \"#E5ECF6\", \"radialaxis\": {\"gridcolor\": \"white\", \"linecolor\": \"white\", \"ticks\": \"\"}}, \"scene\": {\"xaxis\": {\"backgroundcolor\": \"#E5ECF6\", \"gridcolor\": \"white\", \"gridwidth\": 2, \"linecolor\": \"white\", \"showbackground\": true, \"ticks\": \"\", \"zerolinecolor\": \"white\"}, \"yaxis\": {\"backgroundcolor\": \"#E5ECF6\", \"gridcolor\": \"white\", \"gridwidth\": 2, \"linecolor\": \"white\", \"showbackground\": true, \"ticks\": \"\", \"zerolinecolor\": \"white\"}, \"zaxis\": {\"backgroundcolor\": \"#E5ECF6\", \"gridcolor\": \"white\", \"gridwidth\": 2, \"linecolor\": \"white\", \"showbackground\": true, \"ticks\": \"\", \"zerolinecolor\": \"white\"}}, \"shapedefaults\": {\"line\": {\"color\": \"#2a3f5f\"}}, \"ternary\": {\"aaxis\": {\"gridcolor\": \"white\", \"linecolor\": \"white\", \"ticks\": \"\"}, \"baxis\": {\"gridcolor\": \"white\", \"linecolor\": \"white\", \"ticks\": \"\"}, \"bgcolor\": \"#E5ECF6\", \"caxis\": {\"gridcolor\": \"white\", \"linecolor\": \"white\", \"ticks\": \"\"}}, \"title\": {\"x\": 0.05}, \"xaxis\": {\"automargin\": true, \"gridcolor\": \"white\", \"linecolor\": \"white\", \"ticks\": \"\", \"title\": {\"standoff\": 15}, \"zerolinecolor\": \"white\", \"zerolinewidth\": 2}, \"yaxis\": {\"automargin\": true, \"gridcolor\": \"white\", \"linecolor\": \"white\", \"ticks\": \"\", \"title\": {\"standoff\": 15}, \"zerolinecolor\": \"white\", \"zerolinewidth\": 2}}}, \"title\": {\"font\": {\"color\": \"#4D5663\"}}, \"xaxis\": {\"gridcolor\": \"#E1E5ED\", \"showgrid\": true, \"tickfont\": {\"color\": \"#4D5663\"}, \"title\": {\"font\": {\"color\": \"#4D5663\"}, \"text\": \"\"}, \"zerolinecolor\": \"#E1E5ED\"}, \"yaxis\": {\"gridcolor\": \"#E1E5ED\", \"showgrid\": true, \"tickfont\": {\"color\": \"#4D5663\"}, \"title\": {\"font\": {\"color\": \"#4D5663\"}, \"text\": \"\"}, \"zerolinecolor\": \"#E1E5ED\"}},\n",
              "                        {\"showLink\": true, \"linkText\": \"Export to plot.ly\", \"plotlyServerURL\": \"https://plot.ly\", \"responsive\": true}\n",
              "                    ).then(function(){\n",
              "                            \n",
              "var gd = document.getElementById('46c89015-e8b1-47e1-b3f7-d3cc40874db8');\n",
              "var x = new MutationObserver(function (mutations, observer) {{\n",
              "        var display = window.getComputedStyle(gd).display;\n",
              "        if (!display || display === 'none') {{\n",
              "            console.log([gd, 'removed!']);\n",
              "            Plotly.purge(gd);\n",
              "            observer.disconnect();\n",
              "        }}\n",
              "}});\n",
              "\n",
              "// Listen for the removal of the full notebook cells\n",
              "var notebookContainer = gd.closest('#notebook-container');\n",
              "if (notebookContainer) {{\n",
              "    x.observe(notebookContainer, {childList: true});\n",
              "}}\n",
              "\n",
              "// Listen for the clearing of the current output cell\n",
              "var outputEl = gd.closest('.output');\n",
              "if (outputEl) {{\n",
              "    x.observe(outputEl, {childList: true});\n",
              "}}\n",
              "\n",
              "                        })\n",
              "                };\n",
              "                \n",
              "            </script>\n",
              "        </div>\n",
              "</body>\n",
              "</html>"
            ]
          },
          "metadata": {
            "tags": []
          }
        }
      ]
    },
    {
      "cell_type": "code",
      "metadata": {
        "id": "eUXO6Iwv267J",
        "colab_type": "code",
        "colab": {
          "base_uri": "https://localhost:8080/",
          "height": 542
        },
        "outputId": "473fbc33-5716-4c07-f625-42fd1fa8c5be"
      },
      "source": [
        "df3 = pd.DataFrame({'x':[1,2,3,4,5],'y':[10,20,30,20,10],'z':[5,4,3,2,1]})\n",
        "df3.iplot(kind='surface',colorscale='rdylbu')"
      ],
      "execution_count": 62,
      "outputs": [
        {
          "output_type": "display_data",
          "data": {
            "text/html": [
              "<html>\n",
              "<head><meta charset=\"utf-8\" /></head>\n",
              "<body>\n",
              "    <div>\n",
              "            <script src=\"https://cdnjs.cloudflare.com/ajax/libs/mathjax/2.7.5/MathJax.js?config=TeX-AMS-MML_SVG\"></script><script type=\"text/javascript\">if (window.MathJax) {MathJax.Hub.Config({SVG: {font: \"STIX-Web\"}});}</script>\n",
              "                <script type=\"text/javascript\">window.PlotlyConfig = {MathJaxConfig: 'local'};</script>\n",
              "        <script src=\"https://cdn.plot.ly/plotly-latest.min.js\"></script>    \n",
              "            <div id=\"eb68718f-8820-4a1c-b1a0-1cebd76cd07c\" class=\"plotly-graph-div\" style=\"height:525px; width:100%;\"></div>\n",
              "            <script type=\"text/javascript\">\n",
              "                \n",
              "                    window.PLOTLYENV=window.PLOTLYENV || {};\n",
              "                    window.PLOTLYENV.BASE_URL='https://plot.ly';\n",
              "                    \n",
              "                if (document.getElementById(\"eb68718f-8820-4a1c-b1a0-1cebd76cd07c\")) {\n",
              "                    Plotly.newPlot(\n",
              "                        'eb68718f-8820-4a1c-b1a0-1cebd76cd07c',\n",
              "                        [{\"colorscale\": [[0.0, \"rgb(165,0,38)\"], [0.1, \"rgb(215,48,39)\"], [0.2, \"rgb(244,109,67)\"], [0.3, \"rgb(253,174,97)\"], [0.4, \"rgb(254,224,144)\"], [0.5, \"rgb(255,255,191)\"], [0.6, \"rgb(224,243,248)\"], [0.7, \"rgb(171,217,233)\"], [0.8, \"rgb(116,173,209)\"], [0.9, \"rgb(69,117,180)\"], [1.0, \"rgb(49,54,149)\"]], \"type\": \"surface\", \"x\": [0, 1, 2, 3, 4], \"y\": [\"x\", \"y\", \"z\"], \"z\": [[1, 2, 3, 4, 5], [10, 20, 30, 20, 10], [5, 4, 3, 2, 1]]}],\n",
              "                        {\"legend\": {\"bgcolor\": \"#F5F6F9\", \"font\": {\"color\": \"#4D5663\"}}, \"paper_bgcolor\": \"#F5F6F9\", \"plot_bgcolor\": \"#F5F6F9\", \"template\": {\"data\": {\"bar\": [{\"error_x\": {\"color\": \"#2a3f5f\"}, \"error_y\": {\"color\": \"#2a3f5f\"}, \"marker\": {\"line\": {\"color\": \"#E5ECF6\", \"width\": 0.5}}, \"type\": \"bar\"}], \"barpolar\": [{\"marker\": {\"line\": {\"color\": \"#E5ECF6\", \"width\": 0.5}}, \"type\": \"barpolar\"}], \"carpet\": [{\"aaxis\": {\"endlinecolor\": \"#2a3f5f\", \"gridcolor\": \"white\", \"linecolor\": \"white\", \"minorgridcolor\": \"white\", \"startlinecolor\": \"#2a3f5f\"}, \"baxis\": {\"endlinecolor\": \"#2a3f5f\", \"gridcolor\": \"white\", \"linecolor\": \"white\", \"minorgridcolor\": \"white\", \"startlinecolor\": \"#2a3f5f\"}, \"type\": \"carpet\"}], \"choropleth\": [{\"colorbar\": {\"outlinewidth\": 0, \"ticks\": \"\"}, \"type\": \"choropleth\"}], \"contour\": [{\"colorbar\": {\"outlinewidth\": 0, \"ticks\": \"\"}, \"colorscale\": [[0.0, \"#0d0887\"], [0.1111111111111111, \"#46039f\"], [0.2222222222222222, \"#7201a8\"], [0.3333333333333333, \"#9c179e\"], [0.4444444444444444, \"#bd3786\"], [0.5555555555555556, \"#d8576b\"], [0.6666666666666666, \"#ed7953\"], [0.7777777777777778, \"#fb9f3a\"], [0.8888888888888888, \"#fdca26\"], [1.0, \"#f0f921\"]], \"type\": \"contour\"}], \"contourcarpet\": [{\"colorbar\": {\"outlinewidth\": 0, \"ticks\": \"\"}, \"type\": \"contourcarpet\"}], \"heatmap\": [{\"colorbar\": {\"outlinewidth\": 0, \"ticks\": \"\"}, \"colorscale\": [[0.0, \"#0d0887\"], [0.1111111111111111, \"#46039f\"], [0.2222222222222222, \"#7201a8\"], [0.3333333333333333, \"#9c179e\"], [0.4444444444444444, \"#bd3786\"], [0.5555555555555556, \"#d8576b\"], [0.6666666666666666, \"#ed7953\"], [0.7777777777777778, \"#fb9f3a\"], [0.8888888888888888, \"#fdca26\"], [1.0, \"#f0f921\"]], \"type\": \"heatmap\"}], \"heatmapgl\": [{\"colorbar\": {\"outlinewidth\": 0, \"ticks\": \"\"}, \"colorscale\": [[0.0, \"#0d0887\"], [0.1111111111111111, \"#46039f\"], [0.2222222222222222, \"#7201a8\"], [0.3333333333333333, \"#9c179e\"], [0.4444444444444444, \"#bd3786\"], [0.5555555555555556, \"#d8576b\"], [0.6666666666666666, \"#ed7953\"], [0.7777777777777778, \"#fb9f3a\"], [0.8888888888888888, \"#fdca26\"], [1.0, \"#f0f921\"]], \"type\": \"heatmapgl\"}], \"histogram\": [{\"marker\": {\"colorbar\": {\"outlinewidth\": 0, \"ticks\": \"\"}}, \"type\": \"histogram\"}], \"histogram2d\": [{\"colorbar\": {\"outlinewidth\": 0, \"ticks\": \"\"}, \"colorscale\": [[0.0, \"#0d0887\"], [0.1111111111111111, \"#46039f\"], [0.2222222222222222, \"#7201a8\"], [0.3333333333333333, \"#9c179e\"], [0.4444444444444444, \"#bd3786\"], [0.5555555555555556, \"#d8576b\"], [0.6666666666666666, \"#ed7953\"], [0.7777777777777778, \"#fb9f3a\"], [0.8888888888888888, \"#fdca26\"], [1.0, \"#f0f921\"]], \"type\": \"histogram2d\"}], \"histogram2dcontour\": [{\"colorbar\": {\"outlinewidth\": 0, \"ticks\": \"\"}, \"colorscale\": [[0.0, \"#0d0887\"], [0.1111111111111111, \"#46039f\"], [0.2222222222222222, \"#7201a8\"], [0.3333333333333333, \"#9c179e\"], [0.4444444444444444, \"#bd3786\"], [0.5555555555555556, \"#d8576b\"], [0.6666666666666666, \"#ed7953\"], [0.7777777777777778, \"#fb9f3a\"], [0.8888888888888888, \"#fdca26\"], [1.0, \"#f0f921\"]], \"type\": \"histogram2dcontour\"}], \"mesh3d\": [{\"colorbar\": {\"outlinewidth\": 0, \"ticks\": \"\"}, \"type\": \"mesh3d\"}], \"parcoords\": [{\"line\": {\"colorbar\": {\"outlinewidth\": 0, \"ticks\": \"\"}}, \"type\": \"parcoords\"}], \"pie\": [{\"automargin\": true, \"type\": \"pie\"}], \"scatter\": [{\"marker\": {\"colorbar\": {\"outlinewidth\": 0, \"ticks\": \"\"}}, \"type\": \"scatter\"}], \"scatter3d\": [{\"line\": {\"colorbar\": {\"outlinewidth\": 0, \"ticks\": \"\"}}, \"marker\": {\"colorbar\": {\"outlinewidth\": 0, \"ticks\": \"\"}}, \"type\": \"scatter3d\"}], \"scattercarpet\": [{\"marker\": {\"colorbar\": {\"outlinewidth\": 0, \"ticks\": \"\"}}, \"type\": \"scattercarpet\"}], \"scattergeo\": [{\"marker\": {\"colorbar\": {\"outlinewidth\": 0, \"ticks\": \"\"}}, \"type\": \"scattergeo\"}], \"scattergl\": [{\"marker\": {\"colorbar\": {\"outlinewidth\": 0, \"ticks\": \"\"}}, \"type\": \"scattergl\"}], \"scattermapbox\": [{\"marker\": {\"colorbar\": {\"outlinewidth\": 0, \"ticks\": \"\"}}, \"type\": \"scattermapbox\"}], \"scatterpolar\": [{\"marker\": {\"colorbar\": {\"outlinewidth\": 0, \"ticks\": \"\"}}, \"type\": \"scatterpolar\"}], \"scatterpolargl\": [{\"marker\": {\"colorbar\": {\"outlinewidth\": 0, \"ticks\": \"\"}}, \"type\": \"scatterpolargl\"}], \"scatterternary\": [{\"marker\": {\"colorbar\": {\"outlinewidth\": 0, \"ticks\": \"\"}}, \"type\": \"scatterternary\"}], \"surface\": [{\"colorbar\": {\"outlinewidth\": 0, \"ticks\": \"\"}, \"colorscale\": [[0.0, \"#0d0887\"], [0.1111111111111111, \"#46039f\"], [0.2222222222222222, \"#7201a8\"], [0.3333333333333333, \"#9c179e\"], [0.4444444444444444, \"#bd3786\"], [0.5555555555555556, \"#d8576b\"], [0.6666666666666666, \"#ed7953\"], [0.7777777777777778, \"#fb9f3a\"], [0.8888888888888888, \"#fdca26\"], [1.0, \"#f0f921\"]], \"type\": \"surface\"}], \"table\": [{\"cells\": {\"fill\": {\"color\": \"#EBF0F8\"}, \"line\": {\"color\": \"white\"}}, \"header\": {\"fill\": {\"color\": \"#C8D4E3\"}, \"line\": {\"color\": \"white\"}}, \"type\": \"table\"}]}, \"layout\": {\"annotationdefaults\": {\"arrowcolor\": \"#2a3f5f\", \"arrowhead\": 0, \"arrowwidth\": 1}, \"coloraxis\": {\"colorbar\": {\"outlinewidth\": 0, \"ticks\": \"\"}}, \"colorscale\": {\"diverging\": [[0, \"#8e0152\"], [0.1, \"#c51b7d\"], [0.2, \"#de77ae\"], [0.3, \"#f1b6da\"], [0.4, \"#fde0ef\"], [0.5, \"#f7f7f7\"], [0.6, \"#e6f5d0\"], [0.7, \"#b8e186\"], [0.8, \"#7fbc41\"], [0.9, \"#4d9221\"], [1, \"#276419\"]], \"sequential\": [[0.0, \"#0d0887\"], [0.1111111111111111, \"#46039f\"], [0.2222222222222222, \"#7201a8\"], [0.3333333333333333, \"#9c179e\"], [0.4444444444444444, \"#bd3786\"], [0.5555555555555556, \"#d8576b\"], [0.6666666666666666, \"#ed7953\"], [0.7777777777777778, \"#fb9f3a\"], [0.8888888888888888, \"#fdca26\"], [1.0, \"#f0f921\"]], \"sequentialminus\": [[0.0, \"#0d0887\"], [0.1111111111111111, \"#46039f\"], [0.2222222222222222, \"#7201a8\"], [0.3333333333333333, \"#9c179e\"], [0.4444444444444444, \"#bd3786\"], [0.5555555555555556, \"#d8576b\"], [0.6666666666666666, \"#ed7953\"], [0.7777777777777778, \"#fb9f3a\"], [0.8888888888888888, \"#fdca26\"], [1.0, \"#f0f921\"]]}, \"colorway\": [\"#636efa\", \"#EF553B\", \"#00cc96\", \"#ab63fa\", \"#FFA15A\", \"#19d3f3\", \"#FF6692\", \"#B6E880\", \"#FF97FF\", \"#FECB52\"], \"font\": {\"color\": \"#2a3f5f\"}, \"geo\": {\"bgcolor\": \"white\", \"lakecolor\": \"white\", \"landcolor\": \"#E5ECF6\", \"showlakes\": true, \"showland\": true, \"subunitcolor\": \"white\"}, \"hoverlabel\": {\"align\": \"left\"}, \"hovermode\": \"closest\", \"mapbox\": {\"style\": \"light\"}, \"paper_bgcolor\": \"white\", \"plot_bgcolor\": \"#E5ECF6\", \"polar\": {\"angularaxis\": {\"gridcolor\": \"white\", \"linecolor\": \"white\", \"ticks\": \"\"}, \"bgcolor\": \"#E5ECF6\", \"radialaxis\": {\"gridcolor\": \"white\", \"linecolor\": \"white\", \"ticks\": \"\"}}, \"scene\": {\"xaxis\": {\"backgroundcolor\": \"#E5ECF6\", \"gridcolor\": \"white\", \"gridwidth\": 2, \"linecolor\": \"white\", \"showbackground\": true, \"ticks\": \"\", \"zerolinecolor\": \"white\"}, \"yaxis\": {\"backgroundcolor\": \"#E5ECF6\", \"gridcolor\": \"white\", \"gridwidth\": 2, \"linecolor\": \"white\", \"showbackground\": true, \"ticks\": \"\", \"zerolinecolor\": \"white\"}, \"zaxis\": {\"backgroundcolor\": \"#E5ECF6\", \"gridcolor\": \"white\", \"gridwidth\": 2, \"linecolor\": \"white\", \"showbackground\": true, \"ticks\": \"\", \"zerolinecolor\": \"white\"}}, \"shapedefaults\": {\"line\": {\"color\": \"#2a3f5f\"}}, \"ternary\": {\"aaxis\": {\"gridcolor\": \"white\", \"linecolor\": \"white\", \"ticks\": \"\"}, \"baxis\": {\"gridcolor\": \"white\", \"linecolor\": \"white\", \"ticks\": \"\"}, \"bgcolor\": \"#E5ECF6\", \"caxis\": {\"gridcolor\": \"white\", \"linecolor\": \"white\", \"ticks\": \"\"}}, \"title\": {\"x\": 0.05}, \"xaxis\": {\"automargin\": true, \"gridcolor\": \"white\", \"linecolor\": \"white\", \"ticks\": \"\", \"title\": {\"standoff\": 15}, \"zerolinecolor\": \"white\", \"zerolinewidth\": 2}, \"yaxis\": {\"automargin\": true, \"gridcolor\": \"white\", \"linecolor\": \"white\", \"ticks\": \"\", \"title\": {\"standoff\": 15}, \"zerolinecolor\": \"white\", \"zerolinewidth\": 2}}}, \"title\": {\"font\": {\"color\": \"#4D5663\"}}, \"xaxis\": {\"gridcolor\": \"#E1E5ED\", \"showgrid\": true, \"tickfont\": {\"color\": \"#4D5663\"}, \"title\": {\"font\": {\"color\": \"#4D5663\"}, \"text\": \"\"}, \"zerolinecolor\": \"#E1E5ED\"}, \"yaxis\": {\"gridcolor\": \"#E1E5ED\", \"showgrid\": true, \"tickfont\": {\"color\": \"#4D5663\"}, \"title\": {\"font\": {\"color\": \"#4D5663\"}, \"text\": \"\"}, \"zerolinecolor\": \"#E1E5ED\"}},\n",
              "                        {\"showLink\": true, \"linkText\": \"Export to plot.ly\", \"plotlyServerURL\": \"https://plot.ly\", \"responsive\": true}\n",
              "                    ).then(function(){\n",
              "                            \n",
              "var gd = document.getElementById('eb68718f-8820-4a1c-b1a0-1cebd76cd07c');\n",
              "var x = new MutationObserver(function (mutations, observer) {{\n",
              "        var display = window.getComputedStyle(gd).display;\n",
              "        if (!display || display === 'none') {{\n",
              "            console.log([gd, 'removed!']);\n",
              "            Plotly.purge(gd);\n",
              "            observer.disconnect();\n",
              "        }}\n",
              "}});\n",
              "\n",
              "// Listen for the removal of the full notebook cells\n",
              "var notebookContainer = gd.closest('#notebook-container');\n",
              "if (notebookContainer) {{\n",
              "    x.observe(notebookContainer, {childList: true});\n",
              "}}\n",
              "\n",
              "// Listen for the clearing of the current output cell\n",
              "var outputEl = gd.closest('.output');\n",
              "if (outputEl) {{\n",
              "    x.observe(outputEl, {childList: true});\n",
              "}}\n",
              "\n",
              "                        })\n",
              "                };\n",
              "                \n",
              "            </script>\n",
              "        </div>\n",
              "</body>\n",
              "</html>"
            ]
          },
          "metadata": {
            "tags": []
          }
        }
      ]
    },
    {
      "cell_type": "code",
      "metadata": {
        "id": "8ozP4Z7n3HKE",
        "colab_type": "code",
        "colab": {
          "base_uri": "https://localhost:8080/",
          "height": 542
        },
        "outputId": "d421dc1a-a052-402e-9479-d54f65ff0c17"
      },
      "source": [
        "df.iplot(kind='hist',bins=30)"
      ],
      "execution_count": 69,
      "outputs": [
        {
          "output_type": "display_data",
          "data": {
            "text/html": [
              "<html>\n",
              "<head><meta charset=\"utf-8\" /></head>\n",
              "<body>\n",
              "    <div>\n",
              "            <script src=\"https://cdnjs.cloudflare.com/ajax/libs/mathjax/2.7.5/MathJax.js?config=TeX-AMS-MML_SVG\"></script><script type=\"text/javascript\">if (window.MathJax) {MathJax.Hub.Config({SVG: {font: \"STIX-Web\"}});}</script>\n",
              "                <script type=\"text/javascript\">window.PlotlyConfig = {MathJaxConfig: 'local'};</script>\n",
              "        <script src=\"https://cdn.plot.ly/plotly-latest.min.js\"></script>    \n",
              "            <div id=\"35301728-31b1-4997-b8bb-cd64e34e0547\" class=\"plotly-graph-div\" style=\"height:525px; width:100%;\"></div>\n",
              "            <script type=\"text/javascript\">\n",
              "                \n",
              "                    window.PLOTLYENV=window.PLOTLYENV || {};\n",
              "                    window.PLOTLYENV.BASE_URL='https://plot.ly';\n",
              "                    \n",
              "                if (document.getElementById(\"35301728-31b1-4997-b8bb-cd64e34e0547\")) {\n",
              "                    Plotly.newPlot(\n",
              "                        '35301728-31b1-4997-b8bb-cd64e34e0547',\n",
              "                        [{\"histfunc\": \"count\", \"histnorm\": \"\", \"marker\": {\"color\": \"rgba(255, 153, 51, 1.0)\", \"line\": {\"color\": \"#4D5663\", \"width\": 1.3}}, \"name\": \"A\", \"nbinsx\": 30, \"opacity\": 0.8, \"orientation\": \"v\", \"type\": \"histogram\", \"x\": [-2.068481242470521, -0.06830072174778413, 0.34686815459740566, 1.7404560246674383, 0.260145933794787, -1.6687556797736214, 1.2128292608384186, 1.276759847076379, 0.012589088341520047, 0.6837240475443442, -0.5102467506900561, -0.7782360903554235, -2.341546922060079, 0.39173212431984145, 0.15323339526132104, 0.3104819072155177, -0.44218825427175923, -0.32150902708869994, -0.033858181247083445, 0.3359230701195722, 0.8022437874387931, 0.03601910255625717, -0.4061836761174409, -0.4003801133136168, 0.10092907154841461, 1.5233562187288536, -0.36722594437827283, 0.03253231846998982, -2.282982536415899, 0.5830802711190498, -0.4311524540735369, 1.1614317023417755, -0.10426289520479025, -1.1212768013578707, 0.06334068027172927, 0.01630376329550353, -0.45457557725717207, -0.938789821802139, 0.06099939323351222, 0.35887818748664885, -0.843793734057207, 0.0478569867049216, -0.2417538602769474, -0.038942887102078806, 0.053593639039046, -1.2211623482179648, -0.17036200068698545, -0.4443887116011843, 0.37019280008777267, 1.5443258334719654, -0.6181394088457115, -0.45792799326957373, -1.9361516681418143, 0.7434597203247988, -0.5108806403318328, 0.16514967255301594, 0.4775907874146169, -0.4774554221272687, 0.2419944748702217, 0.5181025641411692, 0.06948103228401782, -0.08102350563166708, -0.5632934821646675, -0.10831738227239747, 1.7327185525045936, 0.3704868260629756, -0.5159738914988036, 0.6967248312772667, 0.9729344612886184, 0.04693965652740349, 1.1054124247780315, -1.217420888691861, -0.38814588141461437, -1.0796755270554717, -1.0958149053019528, -2.3417318911687075, -0.011587462929148149, 0.9095237774878863, -0.02621533665839742, 0.8466593311125113, -0.7175705015184023, -0.19377387371188784, -0.5783852466829044, -0.13044163951325857, 1.066628215523557, 0.26129669924845683, 2.0189419209649317, -1.3553670039412815, 0.5018501059843185, 0.6531387684143183, 1.9022631291702592, -1.2934389171784868, 0.06544750594269423, 0.8411001692608153, 0.5580249008107335, 1.9956733413950396, -0.5021972339098685, -0.47316947988094754, -1.114299172278719, 1.3644252487147408]}, {\"histfunc\": \"count\", \"histnorm\": \"\", \"marker\": {\"color\": \"rgba(55, 128, 191, 1.0)\", \"line\": {\"color\": \"#4D5663\", \"width\": 1.3}}, \"name\": \"B\", \"nbinsx\": 30, \"opacity\": 0.8, \"orientation\": \"v\", \"type\": \"histogram\", \"x\": [0.13546053507022923, 0.8528952539056167, -0.9120473287918056, -0.4360167071034324, 0.4030021035722929, 0.21845456351115183, -1.5146188477997056, -1.1081262345827807, 0.2505550893228284, -1.089754160529704, -1.999471543859598, -0.13298981222990705, 0.7083688242077885, -0.7428531839143373, 1.2717469173085532, -0.7243561359853562, -1.4370056513901115, -0.8578890500584263, -0.5199289547555342, -0.9858204761709641, 0.7502511092487195, -0.9622680220774841, 0.8606852397738878, -0.3529663721617263, -1.7724111999399959, 0.11671383039125793, 2.1104136856870674, -0.058342444826866936, 2.028760783982244, 0.6055565892850192, 1.343911038550699, 0.5764709024505792, 0.2573852649890621, -2.5497668496098447, -0.9505829571138086, 0.07158004593194874, -1.1320989581537642, 1.2498551328713434, -0.5411155904440764, 1.9433075662035164, -0.6390591873405453, 0.206562955695758, 0.24791031488052412, 1.2761130220428456, -0.43330761534391343, -0.6646931807852855, 1.0006041439810665, 0.24950232089024862, 1.824582338513296, -0.33503434728787385, -0.10390476120042613, 2.0558297587310213, 2.4705327300888382, 0.24641029074204315, 0.891406383668593, -0.4460375336323596, -0.05403819614345976, 0.6069379690402813, -0.6584213592294729, -0.6804624868343676, 0.3554374013526221, -0.6197422292201394, -1.4363793854686329, 0.6391732419232593, 1.5260538377224617, -1.327403466180733, 0.46678698493924725, 1.5618372075729798, 0.1771511713172017, -0.1471852825641017, 0.758092470021777, -1.531560505955019, -0.5331876622432652, -1.8806673130309681, 0.4339395458758081, 0.7287842973459717, 0.5843657299612066, 0.5675425116136315, 1.5051957081584857, 0.9984576089198394, -1.361450265891984, -0.05477528106219799, 0.651652184054883, 1.8956547523097942, 0.960325494070041, 0.6333460121494614, -0.23176142161827948, -1.4147891851188463, -0.47355461876870314, 0.24759608652395304, 0.6919142969542673, -0.33833598108215074, 0.1537146391163577, -0.9427824418183438, -1.0535415962258836, -0.46097231553426254, -2.5076551988203275, -0.43772317036284325, 0.7570175143322317, 0.4828692956441521]}, {\"histfunc\": \"count\", \"histnorm\": \"\", \"marker\": {\"color\": \"rgba(50, 171, 96, 1.0)\", \"line\": {\"color\": \"#4D5663\", \"width\": 1.3}}, \"name\": \"C\", \"nbinsx\": 30, \"opacity\": 0.8, \"orientation\": \"v\", \"type\": \"histogram\", \"x\": [-0.4490965191707045, -1.3566624199171347, 0.11010174114668976, -1.2059230985671745, -1.293518642299254, 0.0768114429111746, 2.0713794720510563, -1.6136102766998872, -2.1183418088097254, 0.6584018977466556, -0.5819428441757667, 0.5471898408441686, -1.8244706216056903, -0.35890916630399583, 1.138641041310387, 0.31611546567849097, 1.0559771602321337, 0.33767317562215937, 0.3033628923796153, -1.4335836985969974, 1.2096368994544906, 0.20689061625255836, 0.09488785762250992, 0.5617887062170834, 0.023154308790518715, 0.15168789975164204, -0.6180336191881293, 0.20622837757895413, 0.6485714799411542, 1.1963676140509656, 0.1654910893430052, 0.5749779562163441, 0.16108900684868976, 0.3485567916805989, 0.3152055370319175, 0.08180464812136456, 0.020620326956704384, -1.5596986546230043, -0.2778496376241181, -0.8177813904604749, -0.047248911278135124, -0.26675964256587714, 0.33145366006431287, 0.4435718943527746, 1.0834591102193718, 1.1181927159205571, 0.4670669747598463, -0.5329526643065524, -0.44635128706169075, 0.014871920137131739, 1.3812612374583608, 1.8920639380885012, 0.5653173636965959, -1.098288205522477, -0.382976691456405, -2.0462213086186645, -0.20451968519589875, 0.07856773595182073, 0.6306289545841886, -0.8110523405607823, -2.0899974454372776, 0.056410401765543884, -0.47904391491468185, 0.9888181876263, 0.7921507229057528, 0.6588455707730912, -1.0117051153143026, -0.7401670941766406, -1.1019512930005688, -0.2330072114146048, 0.14678659128359187, -0.016972325384005515, 0.538226961324923, -0.5527431124284627, 0.21787234394765675, 0.5775448863301242, -0.18725702030590544, 0.2586947836219987, -0.2720062991616586, 0.4956980999399173, -0.2248874208324263, 1.046876962247096, 0.8739057120388894, -1.324810905399333, -1.8895230890311145, 0.8985423817325691, -0.4134721022129727, 0.07172149869464005, -1.6381683038387536, 0.42538928588685265, -1.1191856963454359, 0.32398329622996735, -1.3591175956603858, -1.9028566688666586, -0.6817634816272062, 0.2312632966984241, 0.6224618814324517, -0.8694786005425781, 0.847084292335929, -0.8414877548342978]}, {\"histfunc\": \"count\", \"histnorm\": \"\", \"marker\": {\"color\": \"rgba(128, 0, 128, 1.0)\", \"line\": {\"color\": \"#4D5663\", \"width\": 1.3}}, \"name\": \"D\", \"nbinsx\": 30, \"opacity\": 0.8, \"orientation\": \"v\", \"type\": \"histogram\", \"x\": [0.16576029040650397, 0.7353781184301128, -0.39635288312626415, 0.8460923805492866, 0.5834280340395386, 0.022668873850809287, -0.7232984540044319, -1.3150340581479074, -0.34117426376557675, -2.2039151686405045, -0.5540034393317983, -0.5365510263084331, 0.9514694148660698, 1.6093071684143965, 0.5349031444835803, 0.8762223684320477, 1.4173775406277183, -0.45892366941253027, 0.7759706357601053, -0.5231570619640878, -0.7912812214498252, 1.1391103980200354, 1.040790199323024, -0.730873434869637, 1.3493645268911796, 0.9317563929515158, 0.7580306180283228, 0.5878386227634674, 1.4326486013465392, -0.20720218629137235, 0.24776731941903588, 0.07369409703522996, 0.5523389535964915, -1.4225823164676166, -0.31366079651470147, 0.2462780623614397, -0.9525515029157212, -1.5060095118808454, 0.16157669330880778, 0.2202473096122514, 0.25515230298668984, 0.1415806575371722, 1.0454826460039028, -1.6395532056044337, -1.1480878621577313, -0.21767196576881243, 0.6097280023008594, 1.0273906539859419, -1.2546164856141788, 1.6795186133330808, -1.2917753905896583, 1.4376577079402262, 2.042611479515502, 0.17051851887980343, 0.02899488058209822, 0.24876373421094727, 0.06601973384186423, 0.22350253848511487, 0.8241801220068634, 0.03501063486091633, 0.7539071353594212, 0.03488923989617106, -1.45547407467105, -0.5359645108060322, -1.284504149525958, 0.7162679959699161, -0.5031833256993665, 1.8929389937029355, 0.09901562576215357, -0.10940178309595011, 2.1374057165810063, -0.2027529518230585, -0.04669371402278774, -1.1166007758302954, -1.110979136920132, 0.9459463660753293, 0.27097005719316825, -1.7625289736087093, 0.8351417325563205, -1.6945826582379722, -0.2656569433609975, -0.8769678330899084, -0.8152967764266832, 0.19939256166508265, 0.5460777371186833, 1.458413440508323, -0.533553934042059, 0.936768896712938, -1.5020610105474623, -0.3740943538418646, -0.46449150985624155, 0.09247526313675637, 0.4408967762354214, -0.6062745194800315, -0.0868526946804238, 0.2379988912040208, -0.34447098504535295, 1.4294961780936741, -0.010673807091225312, 0.04162518036338937]}],\n",
              "                        {\"barmode\": \"overlay\", \"legend\": {\"bgcolor\": \"#F5F6F9\", \"font\": {\"color\": \"#4D5663\"}}, \"paper_bgcolor\": \"#F5F6F9\", \"plot_bgcolor\": \"#F5F6F9\", \"template\": {\"data\": {\"bar\": [{\"error_x\": {\"color\": \"#2a3f5f\"}, \"error_y\": {\"color\": \"#2a3f5f\"}, \"marker\": {\"line\": {\"color\": \"#E5ECF6\", \"width\": 0.5}}, \"type\": \"bar\"}], \"barpolar\": [{\"marker\": {\"line\": {\"color\": \"#E5ECF6\", \"width\": 0.5}}, \"type\": \"barpolar\"}], \"carpet\": [{\"aaxis\": {\"endlinecolor\": \"#2a3f5f\", \"gridcolor\": \"white\", \"linecolor\": \"white\", \"minorgridcolor\": \"white\", \"startlinecolor\": \"#2a3f5f\"}, \"baxis\": {\"endlinecolor\": \"#2a3f5f\", \"gridcolor\": \"white\", \"linecolor\": \"white\", \"minorgridcolor\": \"white\", \"startlinecolor\": \"#2a3f5f\"}, \"type\": \"carpet\"}], \"choropleth\": [{\"colorbar\": {\"outlinewidth\": 0, \"ticks\": \"\"}, \"type\": \"choropleth\"}], \"contour\": [{\"colorbar\": {\"outlinewidth\": 0, \"ticks\": \"\"}, \"colorscale\": [[0.0, \"#0d0887\"], [0.1111111111111111, \"#46039f\"], [0.2222222222222222, \"#7201a8\"], [0.3333333333333333, \"#9c179e\"], [0.4444444444444444, \"#bd3786\"], [0.5555555555555556, \"#d8576b\"], [0.6666666666666666, \"#ed7953\"], [0.7777777777777778, \"#fb9f3a\"], [0.8888888888888888, \"#fdca26\"], [1.0, \"#f0f921\"]], \"type\": \"contour\"}], \"contourcarpet\": [{\"colorbar\": {\"outlinewidth\": 0, \"ticks\": \"\"}, \"type\": \"contourcarpet\"}], \"heatmap\": [{\"colorbar\": {\"outlinewidth\": 0, \"ticks\": \"\"}, \"colorscale\": [[0.0, \"#0d0887\"], [0.1111111111111111, \"#46039f\"], [0.2222222222222222, \"#7201a8\"], [0.3333333333333333, \"#9c179e\"], [0.4444444444444444, \"#bd3786\"], [0.5555555555555556, \"#d8576b\"], [0.6666666666666666, \"#ed7953\"], [0.7777777777777778, \"#fb9f3a\"], [0.8888888888888888, \"#fdca26\"], [1.0, \"#f0f921\"]], \"type\": \"heatmap\"}], \"heatmapgl\": [{\"colorbar\": {\"outlinewidth\": 0, \"ticks\": \"\"}, \"colorscale\": [[0.0, \"#0d0887\"], [0.1111111111111111, \"#46039f\"], [0.2222222222222222, \"#7201a8\"], [0.3333333333333333, \"#9c179e\"], [0.4444444444444444, \"#bd3786\"], [0.5555555555555556, \"#d8576b\"], [0.6666666666666666, \"#ed7953\"], [0.7777777777777778, \"#fb9f3a\"], [0.8888888888888888, \"#fdca26\"], [1.0, \"#f0f921\"]], \"type\": \"heatmapgl\"}], \"histogram\": [{\"marker\": {\"colorbar\": {\"outlinewidth\": 0, \"ticks\": \"\"}}, \"type\": \"histogram\"}], \"histogram2d\": [{\"colorbar\": {\"outlinewidth\": 0, \"ticks\": \"\"}, \"colorscale\": [[0.0, \"#0d0887\"], [0.1111111111111111, \"#46039f\"], [0.2222222222222222, \"#7201a8\"], [0.3333333333333333, \"#9c179e\"], [0.4444444444444444, \"#bd3786\"], [0.5555555555555556, \"#d8576b\"], [0.6666666666666666, \"#ed7953\"], [0.7777777777777778, \"#fb9f3a\"], [0.8888888888888888, \"#fdca26\"], [1.0, \"#f0f921\"]], \"type\": \"histogram2d\"}], \"histogram2dcontour\": [{\"colorbar\": {\"outlinewidth\": 0, \"ticks\": \"\"}, \"colorscale\": [[0.0, \"#0d0887\"], [0.1111111111111111, \"#46039f\"], [0.2222222222222222, \"#7201a8\"], [0.3333333333333333, \"#9c179e\"], [0.4444444444444444, \"#bd3786\"], [0.5555555555555556, \"#d8576b\"], [0.6666666666666666, \"#ed7953\"], [0.7777777777777778, \"#fb9f3a\"], [0.8888888888888888, \"#fdca26\"], [1.0, \"#f0f921\"]], \"type\": \"histogram2dcontour\"}], \"mesh3d\": [{\"colorbar\": {\"outlinewidth\": 0, \"ticks\": \"\"}, \"type\": \"mesh3d\"}], \"parcoords\": [{\"line\": {\"colorbar\": {\"outlinewidth\": 0, \"ticks\": \"\"}}, \"type\": \"parcoords\"}], \"pie\": [{\"automargin\": true, \"type\": \"pie\"}], \"scatter\": [{\"marker\": {\"colorbar\": {\"outlinewidth\": 0, \"ticks\": \"\"}}, \"type\": \"scatter\"}], \"scatter3d\": [{\"line\": {\"colorbar\": {\"outlinewidth\": 0, \"ticks\": \"\"}}, \"marker\": {\"colorbar\": {\"outlinewidth\": 0, \"ticks\": \"\"}}, \"type\": \"scatter3d\"}], \"scattercarpet\": [{\"marker\": {\"colorbar\": {\"outlinewidth\": 0, \"ticks\": \"\"}}, \"type\": \"scattercarpet\"}], \"scattergeo\": [{\"marker\": {\"colorbar\": {\"outlinewidth\": 0, \"ticks\": \"\"}}, \"type\": \"scattergeo\"}], \"scattergl\": [{\"marker\": {\"colorbar\": {\"outlinewidth\": 0, \"ticks\": \"\"}}, \"type\": \"scattergl\"}], \"scattermapbox\": [{\"marker\": {\"colorbar\": {\"outlinewidth\": 0, \"ticks\": \"\"}}, \"type\": \"scattermapbox\"}], \"scatterpolar\": [{\"marker\": {\"colorbar\": {\"outlinewidth\": 0, \"ticks\": \"\"}}, \"type\": \"scatterpolar\"}], \"scatterpolargl\": [{\"marker\": {\"colorbar\": {\"outlinewidth\": 0, \"ticks\": \"\"}}, \"type\": \"scatterpolargl\"}], \"scatterternary\": [{\"marker\": {\"colorbar\": {\"outlinewidth\": 0, \"ticks\": \"\"}}, \"type\": \"scatterternary\"}], \"surface\": [{\"colorbar\": {\"outlinewidth\": 0, \"ticks\": \"\"}, \"colorscale\": [[0.0, \"#0d0887\"], [0.1111111111111111, \"#46039f\"], [0.2222222222222222, \"#7201a8\"], [0.3333333333333333, \"#9c179e\"], [0.4444444444444444, \"#bd3786\"], [0.5555555555555556, \"#d8576b\"], [0.6666666666666666, \"#ed7953\"], [0.7777777777777778, \"#fb9f3a\"], [0.8888888888888888, \"#fdca26\"], [1.0, \"#f0f921\"]], \"type\": \"surface\"}], \"table\": [{\"cells\": {\"fill\": {\"color\": \"#EBF0F8\"}, \"line\": {\"color\": \"white\"}}, \"header\": {\"fill\": {\"color\": \"#C8D4E3\"}, \"line\": {\"color\": \"white\"}}, \"type\": \"table\"}]}, \"layout\": {\"annotationdefaults\": {\"arrowcolor\": \"#2a3f5f\", \"arrowhead\": 0, \"arrowwidth\": 1}, \"coloraxis\": {\"colorbar\": {\"outlinewidth\": 0, \"ticks\": \"\"}}, \"colorscale\": {\"diverging\": [[0, \"#8e0152\"], [0.1, \"#c51b7d\"], [0.2, \"#de77ae\"], [0.3, \"#f1b6da\"], [0.4, \"#fde0ef\"], [0.5, \"#f7f7f7\"], [0.6, \"#e6f5d0\"], [0.7, \"#b8e186\"], [0.8, \"#7fbc41\"], [0.9, \"#4d9221\"], [1, \"#276419\"]], \"sequential\": [[0.0, \"#0d0887\"], [0.1111111111111111, \"#46039f\"], [0.2222222222222222, \"#7201a8\"], [0.3333333333333333, \"#9c179e\"], [0.4444444444444444, \"#bd3786\"], [0.5555555555555556, \"#d8576b\"], [0.6666666666666666, \"#ed7953\"], [0.7777777777777778, \"#fb9f3a\"], [0.8888888888888888, \"#fdca26\"], [1.0, \"#f0f921\"]], \"sequentialminus\": [[0.0, \"#0d0887\"], [0.1111111111111111, \"#46039f\"], [0.2222222222222222, \"#7201a8\"], [0.3333333333333333, \"#9c179e\"], [0.4444444444444444, \"#bd3786\"], [0.5555555555555556, \"#d8576b\"], [0.6666666666666666, \"#ed7953\"], [0.7777777777777778, \"#fb9f3a\"], [0.8888888888888888, \"#fdca26\"], [1.0, \"#f0f921\"]]}, \"colorway\": [\"#636efa\", \"#EF553B\", \"#00cc96\", \"#ab63fa\", \"#FFA15A\", \"#19d3f3\", \"#FF6692\", \"#B6E880\", \"#FF97FF\", \"#FECB52\"], \"font\": {\"color\": \"#2a3f5f\"}, \"geo\": {\"bgcolor\": \"white\", \"lakecolor\": \"white\", \"landcolor\": \"#E5ECF6\", \"showlakes\": true, \"showland\": true, \"subunitcolor\": \"white\"}, \"hoverlabel\": {\"align\": \"left\"}, \"hovermode\": \"closest\", \"mapbox\": {\"style\": \"light\"}, \"paper_bgcolor\": \"white\", \"plot_bgcolor\": \"#E5ECF6\", \"polar\": {\"angularaxis\": {\"gridcolor\": \"white\", \"linecolor\": \"white\", \"ticks\": \"\"}, \"bgcolor\": \"#E5ECF6\", \"radialaxis\": {\"gridcolor\": \"white\", \"linecolor\": \"white\", \"ticks\": \"\"}}, \"scene\": {\"xaxis\": {\"backgroundcolor\": \"#E5ECF6\", \"gridcolor\": \"white\", \"gridwidth\": 2, \"linecolor\": \"white\", \"showbackground\": true, \"ticks\": \"\", \"zerolinecolor\": \"white\"}, \"yaxis\": {\"backgroundcolor\": \"#E5ECF6\", \"gridcolor\": \"white\", \"gridwidth\": 2, \"linecolor\": \"white\", \"showbackground\": true, \"ticks\": \"\", \"zerolinecolor\": \"white\"}, \"zaxis\": {\"backgroundcolor\": \"#E5ECF6\", \"gridcolor\": \"white\", \"gridwidth\": 2, \"linecolor\": \"white\", \"showbackground\": true, \"ticks\": \"\", \"zerolinecolor\": \"white\"}}, \"shapedefaults\": {\"line\": {\"color\": \"#2a3f5f\"}}, \"ternary\": {\"aaxis\": {\"gridcolor\": \"white\", \"linecolor\": \"white\", \"ticks\": \"\"}, \"baxis\": {\"gridcolor\": \"white\", \"linecolor\": \"white\", \"ticks\": \"\"}, \"bgcolor\": \"#E5ECF6\", \"caxis\": {\"gridcolor\": \"white\", \"linecolor\": \"white\", \"ticks\": \"\"}}, \"title\": {\"x\": 0.05}, \"xaxis\": {\"automargin\": true, \"gridcolor\": \"white\", \"linecolor\": \"white\", \"ticks\": \"\", \"title\": {\"standoff\": 15}, \"zerolinecolor\": \"white\", \"zerolinewidth\": 2}, \"yaxis\": {\"automargin\": true, \"gridcolor\": \"white\", \"linecolor\": \"white\", \"ticks\": \"\", \"title\": {\"standoff\": 15}, \"zerolinecolor\": \"white\", \"zerolinewidth\": 2}}}, \"title\": {\"font\": {\"color\": \"#4D5663\"}}, \"xaxis\": {\"gridcolor\": \"#E1E5ED\", \"showgrid\": true, \"tickfont\": {\"color\": \"#4D5663\"}, \"title\": {\"font\": {\"color\": \"#4D5663\"}, \"text\": \"\"}, \"zerolinecolor\": \"#E1E5ED\"}, \"yaxis\": {\"gridcolor\": \"#E1E5ED\", \"showgrid\": true, \"tickfont\": {\"color\": \"#4D5663\"}, \"title\": {\"font\": {\"color\": \"#4D5663\"}, \"text\": \"\"}, \"zerolinecolor\": \"#E1E5ED\"}},\n",
              "                        {\"showLink\": true, \"linkText\": \"Export to plot.ly\", \"plotlyServerURL\": \"https://plot.ly\", \"responsive\": true}\n",
              "                    ).then(function(){\n",
              "                            \n",
              "var gd = document.getElementById('35301728-31b1-4997-b8bb-cd64e34e0547');\n",
              "var x = new MutationObserver(function (mutations, observer) {{\n",
              "        var display = window.getComputedStyle(gd).display;\n",
              "        if (!display || display === 'none') {{\n",
              "            console.log([gd, 'removed!']);\n",
              "            Plotly.purge(gd);\n",
              "            observer.disconnect();\n",
              "        }}\n",
              "}});\n",
              "\n",
              "// Listen for the removal of the full notebook cells\n",
              "var notebookContainer = gd.closest('#notebook-container');\n",
              "if (notebookContainer) {{\n",
              "    x.observe(notebookContainer, {childList: true});\n",
              "}}\n",
              "\n",
              "// Listen for the clearing of the current output cell\n",
              "var outputEl = gd.closest('.output');\n",
              "if (outputEl) {{\n",
              "    x.observe(outputEl, {childList: true});\n",
              "}}\n",
              "\n",
              "                        })\n",
              "                };\n",
              "                \n",
              "            </script>\n",
              "        </div>\n",
              "</body>\n",
              "</html>"
            ]
          },
          "metadata": {
            "tags": []
          }
        }
      ]
    },
    {
      "cell_type": "code",
      "metadata": {
        "id": "sUmtC_Jl3cq3",
        "colab_type": "code",
        "colab": {}
      },
      "source": [
        "# df[['A','B']].iplot(kind='spread')"
      ],
      "execution_count": 0,
      "outputs": []
    },
    {
      "cell_type": "code",
      "metadata": {
        "id": "7rwUPIGe3mW4",
        "colab_type": "code",
        "colab": {
          "base_uri": "https://localhost:8080/",
          "height": 542
        },
        "outputId": "9aa518a3-1a86-4201-a7c5-e03e0c6e1b7d"
      },
      "source": [
        "df.iplot(kind='bubble',x='A',y='B',size='C')"
      ],
      "execution_count": 71,
      "outputs": [
        {
          "output_type": "display_data",
          "data": {
            "text/html": [
              "<html>\n",
              "<head><meta charset=\"utf-8\" /></head>\n",
              "<body>\n",
              "    <div>\n",
              "            <script src=\"https://cdnjs.cloudflare.com/ajax/libs/mathjax/2.7.5/MathJax.js?config=TeX-AMS-MML_SVG\"></script><script type=\"text/javascript\">if (window.MathJax) {MathJax.Hub.Config({SVG: {font: \"STIX-Web\"}});}</script>\n",
              "                <script type=\"text/javascript\">window.PlotlyConfig = {MathJaxConfig: 'local'};</script>\n",
              "        <script src=\"https://cdn.plot.ly/plotly-latest.min.js\"></script>    \n",
              "            <div id=\"c18fb564-180c-4684-9d0e-36b8f77a4705\" class=\"plotly-graph-div\" style=\"height:525px; width:100%;\"></div>\n",
              "            <script type=\"text/javascript\">\n",
              "                \n",
              "                    window.PLOTLYENV=window.PLOTLYENV || {};\n",
              "                    window.PLOTLYENV.BASE_URL='https://plot.ly';\n",
              "                    \n",
              "                if (document.getElementById(\"c18fb564-180c-4684-9d0e-36b8f77a4705\")) {\n",
              "                    Plotly.newPlot(\n",
              "                        'c18fb564-180c-4684-9d0e-36b8f77a4705',\n",
              "                        [{\"marker\": {\"color\": [\"rgb(255, 153, 51)\", \"rgb(55, 128, 191)\", \"rgb(50, 171, 96)\", \"rgb(128, 0, 128)\", \"rgb(219, 64, 82)\", \"rgb(0, 128, 128)\", \"rgb(255, 255, 51)\", \"rgb(128, 128, 0)\", \"rgb(251, 128, 114)\", \"rgb(128, 177, 211)\"], \"line\": {\"width\": 1.3}, \"size\": [51, 30, 65, 33, 31, 64, 112, 24, 12, 78, 48, 75, 19, 53, 89, 70, 87, 70, 69, 28, 91, 67, 64, 75, 63, 66, 47, 67, 78, 91, 66, 76, 66, 70, 70, 64, 63, 25, 55, 43, 61, 56, 70, 73, 88, 89, 73, 49, 51, 62, 95, 107, 76, 36, 53, 13, 57, 64, 77, 43, 12, 63, 51, 86, 81, 78, 38, 44, 36, 56, 66, 62, 75, 49, 67, 76, 58, 68, 56, 74, 57, 87, 83, 30, 17, 84, 52, 64, 23, 72, 35, 70, 30, 17, 46, 68, 77, 41, 82, 42], \"symbol\": \"circle\"}, \"mode\": \"markers\", \"text\": \"\", \"type\": \"scatter\", \"x\": [-2.068481242470521, -0.06830072174778413, 0.34686815459740566, 1.7404560246674383, 0.260145933794787, -1.6687556797736214, 1.2128292608384186, 1.276759847076379, 0.012589088341520047, 0.6837240475443442, -0.5102467506900561, -0.7782360903554235, -2.341546922060079, 0.39173212431984145, 0.15323339526132104, 0.3104819072155177, -0.44218825427175923, -0.32150902708869994, -0.033858181247083445, 0.3359230701195722, 0.8022437874387931, 0.03601910255625717, -0.4061836761174409, -0.4003801133136168, 0.10092907154841461, 1.5233562187288536, -0.36722594437827283, 0.03253231846998982, -2.282982536415899, 0.5830802711190498, -0.4311524540735369, 1.1614317023417755, -0.10426289520479025, -1.1212768013578707, 0.06334068027172927, 0.01630376329550353, -0.45457557725717207, -0.938789821802139, 0.06099939323351222, 0.35887818748664885, -0.843793734057207, 0.0478569867049216, -0.2417538602769474, -0.038942887102078806, 0.053593639039046, -1.2211623482179648, -0.17036200068698545, -0.4443887116011843, 0.37019280008777267, 1.5443258334719654, -0.6181394088457115, -0.45792799326957373, -1.9361516681418143, 0.7434597203247988, -0.5108806403318328, 0.16514967255301594, 0.4775907874146169, -0.4774554221272687, 0.2419944748702217, 0.5181025641411692, 0.06948103228401782, -0.08102350563166708, -0.5632934821646675, -0.10831738227239747, 1.7327185525045936, 0.3704868260629756, -0.5159738914988036, 0.6967248312772667, 0.9729344612886184, 0.04693965652740349, 1.1054124247780315, -1.217420888691861, -0.38814588141461437, -1.0796755270554717, -1.0958149053019528, -2.3417318911687075, -0.011587462929148149, 0.9095237774878863, -0.02621533665839742, 0.8466593311125113, -0.7175705015184023, -0.19377387371188784, -0.5783852466829044, -0.13044163951325857, 1.066628215523557, 0.26129669924845683, 2.0189419209649317, -1.3553670039412815, 0.5018501059843185, 0.6531387684143183, 1.9022631291702592, -1.2934389171784868, 0.06544750594269423, 0.8411001692608153, 0.5580249008107335, 1.9956733413950396, -0.5021972339098685, -0.47316947988094754, -1.114299172278719, 1.3644252487147408], \"y\": [0.13546053507022923, 0.8528952539056167, -0.9120473287918056, -0.4360167071034324, 0.4030021035722929, 0.21845456351115183, -1.5146188477997056, -1.1081262345827807, 0.2505550893228284, -1.089754160529704, -1.999471543859598, -0.13298981222990705, 0.7083688242077885, -0.7428531839143373, 1.2717469173085532, -0.7243561359853562, -1.4370056513901115, -0.8578890500584263, -0.5199289547555342, -0.9858204761709641, 0.7502511092487195, -0.9622680220774841, 0.8606852397738878, -0.3529663721617263, -1.7724111999399959, 0.11671383039125793, 2.1104136856870674, -0.058342444826866936, 2.028760783982244, 0.6055565892850192, 1.343911038550699, 0.5764709024505792, 0.2573852649890621, -2.5497668496098447, -0.9505829571138086, 0.07158004593194874, -1.1320989581537642, 1.2498551328713434, -0.5411155904440764, 1.9433075662035164, -0.6390591873405453, 0.206562955695758, 0.24791031488052412, 1.2761130220428456, -0.43330761534391343, -0.6646931807852855, 1.0006041439810665, 0.24950232089024862, 1.824582338513296, -0.33503434728787385, -0.10390476120042613, 2.0558297587310213, 2.4705327300888382, 0.24641029074204315, 0.891406383668593, -0.4460375336323596, -0.05403819614345976, 0.6069379690402813, -0.6584213592294729, -0.6804624868343676, 0.3554374013526221, -0.6197422292201394, -1.4363793854686329, 0.6391732419232593, 1.5260538377224617, -1.327403466180733, 0.46678698493924725, 1.5618372075729798, 0.1771511713172017, -0.1471852825641017, 0.758092470021777, -1.531560505955019, -0.5331876622432652, -1.8806673130309681, 0.4339395458758081, 0.7287842973459717, 0.5843657299612066, 0.5675425116136315, 1.5051957081584857, 0.9984576089198394, -1.361450265891984, -0.05477528106219799, 0.651652184054883, 1.8956547523097942, 0.960325494070041, 0.6333460121494614, -0.23176142161827948, -1.4147891851188463, -0.47355461876870314, 0.24759608652395304, 0.6919142969542673, -0.33833598108215074, 0.1537146391163577, -0.9427824418183438, -1.0535415962258836, -0.46097231553426254, -2.5076551988203275, -0.43772317036284325, 0.7570175143322317, 0.4828692956441521]}],\n",
              "                        {\"legend\": {\"bgcolor\": \"#F5F6F9\", \"font\": {\"color\": \"#4D5663\"}}, \"paper_bgcolor\": \"#F5F6F9\", \"plot_bgcolor\": \"#F5F6F9\", \"template\": {\"data\": {\"bar\": [{\"error_x\": {\"color\": \"#2a3f5f\"}, \"error_y\": {\"color\": \"#2a3f5f\"}, \"marker\": {\"line\": {\"color\": \"#E5ECF6\", \"width\": 0.5}}, \"type\": \"bar\"}], \"barpolar\": [{\"marker\": {\"line\": {\"color\": \"#E5ECF6\", \"width\": 0.5}}, \"type\": \"barpolar\"}], \"carpet\": [{\"aaxis\": {\"endlinecolor\": \"#2a3f5f\", \"gridcolor\": \"white\", \"linecolor\": \"white\", \"minorgridcolor\": \"white\", \"startlinecolor\": \"#2a3f5f\"}, \"baxis\": {\"endlinecolor\": \"#2a3f5f\", \"gridcolor\": \"white\", \"linecolor\": \"white\", \"minorgridcolor\": \"white\", \"startlinecolor\": \"#2a3f5f\"}, \"type\": \"carpet\"}], \"choropleth\": [{\"colorbar\": {\"outlinewidth\": 0, \"ticks\": \"\"}, \"type\": \"choropleth\"}], \"contour\": [{\"colorbar\": {\"outlinewidth\": 0, \"ticks\": \"\"}, \"colorscale\": [[0.0, \"#0d0887\"], [0.1111111111111111, \"#46039f\"], [0.2222222222222222, \"#7201a8\"], [0.3333333333333333, \"#9c179e\"], [0.4444444444444444, \"#bd3786\"], [0.5555555555555556, \"#d8576b\"], [0.6666666666666666, \"#ed7953\"], [0.7777777777777778, \"#fb9f3a\"], [0.8888888888888888, \"#fdca26\"], [1.0, \"#f0f921\"]], \"type\": \"contour\"}], \"contourcarpet\": [{\"colorbar\": {\"outlinewidth\": 0, \"ticks\": \"\"}, \"type\": \"contourcarpet\"}], \"heatmap\": [{\"colorbar\": {\"outlinewidth\": 0, \"ticks\": \"\"}, \"colorscale\": [[0.0, \"#0d0887\"], [0.1111111111111111, \"#46039f\"], [0.2222222222222222, \"#7201a8\"], [0.3333333333333333, \"#9c179e\"], [0.4444444444444444, \"#bd3786\"], [0.5555555555555556, \"#d8576b\"], [0.6666666666666666, \"#ed7953\"], [0.7777777777777778, \"#fb9f3a\"], [0.8888888888888888, \"#fdca26\"], [1.0, \"#f0f921\"]], \"type\": \"heatmap\"}], \"heatmapgl\": [{\"colorbar\": {\"outlinewidth\": 0, \"ticks\": \"\"}, \"colorscale\": [[0.0, \"#0d0887\"], [0.1111111111111111, \"#46039f\"], [0.2222222222222222, \"#7201a8\"], [0.3333333333333333, \"#9c179e\"], [0.4444444444444444, \"#bd3786\"], [0.5555555555555556, \"#d8576b\"], [0.6666666666666666, \"#ed7953\"], [0.7777777777777778, \"#fb9f3a\"], [0.8888888888888888, \"#fdca26\"], [1.0, \"#f0f921\"]], \"type\": \"heatmapgl\"}], \"histogram\": [{\"marker\": {\"colorbar\": {\"outlinewidth\": 0, \"ticks\": \"\"}}, \"type\": \"histogram\"}], \"histogram2d\": [{\"colorbar\": {\"outlinewidth\": 0, \"ticks\": \"\"}, \"colorscale\": [[0.0, \"#0d0887\"], [0.1111111111111111, \"#46039f\"], [0.2222222222222222, \"#7201a8\"], [0.3333333333333333, \"#9c179e\"], [0.4444444444444444, \"#bd3786\"], [0.5555555555555556, \"#d8576b\"], [0.6666666666666666, \"#ed7953\"], [0.7777777777777778, \"#fb9f3a\"], [0.8888888888888888, \"#fdca26\"], [1.0, \"#f0f921\"]], \"type\": \"histogram2d\"}], \"histogram2dcontour\": [{\"colorbar\": {\"outlinewidth\": 0, \"ticks\": \"\"}, \"colorscale\": [[0.0, \"#0d0887\"], [0.1111111111111111, \"#46039f\"], [0.2222222222222222, \"#7201a8\"], [0.3333333333333333, \"#9c179e\"], [0.4444444444444444, \"#bd3786\"], [0.5555555555555556, \"#d8576b\"], [0.6666666666666666, \"#ed7953\"], [0.7777777777777778, \"#fb9f3a\"], [0.8888888888888888, \"#fdca26\"], [1.0, \"#f0f921\"]], \"type\": \"histogram2dcontour\"}], \"mesh3d\": [{\"colorbar\": {\"outlinewidth\": 0, \"ticks\": \"\"}, \"type\": \"mesh3d\"}], \"parcoords\": [{\"line\": {\"colorbar\": {\"outlinewidth\": 0, \"ticks\": \"\"}}, \"type\": \"parcoords\"}], \"pie\": [{\"automargin\": true, \"type\": \"pie\"}], \"scatter\": [{\"marker\": {\"colorbar\": {\"outlinewidth\": 0, \"ticks\": \"\"}}, \"type\": \"scatter\"}], \"scatter3d\": [{\"line\": {\"colorbar\": {\"outlinewidth\": 0, \"ticks\": \"\"}}, \"marker\": {\"colorbar\": {\"outlinewidth\": 0, \"ticks\": \"\"}}, \"type\": \"scatter3d\"}], \"scattercarpet\": [{\"marker\": {\"colorbar\": {\"outlinewidth\": 0, \"ticks\": \"\"}}, \"type\": \"scattercarpet\"}], \"scattergeo\": [{\"marker\": {\"colorbar\": {\"outlinewidth\": 0, \"ticks\": \"\"}}, \"type\": \"scattergeo\"}], \"scattergl\": [{\"marker\": {\"colorbar\": {\"outlinewidth\": 0, \"ticks\": \"\"}}, \"type\": \"scattergl\"}], \"scattermapbox\": [{\"marker\": {\"colorbar\": {\"outlinewidth\": 0, \"ticks\": \"\"}}, \"type\": \"scattermapbox\"}], \"scatterpolar\": [{\"marker\": {\"colorbar\": {\"outlinewidth\": 0, \"ticks\": \"\"}}, \"type\": \"scatterpolar\"}], \"scatterpolargl\": [{\"marker\": {\"colorbar\": {\"outlinewidth\": 0, \"ticks\": \"\"}}, \"type\": \"scatterpolargl\"}], \"scatterternary\": [{\"marker\": {\"colorbar\": {\"outlinewidth\": 0, \"ticks\": \"\"}}, \"type\": \"scatterternary\"}], \"surface\": [{\"colorbar\": {\"outlinewidth\": 0, \"ticks\": \"\"}, \"colorscale\": [[0.0, \"#0d0887\"], [0.1111111111111111, \"#46039f\"], [0.2222222222222222, \"#7201a8\"], [0.3333333333333333, \"#9c179e\"], [0.4444444444444444, \"#bd3786\"], [0.5555555555555556, \"#d8576b\"], [0.6666666666666666, \"#ed7953\"], [0.7777777777777778, \"#fb9f3a\"], [0.8888888888888888, \"#fdca26\"], [1.0, \"#f0f921\"]], \"type\": \"surface\"}], \"table\": [{\"cells\": {\"fill\": {\"color\": \"#EBF0F8\"}, \"line\": {\"color\": \"white\"}}, \"header\": {\"fill\": {\"color\": \"#C8D4E3\"}, \"line\": {\"color\": \"white\"}}, \"type\": \"table\"}]}, \"layout\": {\"annotationdefaults\": {\"arrowcolor\": \"#2a3f5f\", \"arrowhead\": 0, \"arrowwidth\": 1}, \"coloraxis\": {\"colorbar\": {\"outlinewidth\": 0, \"ticks\": \"\"}}, \"colorscale\": {\"diverging\": [[0, \"#8e0152\"], [0.1, \"#c51b7d\"], [0.2, \"#de77ae\"], [0.3, \"#f1b6da\"], [0.4, \"#fde0ef\"], [0.5, \"#f7f7f7\"], [0.6, \"#e6f5d0\"], [0.7, \"#b8e186\"], [0.8, \"#7fbc41\"], [0.9, \"#4d9221\"], [1, \"#276419\"]], \"sequential\": [[0.0, \"#0d0887\"], [0.1111111111111111, \"#46039f\"], [0.2222222222222222, \"#7201a8\"], [0.3333333333333333, \"#9c179e\"], [0.4444444444444444, \"#bd3786\"], [0.5555555555555556, \"#d8576b\"], [0.6666666666666666, \"#ed7953\"], [0.7777777777777778, \"#fb9f3a\"], [0.8888888888888888, \"#fdca26\"], [1.0, \"#f0f921\"]], \"sequentialminus\": [[0.0, \"#0d0887\"], [0.1111111111111111, \"#46039f\"], [0.2222222222222222, \"#7201a8\"], [0.3333333333333333, \"#9c179e\"], [0.4444444444444444, \"#bd3786\"], [0.5555555555555556, \"#d8576b\"], [0.6666666666666666, \"#ed7953\"], [0.7777777777777778, \"#fb9f3a\"], [0.8888888888888888, \"#fdca26\"], [1.0, \"#f0f921\"]]}, \"colorway\": [\"#636efa\", \"#EF553B\", \"#00cc96\", \"#ab63fa\", \"#FFA15A\", \"#19d3f3\", \"#FF6692\", \"#B6E880\", \"#FF97FF\", \"#FECB52\"], \"font\": {\"color\": \"#2a3f5f\"}, \"geo\": {\"bgcolor\": \"white\", \"lakecolor\": \"white\", \"landcolor\": \"#E5ECF6\", \"showlakes\": true, \"showland\": true, \"subunitcolor\": \"white\"}, \"hoverlabel\": {\"align\": \"left\"}, \"hovermode\": \"closest\", \"mapbox\": {\"style\": \"light\"}, \"paper_bgcolor\": \"white\", \"plot_bgcolor\": \"#E5ECF6\", \"polar\": {\"angularaxis\": {\"gridcolor\": \"white\", \"linecolor\": \"white\", \"ticks\": \"\"}, \"bgcolor\": \"#E5ECF6\", \"radialaxis\": {\"gridcolor\": \"white\", \"linecolor\": \"white\", \"ticks\": \"\"}}, \"scene\": {\"xaxis\": {\"backgroundcolor\": \"#E5ECF6\", \"gridcolor\": \"white\", \"gridwidth\": 2, \"linecolor\": \"white\", \"showbackground\": true, \"ticks\": \"\", \"zerolinecolor\": \"white\"}, \"yaxis\": {\"backgroundcolor\": \"#E5ECF6\", \"gridcolor\": \"white\", \"gridwidth\": 2, \"linecolor\": \"white\", \"showbackground\": true, \"ticks\": \"\", \"zerolinecolor\": \"white\"}, \"zaxis\": {\"backgroundcolor\": \"#E5ECF6\", \"gridcolor\": \"white\", \"gridwidth\": 2, \"linecolor\": \"white\", \"showbackground\": true, \"ticks\": \"\", \"zerolinecolor\": \"white\"}}, \"shapedefaults\": {\"line\": {\"color\": \"#2a3f5f\"}}, \"ternary\": {\"aaxis\": {\"gridcolor\": \"white\", \"linecolor\": \"white\", \"ticks\": \"\"}, \"baxis\": {\"gridcolor\": \"white\", \"linecolor\": \"white\", \"ticks\": \"\"}, \"bgcolor\": \"#E5ECF6\", \"caxis\": {\"gridcolor\": \"white\", \"linecolor\": \"white\", \"ticks\": \"\"}}, \"title\": {\"x\": 0.05}, \"xaxis\": {\"automargin\": true, \"gridcolor\": \"white\", \"linecolor\": \"white\", \"ticks\": \"\", \"title\": {\"standoff\": 15}, \"zerolinecolor\": \"white\", \"zerolinewidth\": 2}, \"yaxis\": {\"automargin\": true, \"gridcolor\": \"white\", \"linecolor\": \"white\", \"ticks\": \"\", \"title\": {\"standoff\": 15}, \"zerolinecolor\": \"white\", \"zerolinewidth\": 2}}}, \"title\": {\"font\": {\"color\": \"#4D5663\"}}, \"xaxis\": {\"gridcolor\": \"#E1E5ED\", \"showgrid\": true, \"tickfont\": {\"color\": \"#4D5663\"}, \"title\": {\"font\": {\"color\": \"#4D5663\"}, \"text\": \"\"}, \"zerolinecolor\": \"#E1E5ED\"}, \"yaxis\": {\"gridcolor\": \"#E1E5ED\", \"showgrid\": true, \"tickfont\": {\"color\": \"#4D5663\"}, \"title\": {\"font\": {\"color\": \"#4D5663\"}, \"text\": \"\"}, \"zerolinecolor\": \"#E1E5ED\"}},\n",
              "                        {\"showLink\": true, \"linkText\": \"Export to plot.ly\", \"plotlyServerURL\": \"https://plot.ly\", \"responsive\": true}\n",
              "                    ).then(function(){\n",
              "                            \n",
              "var gd = document.getElementById('c18fb564-180c-4684-9d0e-36b8f77a4705');\n",
              "var x = new MutationObserver(function (mutations, observer) {{\n",
              "        var display = window.getComputedStyle(gd).display;\n",
              "        if (!display || display === 'none') {{\n",
              "            console.log([gd, 'removed!']);\n",
              "            Plotly.purge(gd);\n",
              "            observer.disconnect();\n",
              "        }}\n",
              "}});\n",
              "\n",
              "// Listen for the removal of the full notebook cells\n",
              "var notebookContainer = gd.closest('#notebook-container');\n",
              "if (notebookContainer) {{\n",
              "    x.observe(notebookContainer, {childList: true});\n",
              "}}\n",
              "\n",
              "// Listen for the clearing of the current output cell\n",
              "var outputEl = gd.closest('.output');\n",
              "if (outputEl) {{\n",
              "    x.observe(outputEl, {childList: true});\n",
              "}}\n",
              "\n",
              "                        })\n",
              "                };\n",
              "                \n",
              "            </script>\n",
              "        </div>\n",
              "</body>\n",
              "</html>"
            ]
          },
          "metadata": {
            "tags": []
          }
        }
      ]
    },
    {
      "cell_type": "code",
      "metadata": {
        "id": "TtjSQLWH5QPD",
        "colab_type": "code",
        "colab": {
          "base_uri": "https://localhost:8080/",
          "height": 542
        },
        "outputId": "e70580c5-154c-4cc9-a0bb-a08894b8680e"
      },
      "source": [
        "df.scatter_matrix()"
      ],
      "execution_count": 74,
      "outputs": [
        {
          "output_type": "display_data",
          "data": {
            "text/html": [
              "<html>\n",
              "<head><meta charset=\"utf-8\" /></head>\n",
              "<body>\n",
              "    <div>\n",
              "            <script src=\"https://cdnjs.cloudflare.com/ajax/libs/mathjax/2.7.5/MathJax.js?config=TeX-AMS-MML_SVG\"></script><script type=\"text/javascript\">if (window.MathJax) {MathJax.Hub.Config({SVG: {font: \"STIX-Web\"}});}</script>\n",
              "                <script type=\"text/javascript\">window.PlotlyConfig = {MathJaxConfig: 'local'};</script>\n",
              "        <script src=\"https://cdn.plot.ly/plotly-latest.min.js\"></script>    \n",
              "            <div id=\"0151e059-3d8a-4e1b-ac86-e1aa488a8f0b\" class=\"plotly-graph-div\" style=\"height:525px; width:100%;\"></div>\n",
              "            <script type=\"text/javascript\">\n",
              "                \n",
              "                    window.PLOTLYENV=window.PLOTLYENV || {};\n",
              "                    window.PLOTLYENV.BASE_URL='https://plot.ly';\n",
              "                    \n",
              "                if (document.getElementById(\"0151e059-3d8a-4e1b-ac86-e1aa488a8f0b\")) {\n",
              "                    Plotly.newPlot(\n",
              "                        '0151e059-3d8a-4e1b-ac86-e1aa488a8f0b',\n",
              "                        [{\"histfunc\": \"count\", \"histnorm\": \"\", \"marker\": {\"color\": \"rgba(255, 153, 51, 1.0)\", \"line\": {\"color\": \"#4D5663\", \"width\": 1.3}}, \"name\": \"A\", \"nbinsx\": 10, \"opacity\": 0.8, \"orientation\": \"v\", \"type\": \"histogram\", \"x\": [-2.068481242470521, -0.06830072174778413, 0.34686815459740566, 1.7404560246674383, 0.260145933794787, -1.6687556797736214, 1.2128292608384186, 1.276759847076379, 0.012589088341520047, 0.6837240475443442, -0.5102467506900561, -0.7782360903554235, -2.341546922060079, 0.39173212431984145, 0.15323339526132104, 0.3104819072155177, -0.44218825427175923, -0.32150902708869994, -0.033858181247083445, 0.3359230701195722, 0.8022437874387931, 0.03601910255625717, -0.4061836761174409, -0.4003801133136168, 0.10092907154841461, 1.5233562187288536, -0.36722594437827283, 0.03253231846998982, -2.282982536415899, 0.5830802711190498, -0.4311524540735369, 1.1614317023417755, -0.10426289520479025, -1.1212768013578707, 0.06334068027172927, 0.01630376329550353, -0.45457557725717207, -0.938789821802139, 0.06099939323351222, 0.35887818748664885, -0.843793734057207, 0.0478569867049216, -0.2417538602769474, -0.038942887102078806, 0.053593639039046, -1.2211623482179648, -0.17036200068698545, -0.4443887116011843, 0.37019280008777267, 1.5443258334719654, -0.6181394088457115, -0.45792799326957373, -1.9361516681418143, 0.7434597203247988, -0.5108806403318328, 0.16514967255301594, 0.4775907874146169, -0.4774554221272687, 0.2419944748702217, 0.5181025641411692, 0.06948103228401782, -0.08102350563166708, -0.5632934821646675, -0.10831738227239747, 1.7327185525045936, 0.3704868260629756, -0.5159738914988036, 0.6967248312772667, 0.9729344612886184, 0.04693965652740349, 1.1054124247780315, -1.217420888691861, -0.38814588141461437, -1.0796755270554717, -1.0958149053019528, -2.3417318911687075, -0.011587462929148149, 0.9095237774878863, -0.02621533665839742, 0.8466593311125113, -0.7175705015184023, -0.19377387371188784, -0.5783852466829044, -0.13044163951325857, 1.066628215523557, 0.26129669924845683, 2.0189419209649317, -1.3553670039412815, 0.5018501059843185, 0.6531387684143183, 1.9022631291702592, -1.2934389171784868, 0.06544750594269423, 0.8411001692608153, 0.5580249008107335, 1.9956733413950396, -0.5021972339098685, -0.47316947988094754, -1.114299172278719, 1.3644252487147408], \"xaxis\": \"x\", \"yaxis\": \"y\"}, {\"line\": {\"color\": \"rgba(128, 128, 128, 1.0)\", \"dash\": \"solid\", \"shape\": \"linear\", \"width\": 1.3}, \"marker\": {\"size\": 2, \"symbol\": \"circle\"}, \"mode\": \"markers\", \"name\": \"A\", \"text\": \"\", \"type\": \"scatter\", \"x\": [0.13546053507022923, 0.8528952539056167, -0.9120473287918056, -0.4360167071034324, 0.4030021035722929, 0.21845456351115183, -1.5146188477997056, -1.1081262345827807, 0.2505550893228284, -1.089754160529704, -1.999471543859598, -0.13298981222990705, 0.7083688242077885, -0.7428531839143373, 1.2717469173085532, -0.7243561359853562, -1.4370056513901115, -0.8578890500584263, -0.5199289547555342, -0.9858204761709641, 0.7502511092487195, -0.9622680220774841, 0.8606852397738878, -0.3529663721617263, -1.7724111999399959, 0.11671383039125793, 2.1104136856870674, -0.058342444826866936, 2.028760783982244, 0.6055565892850192, 1.343911038550699, 0.5764709024505792, 0.2573852649890621, -2.5497668496098447, -0.9505829571138086, 0.07158004593194874, -1.1320989581537642, 1.2498551328713434, -0.5411155904440764, 1.9433075662035164, -0.6390591873405453, 0.206562955695758, 0.24791031488052412, 1.2761130220428456, -0.43330761534391343, -0.6646931807852855, 1.0006041439810665, 0.24950232089024862, 1.824582338513296, -0.33503434728787385, -0.10390476120042613, 2.0558297587310213, 2.4705327300888382, 0.24641029074204315, 0.891406383668593, -0.4460375336323596, -0.05403819614345976, 0.6069379690402813, -0.6584213592294729, -0.6804624868343676, 0.3554374013526221, -0.6197422292201394, -1.4363793854686329, 0.6391732419232593, 1.5260538377224617, -1.327403466180733, 0.46678698493924725, 1.5618372075729798, 0.1771511713172017, -0.1471852825641017, 0.758092470021777, -1.531560505955019, -0.5331876622432652, -1.8806673130309681, 0.4339395458758081, 0.7287842973459717, 0.5843657299612066, 0.5675425116136315, 1.5051957081584857, 0.9984576089198394, -1.361450265891984, -0.05477528106219799, 0.651652184054883, 1.8956547523097942, 0.960325494070041, 0.6333460121494614, -0.23176142161827948, -1.4147891851188463, -0.47355461876870314, 0.24759608652395304, 0.6919142969542673, -0.33833598108215074, 0.1537146391163577, -0.9427824418183438, -1.0535415962258836, -0.46097231553426254, -2.5076551988203275, -0.43772317036284325, 0.7570175143322317, 0.4828692956441521], \"xaxis\": \"x2\", \"y\": [-2.068481242470521, -0.06830072174778413, 0.34686815459740566, 1.7404560246674383, 0.260145933794787, -1.6687556797736214, 1.2128292608384186, 1.276759847076379, 0.012589088341520047, 0.6837240475443442, -0.5102467506900561, -0.7782360903554235, -2.341546922060079, 0.39173212431984145, 0.15323339526132104, 0.3104819072155177, -0.44218825427175923, -0.32150902708869994, -0.033858181247083445, 0.3359230701195722, 0.8022437874387931, 0.03601910255625717, -0.4061836761174409, -0.4003801133136168, 0.10092907154841461, 1.5233562187288536, -0.36722594437827283, 0.03253231846998982, -2.282982536415899, 0.5830802711190498, -0.4311524540735369, 1.1614317023417755, -0.10426289520479025, -1.1212768013578707, 0.06334068027172927, 0.01630376329550353, -0.45457557725717207, -0.938789821802139, 0.06099939323351222, 0.35887818748664885, -0.843793734057207, 0.0478569867049216, -0.2417538602769474, -0.038942887102078806, 0.053593639039046, -1.2211623482179648, -0.17036200068698545, -0.4443887116011843, 0.37019280008777267, 1.5443258334719654, -0.6181394088457115, -0.45792799326957373, -1.9361516681418143, 0.7434597203247988, -0.5108806403318328, 0.16514967255301594, 0.4775907874146169, -0.4774554221272687, 0.2419944748702217, 0.5181025641411692, 0.06948103228401782, -0.08102350563166708, -0.5632934821646675, -0.10831738227239747, 1.7327185525045936, 0.3704868260629756, -0.5159738914988036, 0.6967248312772667, 0.9729344612886184, 0.04693965652740349, 1.1054124247780315, -1.217420888691861, -0.38814588141461437, -1.0796755270554717, -1.0958149053019528, -2.3417318911687075, -0.011587462929148149, 0.9095237774878863, -0.02621533665839742, 0.8466593311125113, -0.7175705015184023, -0.19377387371188784, -0.5783852466829044, -0.13044163951325857, 1.066628215523557, 0.26129669924845683, 2.0189419209649317, -1.3553670039412815, 0.5018501059843185, 0.6531387684143183, 1.9022631291702592, -1.2934389171784868, 0.06544750594269423, 0.8411001692608153, 0.5580249008107335, 1.9956733413950396, -0.5021972339098685, -0.47316947988094754, -1.114299172278719, 1.3644252487147408], \"yaxis\": \"y2\"}, {\"line\": {\"color\": \"rgba(128, 128, 128, 1.0)\", \"dash\": \"solid\", \"shape\": \"linear\", \"width\": 1.3}, \"marker\": {\"size\": 2, \"symbol\": \"circle\"}, \"mode\": \"markers\", \"name\": \"A\", \"text\": \"\", \"type\": \"scatter\", \"x\": [-0.4490965191707045, -1.3566624199171347, 0.11010174114668976, -1.2059230985671745, -1.293518642299254, 0.0768114429111746, 2.0713794720510563, -1.6136102766998872, -2.1183418088097254, 0.6584018977466556, -0.5819428441757667, 0.5471898408441686, -1.8244706216056903, -0.35890916630399583, 1.138641041310387, 0.31611546567849097, 1.0559771602321337, 0.33767317562215937, 0.3033628923796153, -1.4335836985969974, 1.2096368994544906, 0.20689061625255836, 0.09488785762250992, 0.5617887062170834, 0.023154308790518715, 0.15168789975164204, -0.6180336191881293, 0.20622837757895413, 0.6485714799411542, 1.1963676140509656, 0.1654910893430052, 0.5749779562163441, 0.16108900684868976, 0.3485567916805989, 0.3152055370319175, 0.08180464812136456, 0.020620326956704384, -1.5596986546230043, -0.2778496376241181, -0.8177813904604749, -0.047248911278135124, -0.26675964256587714, 0.33145366006431287, 0.4435718943527746, 1.0834591102193718, 1.1181927159205571, 0.4670669747598463, -0.5329526643065524, -0.44635128706169075, 0.014871920137131739, 1.3812612374583608, 1.8920639380885012, 0.5653173636965959, -1.098288205522477, -0.382976691456405, -2.0462213086186645, -0.20451968519589875, 0.07856773595182073, 0.6306289545841886, -0.8110523405607823, -2.0899974454372776, 0.056410401765543884, -0.47904391491468185, 0.9888181876263, 0.7921507229057528, 0.6588455707730912, -1.0117051153143026, -0.7401670941766406, -1.1019512930005688, -0.2330072114146048, 0.14678659128359187, -0.016972325384005515, 0.538226961324923, -0.5527431124284627, 0.21787234394765675, 0.5775448863301242, -0.18725702030590544, 0.2586947836219987, -0.2720062991616586, 0.4956980999399173, -0.2248874208324263, 1.046876962247096, 0.8739057120388894, -1.324810905399333, -1.8895230890311145, 0.8985423817325691, -0.4134721022129727, 0.07172149869464005, -1.6381683038387536, 0.42538928588685265, -1.1191856963454359, 0.32398329622996735, -1.3591175956603858, -1.9028566688666586, -0.6817634816272062, 0.2312632966984241, 0.6224618814324517, -0.8694786005425781, 0.847084292335929, -0.8414877548342978], \"xaxis\": \"x3\", \"y\": [-2.068481242470521, -0.06830072174778413, 0.34686815459740566, 1.7404560246674383, 0.260145933794787, -1.6687556797736214, 1.2128292608384186, 1.276759847076379, 0.012589088341520047, 0.6837240475443442, -0.5102467506900561, -0.7782360903554235, -2.341546922060079, 0.39173212431984145, 0.15323339526132104, 0.3104819072155177, -0.44218825427175923, -0.32150902708869994, -0.033858181247083445, 0.3359230701195722, 0.8022437874387931, 0.03601910255625717, -0.4061836761174409, -0.4003801133136168, 0.10092907154841461, 1.5233562187288536, -0.36722594437827283, 0.03253231846998982, -2.282982536415899, 0.5830802711190498, -0.4311524540735369, 1.1614317023417755, -0.10426289520479025, -1.1212768013578707, 0.06334068027172927, 0.01630376329550353, -0.45457557725717207, -0.938789821802139, 0.06099939323351222, 0.35887818748664885, -0.843793734057207, 0.0478569867049216, -0.2417538602769474, -0.038942887102078806, 0.053593639039046, -1.2211623482179648, -0.17036200068698545, -0.4443887116011843, 0.37019280008777267, 1.5443258334719654, -0.6181394088457115, -0.45792799326957373, -1.9361516681418143, 0.7434597203247988, -0.5108806403318328, 0.16514967255301594, 0.4775907874146169, -0.4774554221272687, 0.2419944748702217, 0.5181025641411692, 0.06948103228401782, -0.08102350563166708, -0.5632934821646675, -0.10831738227239747, 1.7327185525045936, 0.3704868260629756, -0.5159738914988036, 0.6967248312772667, 0.9729344612886184, 0.04693965652740349, 1.1054124247780315, -1.217420888691861, -0.38814588141461437, -1.0796755270554717, -1.0958149053019528, -2.3417318911687075, -0.011587462929148149, 0.9095237774878863, -0.02621533665839742, 0.8466593311125113, -0.7175705015184023, -0.19377387371188784, -0.5783852466829044, -0.13044163951325857, 1.066628215523557, 0.26129669924845683, 2.0189419209649317, -1.3553670039412815, 0.5018501059843185, 0.6531387684143183, 1.9022631291702592, -1.2934389171784868, 0.06544750594269423, 0.8411001692608153, 0.5580249008107335, 1.9956733413950396, -0.5021972339098685, -0.47316947988094754, -1.114299172278719, 1.3644252487147408], \"yaxis\": \"y3\"}, {\"line\": {\"color\": \"rgba(128, 128, 128, 1.0)\", \"dash\": \"solid\", \"shape\": \"linear\", \"width\": 1.3}, \"marker\": {\"size\": 2, \"symbol\": \"circle\"}, \"mode\": \"markers\", \"name\": \"A\", \"text\": \"\", \"type\": \"scatter\", \"x\": [0.16576029040650397, 0.7353781184301128, -0.39635288312626415, 0.8460923805492866, 0.5834280340395386, 0.022668873850809287, -0.7232984540044319, -1.3150340581479074, -0.34117426376557675, -2.2039151686405045, -0.5540034393317983, -0.5365510263084331, 0.9514694148660698, 1.6093071684143965, 0.5349031444835803, 0.8762223684320477, 1.4173775406277183, -0.45892366941253027, 0.7759706357601053, -0.5231570619640878, -0.7912812214498252, 1.1391103980200354, 1.040790199323024, -0.730873434869637, 1.3493645268911796, 0.9317563929515158, 0.7580306180283228, 0.5878386227634674, 1.4326486013465392, -0.20720218629137235, 0.24776731941903588, 0.07369409703522996, 0.5523389535964915, -1.4225823164676166, -0.31366079651470147, 0.2462780623614397, -0.9525515029157212, -1.5060095118808454, 0.16157669330880778, 0.2202473096122514, 0.25515230298668984, 0.1415806575371722, 1.0454826460039028, -1.6395532056044337, -1.1480878621577313, -0.21767196576881243, 0.6097280023008594, 1.0273906539859419, -1.2546164856141788, 1.6795186133330808, -1.2917753905896583, 1.4376577079402262, 2.042611479515502, 0.17051851887980343, 0.02899488058209822, 0.24876373421094727, 0.06601973384186423, 0.22350253848511487, 0.8241801220068634, 0.03501063486091633, 0.7539071353594212, 0.03488923989617106, -1.45547407467105, -0.5359645108060322, -1.284504149525958, 0.7162679959699161, -0.5031833256993665, 1.8929389937029355, 0.09901562576215357, -0.10940178309595011, 2.1374057165810063, -0.2027529518230585, -0.04669371402278774, -1.1166007758302954, -1.110979136920132, 0.9459463660753293, 0.27097005719316825, -1.7625289736087093, 0.8351417325563205, -1.6945826582379722, -0.2656569433609975, -0.8769678330899084, -0.8152967764266832, 0.19939256166508265, 0.5460777371186833, 1.458413440508323, -0.533553934042059, 0.936768896712938, -1.5020610105474623, -0.3740943538418646, -0.46449150985624155, 0.09247526313675637, 0.4408967762354214, -0.6062745194800315, -0.0868526946804238, 0.2379988912040208, -0.34447098504535295, 1.4294961780936741, -0.010673807091225312, 0.04162518036338937], \"xaxis\": \"x4\", \"y\": [-2.068481242470521, -0.06830072174778413, 0.34686815459740566, 1.7404560246674383, 0.260145933794787, -1.6687556797736214, 1.2128292608384186, 1.276759847076379, 0.012589088341520047, 0.6837240475443442, -0.5102467506900561, -0.7782360903554235, -2.341546922060079, 0.39173212431984145, 0.15323339526132104, 0.3104819072155177, -0.44218825427175923, -0.32150902708869994, -0.033858181247083445, 0.3359230701195722, 0.8022437874387931, 0.03601910255625717, -0.4061836761174409, -0.4003801133136168, 0.10092907154841461, 1.5233562187288536, -0.36722594437827283, 0.03253231846998982, -2.282982536415899, 0.5830802711190498, -0.4311524540735369, 1.1614317023417755, -0.10426289520479025, -1.1212768013578707, 0.06334068027172927, 0.01630376329550353, -0.45457557725717207, -0.938789821802139, 0.06099939323351222, 0.35887818748664885, -0.843793734057207, 0.0478569867049216, -0.2417538602769474, -0.038942887102078806, 0.053593639039046, -1.2211623482179648, -0.17036200068698545, -0.4443887116011843, 0.37019280008777267, 1.5443258334719654, -0.6181394088457115, -0.45792799326957373, -1.9361516681418143, 0.7434597203247988, -0.5108806403318328, 0.16514967255301594, 0.4775907874146169, -0.4774554221272687, 0.2419944748702217, 0.5181025641411692, 0.06948103228401782, -0.08102350563166708, -0.5632934821646675, -0.10831738227239747, 1.7327185525045936, 0.3704868260629756, -0.5159738914988036, 0.6967248312772667, 0.9729344612886184, 0.04693965652740349, 1.1054124247780315, -1.217420888691861, -0.38814588141461437, -1.0796755270554717, -1.0958149053019528, -2.3417318911687075, -0.011587462929148149, 0.9095237774878863, -0.02621533665839742, 0.8466593311125113, -0.7175705015184023, -0.19377387371188784, -0.5783852466829044, -0.13044163951325857, 1.066628215523557, 0.26129669924845683, 2.0189419209649317, -1.3553670039412815, 0.5018501059843185, 0.6531387684143183, 1.9022631291702592, -1.2934389171784868, 0.06544750594269423, 0.8411001692608153, 0.5580249008107335, 1.9956733413950396, -0.5021972339098685, -0.47316947988094754, -1.114299172278719, 1.3644252487147408], \"yaxis\": \"y4\"}, {\"line\": {\"color\": \"rgba(128, 128, 128, 1.0)\", \"dash\": \"solid\", \"shape\": \"linear\", \"width\": 1.3}, \"marker\": {\"size\": 2, \"symbol\": \"circle\"}, \"mode\": \"markers\", \"name\": \"B\", \"text\": \"\", \"type\": \"scatter\", \"x\": [-2.068481242470521, -0.06830072174778413, 0.34686815459740566, 1.7404560246674383, 0.260145933794787, -1.6687556797736214, 1.2128292608384186, 1.276759847076379, 0.012589088341520047, 0.6837240475443442, -0.5102467506900561, -0.7782360903554235, -2.341546922060079, 0.39173212431984145, 0.15323339526132104, 0.3104819072155177, -0.44218825427175923, -0.32150902708869994, -0.033858181247083445, 0.3359230701195722, 0.8022437874387931, 0.03601910255625717, -0.4061836761174409, -0.4003801133136168, 0.10092907154841461, 1.5233562187288536, -0.36722594437827283, 0.03253231846998982, -2.282982536415899, 0.5830802711190498, -0.4311524540735369, 1.1614317023417755, -0.10426289520479025, -1.1212768013578707, 0.06334068027172927, 0.01630376329550353, -0.45457557725717207, -0.938789821802139, 0.06099939323351222, 0.35887818748664885, -0.843793734057207, 0.0478569867049216, -0.2417538602769474, -0.038942887102078806, 0.053593639039046, -1.2211623482179648, -0.17036200068698545, -0.4443887116011843, 0.37019280008777267, 1.5443258334719654, -0.6181394088457115, -0.45792799326957373, -1.9361516681418143, 0.7434597203247988, -0.5108806403318328, 0.16514967255301594, 0.4775907874146169, -0.4774554221272687, 0.2419944748702217, 0.5181025641411692, 0.06948103228401782, -0.08102350563166708, -0.5632934821646675, -0.10831738227239747, 1.7327185525045936, 0.3704868260629756, -0.5159738914988036, 0.6967248312772667, 0.9729344612886184, 0.04693965652740349, 1.1054124247780315, -1.217420888691861, -0.38814588141461437, -1.0796755270554717, -1.0958149053019528, -2.3417318911687075, -0.011587462929148149, 0.9095237774878863, -0.02621533665839742, 0.8466593311125113, -0.7175705015184023, -0.19377387371188784, -0.5783852466829044, -0.13044163951325857, 1.066628215523557, 0.26129669924845683, 2.0189419209649317, -1.3553670039412815, 0.5018501059843185, 0.6531387684143183, 1.9022631291702592, -1.2934389171784868, 0.06544750594269423, 0.8411001692608153, 0.5580249008107335, 1.9956733413950396, -0.5021972339098685, -0.47316947988094754, -1.114299172278719, 1.3644252487147408], \"xaxis\": \"x5\", \"y\": [0.13546053507022923, 0.8528952539056167, -0.9120473287918056, -0.4360167071034324, 0.4030021035722929, 0.21845456351115183, -1.5146188477997056, -1.1081262345827807, 0.2505550893228284, -1.089754160529704, -1.999471543859598, -0.13298981222990705, 0.7083688242077885, -0.7428531839143373, 1.2717469173085532, -0.7243561359853562, -1.4370056513901115, -0.8578890500584263, -0.5199289547555342, -0.9858204761709641, 0.7502511092487195, -0.9622680220774841, 0.8606852397738878, -0.3529663721617263, -1.7724111999399959, 0.11671383039125793, 2.1104136856870674, -0.058342444826866936, 2.028760783982244, 0.6055565892850192, 1.343911038550699, 0.5764709024505792, 0.2573852649890621, -2.5497668496098447, -0.9505829571138086, 0.07158004593194874, -1.1320989581537642, 1.2498551328713434, -0.5411155904440764, 1.9433075662035164, -0.6390591873405453, 0.206562955695758, 0.24791031488052412, 1.2761130220428456, -0.43330761534391343, -0.6646931807852855, 1.0006041439810665, 0.24950232089024862, 1.824582338513296, -0.33503434728787385, -0.10390476120042613, 2.0558297587310213, 2.4705327300888382, 0.24641029074204315, 0.891406383668593, -0.4460375336323596, -0.05403819614345976, 0.6069379690402813, -0.6584213592294729, -0.6804624868343676, 0.3554374013526221, -0.6197422292201394, -1.4363793854686329, 0.6391732419232593, 1.5260538377224617, -1.327403466180733, 0.46678698493924725, 1.5618372075729798, 0.1771511713172017, -0.1471852825641017, 0.758092470021777, -1.531560505955019, -0.5331876622432652, -1.8806673130309681, 0.4339395458758081, 0.7287842973459717, 0.5843657299612066, 0.5675425116136315, 1.5051957081584857, 0.9984576089198394, -1.361450265891984, -0.05477528106219799, 0.651652184054883, 1.8956547523097942, 0.960325494070041, 0.6333460121494614, -0.23176142161827948, -1.4147891851188463, -0.47355461876870314, 0.24759608652395304, 0.6919142969542673, -0.33833598108215074, 0.1537146391163577, -0.9427824418183438, -1.0535415962258836, -0.46097231553426254, -2.5076551988203275, -0.43772317036284325, 0.7570175143322317, 0.4828692956441521], \"yaxis\": \"y5\"}, {\"histfunc\": \"count\", \"histnorm\": \"\", \"marker\": {\"color\": \"rgba(55, 128, 191, 1.0)\", \"line\": {\"color\": \"#4D5663\", \"width\": 1.3}}, \"name\": \"B\", \"nbinsx\": 10, \"opacity\": 0.8, \"orientation\": \"v\", \"type\": \"histogram\", \"x\": [0.13546053507022923, 0.8528952539056167, -0.9120473287918056, -0.4360167071034324, 0.4030021035722929, 0.21845456351115183, -1.5146188477997056, -1.1081262345827807, 0.2505550893228284, -1.089754160529704, -1.999471543859598, -0.13298981222990705, 0.7083688242077885, -0.7428531839143373, 1.2717469173085532, -0.7243561359853562, -1.4370056513901115, -0.8578890500584263, -0.5199289547555342, -0.9858204761709641, 0.7502511092487195, -0.9622680220774841, 0.8606852397738878, -0.3529663721617263, -1.7724111999399959, 0.11671383039125793, 2.1104136856870674, -0.058342444826866936, 2.028760783982244, 0.6055565892850192, 1.343911038550699, 0.5764709024505792, 0.2573852649890621, -2.5497668496098447, -0.9505829571138086, 0.07158004593194874, -1.1320989581537642, 1.2498551328713434, -0.5411155904440764, 1.9433075662035164, -0.6390591873405453, 0.206562955695758, 0.24791031488052412, 1.2761130220428456, -0.43330761534391343, -0.6646931807852855, 1.0006041439810665, 0.24950232089024862, 1.824582338513296, -0.33503434728787385, -0.10390476120042613, 2.0558297587310213, 2.4705327300888382, 0.24641029074204315, 0.891406383668593, -0.4460375336323596, -0.05403819614345976, 0.6069379690402813, -0.6584213592294729, -0.6804624868343676, 0.3554374013526221, -0.6197422292201394, -1.4363793854686329, 0.6391732419232593, 1.5260538377224617, -1.327403466180733, 0.46678698493924725, 1.5618372075729798, 0.1771511713172017, -0.1471852825641017, 0.758092470021777, -1.531560505955019, -0.5331876622432652, -1.8806673130309681, 0.4339395458758081, 0.7287842973459717, 0.5843657299612066, 0.5675425116136315, 1.5051957081584857, 0.9984576089198394, -1.361450265891984, -0.05477528106219799, 0.651652184054883, 1.8956547523097942, 0.960325494070041, 0.6333460121494614, -0.23176142161827948, -1.4147891851188463, -0.47355461876870314, 0.24759608652395304, 0.6919142969542673, -0.33833598108215074, 0.1537146391163577, -0.9427824418183438, -1.0535415962258836, -0.46097231553426254, -2.5076551988203275, -0.43772317036284325, 0.7570175143322317, 0.4828692956441521], \"xaxis\": \"x6\", \"yaxis\": \"y6\"}, {\"line\": {\"color\": \"rgba(128, 128, 128, 1.0)\", \"dash\": \"solid\", \"shape\": \"linear\", \"width\": 1.3}, \"marker\": {\"size\": 2, \"symbol\": \"circle\"}, \"mode\": \"markers\", \"name\": \"B\", \"text\": \"\", \"type\": \"scatter\", \"x\": [-0.4490965191707045, -1.3566624199171347, 0.11010174114668976, -1.2059230985671745, -1.293518642299254, 0.0768114429111746, 2.0713794720510563, -1.6136102766998872, -2.1183418088097254, 0.6584018977466556, -0.5819428441757667, 0.5471898408441686, -1.8244706216056903, -0.35890916630399583, 1.138641041310387, 0.31611546567849097, 1.0559771602321337, 0.33767317562215937, 0.3033628923796153, -1.4335836985969974, 1.2096368994544906, 0.20689061625255836, 0.09488785762250992, 0.5617887062170834, 0.023154308790518715, 0.15168789975164204, -0.6180336191881293, 0.20622837757895413, 0.6485714799411542, 1.1963676140509656, 0.1654910893430052, 0.5749779562163441, 0.16108900684868976, 0.3485567916805989, 0.3152055370319175, 0.08180464812136456, 0.020620326956704384, -1.5596986546230043, -0.2778496376241181, -0.8177813904604749, -0.047248911278135124, -0.26675964256587714, 0.33145366006431287, 0.4435718943527746, 1.0834591102193718, 1.1181927159205571, 0.4670669747598463, -0.5329526643065524, -0.44635128706169075, 0.014871920137131739, 1.3812612374583608, 1.8920639380885012, 0.5653173636965959, -1.098288205522477, -0.382976691456405, -2.0462213086186645, -0.20451968519589875, 0.07856773595182073, 0.6306289545841886, -0.8110523405607823, -2.0899974454372776, 0.056410401765543884, -0.47904391491468185, 0.9888181876263, 0.7921507229057528, 0.6588455707730912, -1.0117051153143026, -0.7401670941766406, -1.1019512930005688, -0.2330072114146048, 0.14678659128359187, -0.016972325384005515, 0.538226961324923, -0.5527431124284627, 0.21787234394765675, 0.5775448863301242, -0.18725702030590544, 0.2586947836219987, -0.2720062991616586, 0.4956980999399173, -0.2248874208324263, 1.046876962247096, 0.8739057120388894, -1.324810905399333, -1.8895230890311145, 0.8985423817325691, -0.4134721022129727, 0.07172149869464005, -1.6381683038387536, 0.42538928588685265, -1.1191856963454359, 0.32398329622996735, -1.3591175956603858, -1.9028566688666586, -0.6817634816272062, 0.2312632966984241, 0.6224618814324517, -0.8694786005425781, 0.847084292335929, -0.8414877548342978], \"xaxis\": \"x7\", \"y\": [0.13546053507022923, 0.8528952539056167, -0.9120473287918056, -0.4360167071034324, 0.4030021035722929, 0.21845456351115183, -1.5146188477997056, -1.1081262345827807, 0.2505550893228284, -1.089754160529704, -1.999471543859598, -0.13298981222990705, 0.7083688242077885, -0.7428531839143373, 1.2717469173085532, -0.7243561359853562, -1.4370056513901115, -0.8578890500584263, -0.5199289547555342, -0.9858204761709641, 0.7502511092487195, -0.9622680220774841, 0.8606852397738878, -0.3529663721617263, -1.7724111999399959, 0.11671383039125793, 2.1104136856870674, -0.058342444826866936, 2.028760783982244, 0.6055565892850192, 1.343911038550699, 0.5764709024505792, 0.2573852649890621, -2.5497668496098447, -0.9505829571138086, 0.07158004593194874, -1.1320989581537642, 1.2498551328713434, -0.5411155904440764, 1.9433075662035164, -0.6390591873405453, 0.206562955695758, 0.24791031488052412, 1.2761130220428456, -0.43330761534391343, -0.6646931807852855, 1.0006041439810665, 0.24950232089024862, 1.824582338513296, -0.33503434728787385, -0.10390476120042613, 2.0558297587310213, 2.4705327300888382, 0.24641029074204315, 0.891406383668593, -0.4460375336323596, -0.05403819614345976, 0.6069379690402813, -0.6584213592294729, -0.6804624868343676, 0.3554374013526221, -0.6197422292201394, -1.4363793854686329, 0.6391732419232593, 1.5260538377224617, -1.327403466180733, 0.46678698493924725, 1.5618372075729798, 0.1771511713172017, -0.1471852825641017, 0.758092470021777, -1.531560505955019, -0.5331876622432652, -1.8806673130309681, 0.4339395458758081, 0.7287842973459717, 0.5843657299612066, 0.5675425116136315, 1.5051957081584857, 0.9984576089198394, -1.361450265891984, -0.05477528106219799, 0.651652184054883, 1.8956547523097942, 0.960325494070041, 0.6333460121494614, -0.23176142161827948, -1.4147891851188463, -0.47355461876870314, 0.24759608652395304, 0.6919142969542673, -0.33833598108215074, 0.1537146391163577, -0.9427824418183438, -1.0535415962258836, -0.46097231553426254, -2.5076551988203275, -0.43772317036284325, 0.7570175143322317, 0.4828692956441521], \"yaxis\": \"y7\"}, {\"line\": {\"color\": \"rgba(128, 128, 128, 1.0)\", \"dash\": \"solid\", \"shape\": \"linear\", \"width\": 1.3}, \"marker\": {\"size\": 2, \"symbol\": \"circle\"}, \"mode\": \"markers\", \"name\": \"B\", \"text\": \"\", \"type\": \"scatter\", \"x\": [0.16576029040650397, 0.7353781184301128, -0.39635288312626415, 0.8460923805492866, 0.5834280340395386, 0.022668873850809287, -0.7232984540044319, -1.3150340581479074, -0.34117426376557675, -2.2039151686405045, -0.5540034393317983, -0.5365510263084331, 0.9514694148660698, 1.6093071684143965, 0.5349031444835803, 0.8762223684320477, 1.4173775406277183, -0.45892366941253027, 0.7759706357601053, -0.5231570619640878, -0.7912812214498252, 1.1391103980200354, 1.040790199323024, -0.730873434869637, 1.3493645268911796, 0.9317563929515158, 0.7580306180283228, 0.5878386227634674, 1.4326486013465392, -0.20720218629137235, 0.24776731941903588, 0.07369409703522996, 0.5523389535964915, -1.4225823164676166, -0.31366079651470147, 0.2462780623614397, -0.9525515029157212, -1.5060095118808454, 0.16157669330880778, 0.2202473096122514, 0.25515230298668984, 0.1415806575371722, 1.0454826460039028, -1.6395532056044337, -1.1480878621577313, -0.21767196576881243, 0.6097280023008594, 1.0273906539859419, -1.2546164856141788, 1.6795186133330808, -1.2917753905896583, 1.4376577079402262, 2.042611479515502, 0.17051851887980343, 0.02899488058209822, 0.24876373421094727, 0.06601973384186423, 0.22350253848511487, 0.8241801220068634, 0.03501063486091633, 0.7539071353594212, 0.03488923989617106, -1.45547407467105, -0.5359645108060322, -1.284504149525958, 0.7162679959699161, -0.5031833256993665, 1.8929389937029355, 0.09901562576215357, -0.10940178309595011, 2.1374057165810063, -0.2027529518230585, -0.04669371402278774, -1.1166007758302954, -1.110979136920132, 0.9459463660753293, 0.27097005719316825, -1.7625289736087093, 0.8351417325563205, -1.6945826582379722, -0.2656569433609975, -0.8769678330899084, -0.8152967764266832, 0.19939256166508265, 0.5460777371186833, 1.458413440508323, -0.533553934042059, 0.936768896712938, -1.5020610105474623, -0.3740943538418646, -0.46449150985624155, 0.09247526313675637, 0.4408967762354214, -0.6062745194800315, -0.0868526946804238, 0.2379988912040208, -0.34447098504535295, 1.4294961780936741, -0.010673807091225312, 0.04162518036338937], \"xaxis\": \"x8\", \"y\": [0.13546053507022923, 0.8528952539056167, -0.9120473287918056, -0.4360167071034324, 0.4030021035722929, 0.21845456351115183, -1.5146188477997056, -1.1081262345827807, 0.2505550893228284, -1.089754160529704, -1.999471543859598, -0.13298981222990705, 0.7083688242077885, -0.7428531839143373, 1.2717469173085532, -0.7243561359853562, -1.4370056513901115, -0.8578890500584263, -0.5199289547555342, -0.9858204761709641, 0.7502511092487195, -0.9622680220774841, 0.8606852397738878, -0.3529663721617263, -1.7724111999399959, 0.11671383039125793, 2.1104136856870674, -0.058342444826866936, 2.028760783982244, 0.6055565892850192, 1.343911038550699, 0.5764709024505792, 0.2573852649890621, -2.5497668496098447, -0.9505829571138086, 0.07158004593194874, -1.1320989581537642, 1.2498551328713434, -0.5411155904440764, 1.9433075662035164, -0.6390591873405453, 0.206562955695758, 0.24791031488052412, 1.2761130220428456, -0.43330761534391343, -0.6646931807852855, 1.0006041439810665, 0.24950232089024862, 1.824582338513296, -0.33503434728787385, -0.10390476120042613, 2.0558297587310213, 2.4705327300888382, 0.24641029074204315, 0.891406383668593, -0.4460375336323596, -0.05403819614345976, 0.6069379690402813, -0.6584213592294729, -0.6804624868343676, 0.3554374013526221, -0.6197422292201394, -1.4363793854686329, 0.6391732419232593, 1.5260538377224617, -1.327403466180733, 0.46678698493924725, 1.5618372075729798, 0.1771511713172017, -0.1471852825641017, 0.758092470021777, -1.531560505955019, -0.5331876622432652, -1.8806673130309681, 0.4339395458758081, 0.7287842973459717, 0.5843657299612066, 0.5675425116136315, 1.5051957081584857, 0.9984576089198394, -1.361450265891984, -0.05477528106219799, 0.651652184054883, 1.8956547523097942, 0.960325494070041, 0.6333460121494614, -0.23176142161827948, -1.4147891851188463, -0.47355461876870314, 0.24759608652395304, 0.6919142969542673, -0.33833598108215074, 0.1537146391163577, -0.9427824418183438, -1.0535415962258836, -0.46097231553426254, -2.5076551988203275, -0.43772317036284325, 0.7570175143322317, 0.4828692956441521], \"yaxis\": \"y8\"}, {\"line\": {\"color\": \"rgba(128, 128, 128, 1.0)\", \"dash\": \"solid\", \"shape\": \"linear\", \"width\": 1.3}, \"marker\": {\"size\": 2, \"symbol\": \"circle\"}, \"mode\": \"markers\", \"name\": \"C\", \"text\": \"\", \"type\": \"scatter\", \"x\": [-2.068481242470521, -0.06830072174778413, 0.34686815459740566, 1.7404560246674383, 0.260145933794787, -1.6687556797736214, 1.2128292608384186, 1.276759847076379, 0.012589088341520047, 0.6837240475443442, -0.5102467506900561, -0.7782360903554235, -2.341546922060079, 0.39173212431984145, 0.15323339526132104, 0.3104819072155177, -0.44218825427175923, -0.32150902708869994, -0.033858181247083445, 0.3359230701195722, 0.8022437874387931, 0.03601910255625717, -0.4061836761174409, -0.4003801133136168, 0.10092907154841461, 1.5233562187288536, -0.36722594437827283, 0.03253231846998982, -2.282982536415899, 0.5830802711190498, -0.4311524540735369, 1.1614317023417755, -0.10426289520479025, -1.1212768013578707, 0.06334068027172927, 0.01630376329550353, -0.45457557725717207, -0.938789821802139, 0.06099939323351222, 0.35887818748664885, -0.843793734057207, 0.0478569867049216, -0.2417538602769474, -0.038942887102078806, 0.053593639039046, -1.2211623482179648, -0.17036200068698545, -0.4443887116011843, 0.37019280008777267, 1.5443258334719654, -0.6181394088457115, -0.45792799326957373, -1.9361516681418143, 0.7434597203247988, -0.5108806403318328, 0.16514967255301594, 0.4775907874146169, -0.4774554221272687, 0.2419944748702217, 0.5181025641411692, 0.06948103228401782, -0.08102350563166708, -0.5632934821646675, -0.10831738227239747, 1.7327185525045936, 0.3704868260629756, -0.5159738914988036, 0.6967248312772667, 0.9729344612886184, 0.04693965652740349, 1.1054124247780315, -1.217420888691861, -0.38814588141461437, -1.0796755270554717, -1.0958149053019528, -2.3417318911687075, -0.011587462929148149, 0.9095237774878863, -0.02621533665839742, 0.8466593311125113, -0.7175705015184023, -0.19377387371188784, -0.5783852466829044, -0.13044163951325857, 1.066628215523557, 0.26129669924845683, 2.0189419209649317, -1.3553670039412815, 0.5018501059843185, 0.6531387684143183, 1.9022631291702592, -1.2934389171784868, 0.06544750594269423, 0.8411001692608153, 0.5580249008107335, 1.9956733413950396, -0.5021972339098685, -0.47316947988094754, -1.114299172278719, 1.3644252487147408], \"xaxis\": \"x9\", \"y\": [-0.4490965191707045, -1.3566624199171347, 0.11010174114668976, -1.2059230985671745, -1.293518642299254, 0.0768114429111746, 2.0713794720510563, -1.6136102766998872, -2.1183418088097254, 0.6584018977466556, -0.5819428441757667, 0.5471898408441686, -1.8244706216056903, -0.35890916630399583, 1.138641041310387, 0.31611546567849097, 1.0559771602321337, 0.33767317562215937, 0.3033628923796153, -1.4335836985969974, 1.2096368994544906, 0.20689061625255836, 0.09488785762250992, 0.5617887062170834, 0.023154308790518715, 0.15168789975164204, -0.6180336191881293, 0.20622837757895413, 0.6485714799411542, 1.1963676140509656, 0.1654910893430052, 0.5749779562163441, 0.16108900684868976, 0.3485567916805989, 0.3152055370319175, 0.08180464812136456, 0.020620326956704384, -1.5596986546230043, -0.2778496376241181, -0.8177813904604749, -0.047248911278135124, -0.26675964256587714, 0.33145366006431287, 0.4435718943527746, 1.0834591102193718, 1.1181927159205571, 0.4670669747598463, -0.5329526643065524, -0.44635128706169075, 0.014871920137131739, 1.3812612374583608, 1.8920639380885012, 0.5653173636965959, -1.098288205522477, -0.382976691456405, -2.0462213086186645, -0.20451968519589875, 0.07856773595182073, 0.6306289545841886, -0.8110523405607823, -2.0899974454372776, 0.056410401765543884, -0.47904391491468185, 0.9888181876263, 0.7921507229057528, 0.6588455707730912, -1.0117051153143026, -0.7401670941766406, -1.1019512930005688, -0.2330072114146048, 0.14678659128359187, -0.016972325384005515, 0.538226961324923, -0.5527431124284627, 0.21787234394765675, 0.5775448863301242, -0.18725702030590544, 0.2586947836219987, -0.2720062991616586, 0.4956980999399173, -0.2248874208324263, 1.046876962247096, 0.8739057120388894, -1.324810905399333, -1.8895230890311145, 0.8985423817325691, -0.4134721022129727, 0.07172149869464005, -1.6381683038387536, 0.42538928588685265, -1.1191856963454359, 0.32398329622996735, -1.3591175956603858, -1.9028566688666586, -0.6817634816272062, 0.2312632966984241, 0.6224618814324517, -0.8694786005425781, 0.847084292335929, -0.8414877548342978], \"yaxis\": \"y9\"}, {\"line\": {\"color\": \"rgba(128, 128, 128, 1.0)\", \"dash\": \"solid\", \"shape\": \"linear\", \"width\": 1.3}, \"marker\": {\"size\": 2, \"symbol\": \"circle\"}, \"mode\": \"markers\", \"name\": \"C\", \"text\": \"\", \"type\": \"scatter\", \"x\": [0.13546053507022923, 0.8528952539056167, -0.9120473287918056, -0.4360167071034324, 0.4030021035722929, 0.21845456351115183, -1.5146188477997056, -1.1081262345827807, 0.2505550893228284, -1.089754160529704, -1.999471543859598, -0.13298981222990705, 0.7083688242077885, -0.7428531839143373, 1.2717469173085532, -0.7243561359853562, -1.4370056513901115, -0.8578890500584263, -0.5199289547555342, -0.9858204761709641, 0.7502511092487195, -0.9622680220774841, 0.8606852397738878, -0.3529663721617263, -1.7724111999399959, 0.11671383039125793, 2.1104136856870674, -0.058342444826866936, 2.028760783982244, 0.6055565892850192, 1.343911038550699, 0.5764709024505792, 0.2573852649890621, -2.5497668496098447, -0.9505829571138086, 0.07158004593194874, -1.1320989581537642, 1.2498551328713434, -0.5411155904440764, 1.9433075662035164, -0.6390591873405453, 0.206562955695758, 0.24791031488052412, 1.2761130220428456, -0.43330761534391343, -0.6646931807852855, 1.0006041439810665, 0.24950232089024862, 1.824582338513296, -0.33503434728787385, -0.10390476120042613, 2.0558297587310213, 2.4705327300888382, 0.24641029074204315, 0.891406383668593, -0.4460375336323596, -0.05403819614345976, 0.6069379690402813, -0.6584213592294729, -0.6804624868343676, 0.3554374013526221, -0.6197422292201394, -1.4363793854686329, 0.6391732419232593, 1.5260538377224617, -1.327403466180733, 0.46678698493924725, 1.5618372075729798, 0.1771511713172017, -0.1471852825641017, 0.758092470021777, -1.531560505955019, -0.5331876622432652, -1.8806673130309681, 0.4339395458758081, 0.7287842973459717, 0.5843657299612066, 0.5675425116136315, 1.5051957081584857, 0.9984576089198394, -1.361450265891984, -0.05477528106219799, 0.651652184054883, 1.8956547523097942, 0.960325494070041, 0.6333460121494614, -0.23176142161827948, -1.4147891851188463, -0.47355461876870314, 0.24759608652395304, 0.6919142969542673, -0.33833598108215074, 0.1537146391163577, -0.9427824418183438, -1.0535415962258836, -0.46097231553426254, -2.5076551988203275, -0.43772317036284325, 0.7570175143322317, 0.4828692956441521], \"xaxis\": \"x10\", \"y\": [-0.4490965191707045, -1.3566624199171347, 0.11010174114668976, -1.2059230985671745, -1.293518642299254, 0.0768114429111746, 2.0713794720510563, -1.6136102766998872, -2.1183418088097254, 0.6584018977466556, -0.5819428441757667, 0.5471898408441686, -1.8244706216056903, -0.35890916630399583, 1.138641041310387, 0.31611546567849097, 1.0559771602321337, 0.33767317562215937, 0.3033628923796153, -1.4335836985969974, 1.2096368994544906, 0.20689061625255836, 0.09488785762250992, 0.5617887062170834, 0.023154308790518715, 0.15168789975164204, -0.6180336191881293, 0.20622837757895413, 0.6485714799411542, 1.1963676140509656, 0.1654910893430052, 0.5749779562163441, 0.16108900684868976, 0.3485567916805989, 0.3152055370319175, 0.08180464812136456, 0.020620326956704384, -1.5596986546230043, -0.2778496376241181, -0.8177813904604749, -0.047248911278135124, -0.26675964256587714, 0.33145366006431287, 0.4435718943527746, 1.0834591102193718, 1.1181927159205571, 0.4670669747598463, -0.5329526643065524, -0.44635128706169075, 0.014871920137131739, 1.3812612374583608, 1.8920639380885012, 0.5653173636965959, -1.098288205522477, -0.382976691456405, -2.0462213086186645, -0.20451968519589875, 0.07856773595182073, 0.6306289545841886, -0.8110523405607823, -2.0899974454372776, 0.056410401765543884, -0.47904391491468185, 0.9888181876263, 0.7921507229057528, 0.6588455707730912, -1.0117051153143026, -0.7401670941766406, -1.1019512930005688, -0.2330072114146048, 0.14678659128359187, -0.016972325384005515, 0.538226961324923, -0.5527431124284627, 0.21787234394765675, 0.5775448863301242, -0.18725702030590544, 0.2586947836219987, -0.2720062991616586, 0.4956980999399173, -0.2248874208324263, 1.046876962247096, 0.8739057120388894, -1.324810905399333, -1.8895230890311145, 0.8985423817325691, -0.4134721022129727, 0.07172149869464005, -1.6381683038387536, 0.42538928588685265, -1.1191856963454359, 0.32398329622996735, -1.3591175956603858, -1.9028566688666586, -0.6817634816272062, 0.2312632966984241, 0.6224618814324517, -0.8694786005425781, 0.847084292335929, -0.8414877548342978], \"yaxis\": \"y10\"}, {\"histfunc\": \"count\", \"histnorm\": \"\", \"marker\": {\"color\": \"rgba(50, 171, 96, 1.0)\", \"line\": {\"color\": \"#4D5663\", \"width\": 1.3}}, \"name\": \"C\", \"nbinsx\": 10, \"opacity\": 0.8, \"orientation\": \"v\", \"type\": \"histogram\", \"x\": [-0.4490965191707045, -1.3566624199171347, 0.11010174114668976, -1.2059230985671745, -1.293518642299254, 0.0768114429111746, 2.0713794720510563, -1.6136102766998872, -2.1183418088097254, 0.6584018977466556, -0.5819428441757667, 0.5471898408441686, -1.8244706216056903, -0.35890916630399583, 1.138641041310387, 0.31611546567849097, 1.0559771602321337, 0.33767317562215937, 0.3033628923796153, -1.4335836985969974, 1.2096368994544906, 0.20689061625255836, 0.09488785762250992, 0.5617887062170834, 0.023154308790518715, 0.15168789975164204, -0.6180336191881293, 0.20622837757895413, 0.6485714799411542, 1.1963676140509656, 0.1654910893430052, 0.5749779562163441, 0.16108900684868976, 0.3485567916805989, 0.3152055370319175, 0.08180464812136456, 0.020620326956704384, -1.5596986546230043, -0.2778496376241181, -0.8177813904604749, -0.047248911278135124, -0.26675964256587714, 0.33145366006431287, 0.4435718943527746, 1.0834591102193718, 1.1181927159205571, 0.4670669747598463, -0.5329526643065524, -0.44635128706169075, 0.014871920137131739, 1.3812612374583608, 1.8920639380885012, 0.5653173636965959, -1.098288205522477, -0.382976691456405, -2.0462213086186645, -0.20451968519589875, 0.07856773595182073, 0.6306289545841886, -0.8110523405607823, -2.0899974454372776, 0.056410401765543884, -0.47904391491468185, 0.9888181876263, 0.7921507229057528, 0.6588455707730912, -1.0117051153143026, -0.7401670941766406, -1.1019512930005688, -0.2330072114146048, 0.14678659128359187, -0.016972325384005515, 0.538226961324923, -0.5527431124284627, 0.21787234394765675, 0.5775448863301242, -0.18725702030590544, 0.2586947836219987, -0.2720062991616586, 0.4956980999399173, -0.2248874208324263, 1.046876962247096, 0.8739057120388894, -1.324810905399333, -1.8895230890311145, 0.8985423817325691, -0.4134721022129727, 0.07172149869464005, -1.6381683038387536, 0.42538928588685265, -1.1191856963454359, 0.32398329622996735, -1.3591175956603858, -1.9028566688666586, -0.6817634816272062, 0.2312632966984241, 0.6224618814324517, -0.8694786005425781, 0.847084292335929, -0.8414877548342978], \"xaxis\": \"x11\", \"yaxis\": \"y11\"}, {\"line\": {\"color\": \"rgba(128, 128, 128, 1.0)\", \"dash\": \"solid\", \"shape\": \"linear\", \"width\": 1.3}, \"marker\": {\"size\": 2, \"symbol\": \"circle\"}, \"mode\": \"markers\", \"name\": \"C\", \"text\": \"\", \"type\": \"scatter\", \"x\": [0.16576029040650397, 0.7353781184301128, -0.39635288312626415, 0.8460923805492866, 0.5834280340395386, 0.022668873850809287, -0.7232984540044319, -1.3150340581479074, -0.34117426376557675, -2.2039151686405045, -0.5540034393317983, -0.5365510263084331, 0.9514694148660698, 1.6093071684143965, 0.5349031444835803, 0.8762223684320477, 1.4173775406277183, -0.45892366941253027, 0.7759706357601053, -0.5231570619640878, -0.7912812214498252, 1.1391103980200354, 1.040790199323024, -0.730873434869637, 1.3493645268911796, 0.9317563929515158, 0.7580306180283228, 0.5878386227634674, 1.4326486013465392, -0.20720218629137235, 0.24776731941903588, 0.07369409703522996, 0.5523389535964915, -1.4225823164676166, -0.31366079651470147, 0.2462780623614397, -0.9525515029157212, -1.5060095118808454, 0.16157669330880778, 0.2202473096122514, 0.25515230298668984, 0.1415806575371722, 1.0454826460039028, -1.6395532056044337, -1.1480878621577313, -0.21767196576881243, 0.6097280023008594, 1.0273906539859419, -1.2546164856141788, 1.6795186133330808, -1.2917753905896583, 1.4376577079402262, 2.042611479515502, 0.17051851887980343, 0.02899488058209822, 0.24876373421094727, 0.06601973384186423, 0.22350253848511487, 0.8241801220068634, 0.03501063486091633, 0.7539071353594212, 0.03488923989617106, -1.45547407467105, -0.5359645108060322, -1.284504149525958, 0.7162679959699161, -0.5031833256993665, 1.8929389937029355, 0.09901562576215357, -0.10940178309595011, 2.1374057165810063, -0.2027529518230585, -0.04669371402278774, -1.1166007758302954, -1.110979136920132, 0.9459463660753293, 0.27097005719316825, -1.7625289736087093, 0.8351417325563205, -1.6945826582379722, -0.2656569433609975, -0.8769678330899084, -0.8152967764266832, 0.19939256166508265, 0.5460777371186833, 1.458413440508323, -0.533553934042059, 0.936768896712938, -1.5020610105474623, -0.3740943538418646, -0.46449150985624155, 0.09247526313675637, 0.4408967762354214, -0.6062745194800315, -0.0868526946804238, 0.2379988912040208, -0.34447098504535295, 1.4294961780936741, -0.010673807091225312, 0.04162518036338937], \"xaxis\": \"x12\", \"y\": [-0.4490965191707045, -1.3566624199171347, 0.11010174114668976, -1.2059230985671745, -1.293518642299254, 0.0768114429111746, 2.0713794720510563, -1.6136102766998872, -2.1183418088097254, 0.6584018977466556, -0.5819428441757667, 0.5471898408441686, -1.8244706216056903, -0.35890916630399583, 1.138641041310387, 0.31611546567849097, 1.0559771602321337, 0.33767317562215937, 0.3033628923796153, -1.4335836985969974, 1.2096368994544906, 0.20689061625255836, 0.09488785762250992, 0.5617887062170834, 0.023154308790518715, 0.15168789975164204, -0.6180336191881293, 0.20622837757895413, 0.6485714799411542, 1.1963676140509656, 0.1654910893430052, 0.5749779562163441, 0.16108900684868976, 0.3485567916805989, 0.3152055370319175, 0.08180464812136456, 0.020620326956704384, -1.5596986546230043, -0.2778496376241181, -0.8177813904604749, -0.047248911278135124, -0.26675964256587714, 0.33145366006431287, 0.4435718943527746, 1.0834591102193718, 1.1181927159205571, 0.4670669747598463, -0.5329526643065524, -0.44635128706169075, 0.014871920137131739, 1.3812612374583608, 1.8920639380885012, 0.5653173636965959, -1.098288205522477, -0.382976691456405, -2.0462213086186645, -0.20451968519589875, 0.07856773595182073, 0.6306289545841886, -0.8110523405607823, -2.0899974454372776, 0.056410401765543884, -0.47904391491468185, 0.9888181876263, 0.7921507229057528, 0.6588455707730912, -1.0117051153143026, -0.7401670941766406, -1.1019512930005688, -0.2330072114146048, 0.14678659128359187, -0.016972325384005515, 0.538226961324923, -0.5527431124284627, 0.21787234394765675, 0.5775448863301242, -0.18725702030590544, 0.2586947836219987, -0.2720062991616586, 0.4956980999399173, -0.2248874208324263, 1.046876962247096, 0.8739057120388894, -1.324810905399333, -1.8895230890311145, 0.8985423817325691, -0.4134721022129727, 0.07172149869464005, -1.6381683038387536, 0.42538928588685265, -1.1191856963454359, 0.32398329622996735, -1.3591175956603858, -1.9028566688666586, -0.6817634816272062, 0.2312632966984241, 0.6224618814324517, -0.8694786005425781, 0.847084292335929, -0.8414877548342978], \"yaxis\": \"y12\"}, {\"line\": {\"color\": \"rgba(128, 128, 128, 1.0)\", \"dash\": \"solid\", \"shape\": \"linear\", \"width\": 1.3}, \"marker\": {\"size\": 2, \"symbol\": \"circle\"}, \"mode\": \"markers\", \"name\": \"D\", \"text\": \"\", \"type\": \"scatter\", \"x\": [-2.068481242470521, -0.06830072174778413, 0.34686815459740566, 1.7404560246674383, 0.260145933794787, -1.6687556797736214, 1.2128292608384186, 1.276759847076379, 0.012589088341520047, 0.6837240475443442, -0.5102467506900561, -0.7782360903554235, -2.341546922060079, 0.39173212431984145, 0.15323339526132104, 0.3104819072155177, -0.44218825427175923, -0.32150902708869994, -0.033858181247083445, 0.3359230701195722, 0.8022437874387931, 0.03601910255625717, -0.4061836761174409, -0.4003801133136168, 0.10092907154841461, 1.5233562187288536, -0.36722594437827283, 0.03253231846998982, -2.282982536415899, 0.5830802711190498, -0.4311524540735369, 1.1614317023417755, -0.10426289520479025, -1.1212768013578707, 0.06334068027172927, 0.01630376329550353, -0.45457557725717207, -0.938789821802139, 0.06099939323351222, 0.35887818748664885, -0.843793734057207, 0.0478569867049216, -0.2417538602769474, -0.038942887102078806, 0.053593639039046, -1.2211623482179648, -0.17036200068698545, -0.4443887116011843, 0.37019280008777267, 1.5443258334719654, -0.6181394088457115, -0.45792799326957373, -1.9361516681418143, 0.7434597203247988, -0.5108806403318328, 0.16514967255301594, 0.4775907874146169, -0.4774554221272687, 0.2419944748702217, 0.5181025641411692, 0.06948103228401782, -0.08102350563166708, -0.5632934821646675, -0.10831738227239747, 1.7327185525045936, 0.3704868260629756, -0.5159738914988036, 0.6967248312772667, 0.9729344612886184, 0.04693965652740349, 1.1054124247780315, -1.217420888691861, -0.38814588141461437, -1.0796755270554717, -1.0958149053019528, -2.3417318911687075, -0.011587462929148149, 0.9095237774878863, -0.02621533665839742, 0.8466593311125113, -0.7175705015184023, -0.19377387371188784, -0.5783852466829044, -0.13044163951325857, 1.066628215523557, 0.26129669924845683, 2.0189419209649317, -1.3553670039412815, 0.5018501059843185, 0.6531387684143183, 1.9022631291702592, -1.2934389171784868, 0.06544750594269423, 0.8411001692608153, 0.5580249008107335, 1.9956733413950396, -0.5021972339098685, -0.47316947988094754, -1.114299172278719, 1.3644252487147408], \"xaxis\": \"x13\", \"y\": [0.16576029040650397, 0.7353781184301128, -0.39635288312626415, 0.8460923805492866, 0.5834280340395386, 0.022668873850809287, -0.7232984540044319, -1.3150340581479074, -0.34117426376557675, -2.2039151686405045, -0.5540034393317983, -0.5365510263084331, 0.9514694148660698, 1.6093071684143965, 0.5349031444835803, 0.8762223684320477, 1.4173775406277183, -0.45892366941253027, 0.7759706357601053, -0.5231570619640878, -0.7912812214498252, 1.1391103980200354, 1.040790199323024, -0.730873434869637, 1.3493645268911796, 0.9317563929515158, 0.7580306180283228, 0.5878386227634674, 1.4326486013465392, -0.20720218629137235, 0.24776731941903588, 0.07369409703522996, 0.5523389535964915, -1.4225823164676166, -0.31366079651470147, 0.2462780623614397, -0.9525515029157212, -1.5060095118808454, 0.16157669330880778, 0.2202473096122514, 0.25515230298668984, 0.1415806575371722, 1.0454826460039028, -1.6395532056044337, -1.1480878621577313, -0.21767196576881243, 0.6097280023008594, 1.0273906539859419, -1.2546164856141788, 1.6795186133330808, -1.2917753905896583, 1.4376577079402262, 2.042611479515502, 0.17051851887980343, 0.02899488058209822, 0.24876373421094727, 0.06601973384186423, 0.22350253848511487, 0.8241801220068634, 0.03501063486091633, 0.7539071353594212, 0.03488923989617106, -1.45547407467105, -0.5359645108060322, -1.284504149525958, 0.7162679959699161, -0.5031833256993665, 1.8929389937029355, 0.09901562576215357, -0.10940178309595011, 2.1374057165810063, -0.2027529518230585, -0.04669371402278774, -1.1166007758302954, -1.110979136920132, 0.9459463660753293, 0.27097005719316825, -1.7625289736087093, 0.8351417325563205, -1.6945826582379722, -0.2656569433609975, -0.8769678330899084, -0.8152967764266832, 0.19939256166508265, 0.5460777371186833, 1.458413440508323, -0.533553934042059, 0.936768896712938, -1.5020610105474623, -0.3740943538418646, -0.46449150985624155, 0.09247526313675637, 0.4408967762354214, -0.6062745194800315, -0.0868526946804238, 0.2379988912040208, -0.34447098504535295, 1.4294961780936741, -0.010673807091225312, 0.04162518036338937], \"yaxis\": \"y13\"}, {\"line\": {\"color\": \"rgba(128, 128, 128, 1.0)\", \"dash\": \"solid\", \"shape\": \"linear\", \"width\": 1.3}, \"marker\": {\"size\": 2, \"symbol\": \"circle\"}, \"mode\": \"markers\", \"name\": \"D\", \"text\": \"\", \"type\": \"scatter\", \"x\": [0.13546053507022923, 0.8528952539056167, -0.9120473287918056, -0.4360167071034324, 0.4030021035722929, 0.21845456351115183, -1.5146188477997056, -1.1081262345827807, 0.2505550893228284, -1.089754160529704, -1.999471543859598, -0.13298981222990705, 0.7083688242077885, -0.7428531839143373, 1.2717469173085532, -0.7243561359853562, -1.4370056513901115, -0.8578890500584263, -0.5199289547555342, -0.9858204761709641, 0.7502511092487195, -0.9622680220774841, 0.8606852397738878, -0.3529663721617263, -1.7724111999399959, 0.11671383039125793, 2.1104136856870674, -0.058342444826866936, 2.028760783982244, 0.6055565892850192, 1.343911038550699, 0.5764709024505792, 0.2573852649890621, -2.5497668496098447, -0.9505829571138086, 0.07158004593194874, -1.1320989581537642, 1.2498551328713434, -0.5411155904440764, 1.9433075662035164, -0.6390591873405453, 0.206562955695758, 0.24791031488052412, 1.2761130220428456, -0.43330761534391343, -0.6646931807852855, 1.0006041439810665, 0.24950232089024862, 1.824582338513296, -0.33503434728787385, -0.10390476120042613, 2.0558297587310213, 2.4705327300888382, 0.24641029074204315, 0.891406383668593, -0.4460375336323596, -0.05403819614345976, 0.6069379690402813, -0.6584213592294729, -0.6804624868343676, 0.3554374013526221, -0.6197422292201394, -1.4363793854686329, 0.6391732419232593, 1.5260538377224617, -1.327403466180733, 0.46678698493924725, 1.5618372075729798, 0.1771511713172017, -0.1471852825641017, 0.758092470021777, -1.531560505955019, -0.5331876622432652, -1.8806673130309681, 0.4339395458758081, 0.7287842973459717, 0.5843657299612066, 0.5675425116136315, 1.5051957081584857, 0.9984576089198394, -1.361450265891984, -0.05477528106219799, 0.651652184054883, 1.8956547523097942, 0.960325494070041, 0.6333460121494614, -0.23176142161827948, -1.4147891851188463, -0.47355461876870314, 0.24759608652395304, 0.6919142969542673, -0.33833598108215074, 0.1537146391163577, -0.9427824418183438, -1.0535415962258836, -0.46097231553426254, -2.5076551988203275, -0.43772317036284325, 0.7570175143322317, 0.4828692956441521], \"xaxis\": \"x14\", \"y\": [0.16576029040650397, 0.7353781184301128, -0.39635288312626415, 0.8460923805492866, 0.5834280340395386, 0.022668873850809287, -0.7232984540044319, -1.3150340581479074, -0.34117426376557675, -2.2039151686405045, -0.5540034393317983, -0.5365510263084331, 0.9514694148660698, 1.6093071684143965, 0.5349031444835803, 0.8762223684320477, 1.4173775406277183, -0.45892366941253027, 0.7759706357601053, -0.5231570619640878, -0.7912812214498252, 1.1391103980200354, 1.040790199323024, -0.730873434869637, 1.3493645268911796, 0.9317563929515158, 0.7580306180283228, 0.5878386227634674, 1.4326486013465392, -0.20720218629137235, 0.24776731941903588, 0.07369409703522996, 0.5523389535964915, -1.4225823164676166, -0.31366079651470147, 0.2462780623614397, -0.9525515029157212, -1.5060095118808454, 0.16157669330880778, 0.2202473096122514, 0.25515230298668984, 0.1415806575371722, 1.0454826460039028, -1.6395532056044337, -1.1480878621577313, -0.21767196576881243, 0.6097280023008594, 1.0273906539859419, -1.2546164856141788, 1.6795186133330808, -1.2917753905896583, 1.4376577079402262, 2.042611479515502, 0.17051851887980343, 0.02899488058209822, 0.24876373421094727, 0.06601973384186423, 0.22350253848511487, 0.8241801220068634, 0.03501063486091633, 0.7539071353594212, 0.03488923989617106, -1.45547407467105, -0.5359645108060322, -1.284504149525958, 0.7162679959699161, -0.5031833256993665, 1.8929389937029355, 0.09901562576215357, -0.10940178309595011, 2.1374057165810063, -0.2027529518230585, -0.04669371402278774, -1.1166007758302954, -1.110979136920132, 0.9459463660753293, 0.27097005719316825, -1.7625289736087093, 0.8351417325563205, -1.6945826582379722, -0.2656569433609975, -0.8769678330899084, -0.8152967764266832, 0.19939256166508265, 0.5460777371186833, 1.458413440508323, -0.533553934042059, 0.936768896712938, -1.5020610105474623, -0.3740943538418646, -0.46449150985624155, 0.09247526313675637, 0.4408967762354214, -0.6062745194800315, -0.0868526946804238, 0.2379988912040208, -0.34447098504535295, 1.4294961780936741, -0.010673807091225312, 0.04162518036338937], \"yaxis\": \"y14\"}, {\"line\": {\"color\": \"rgba(128, 128, 128, 1.0)\", \"dash\": \"solid\", \"shape\": \"linear\", \"width\": 1.3}, \"marker\": {\"size\": 2, \"symbol\": \"circle\"}, \"mode\": \"markers\", \"name\": \"D\", \"text\": \"\", \"type\": \"scatter\", \"x\": [-0.4490965191707045, -1.3566624199171347, 0.11010174114668976, -1.2059230985671745, -1.293518642299254, 0.0768114429111746, 2.0713794720510563, -1.6136102766998872, -2.1183418088097254, 0.6584018977466556, -0.5819428441757667, 0.5471898408441686, -1.8244706216056903, -0.35890916630399583, 1.138641041310387, 0.31611546567849097, 1.0559771602321337, 0.33767317562215937, 0.3033628923796153, -1.4335836985969974, 1.2096368994544906, 0.20689061625255836, 0.09488785762250992, 0.5617887062170834, 0.023154308790518715, 0.15168789975164204, -0.6180336191881293, 0.20622837757895413, 0.6485714799411542, 1.1963676140509656, 0.1654910893430052, 0.5749779562163441, 0.16108900684868976, 0.3485567916805989, 0.3152055370319175, 0.08180464812136456, 0.020620326956704384, -1.5596986546230043, -0.2778496376241181, -0.8177813904604749, -0.047248911278135124, -0.26675964256587714, 0.33145366006431287, 0.4435718943527746, 1.0834591102193718, 1.1181927159205571, 0.4670669747598463, -0.5329526643065524, -0.44635128706169075, 0.014871920137131739, 1.3812612374583608, 1.8920639380885012, 0.5653173636965959, -1.098288205522477, -0.382976691456405, -2.0462213086186645, -0.20451968519589875, 0.07856773595182073, 0.6306289545841886, -0.8110523405607823, -2.0899974454372776, 0.056410401765543884, -0.47904391491468185, 0.9888181876263, 0.7921507229057528, 0.6588455707730912, -1.0117051153143026, -0.7401670941766406, -1.1019512930005688, -0.2330072114146048, 0.14678659128359187, -0.016972325384005515, 0.538226961324923, -0.5527431124284627, 0.21787234394765675, 0.5775448863301242, -0.18725702030590544, 0.2586947836219987, -0.2720062991616586, 0.4956980999399173, -0.2248874208324263, 1.046876962247096, 0.8739057120388894, -1.324810905399333, -1.8895230890311145, 0.8985423817325691, -0.4134721022129727, 0.07172149869464005, -1.6381683038387536, 0.42538928588685265, -1.1191856963454359, 0.32398329622996735, -1.3591175956603858, -1.9028566688666586, -0.6817634816272062, 0.2312632966984241, 0.6224618814324517, -0.8694786005425781, 0.847084292335929, -0.8414877548342978], \"xaxis\": \"x15\", \"y\": [0.16576029040650397, 0.7353781184301128, -0.39635288312626415, 0.8460923805492866, 0.5834280340395386, 0.022668873850809287, -0.7232984540044319, -1.3150340581479074, -0.34117426376557675, -2.2039151686405045, -0.5540034393317983, -0.5365510263084331, 0.9514694148660698, 1.6093071684143965, 0.5349031444835803, 0.8762223684320477, 1.4173775406277183, -0.45892366941253027, 0.7759706357601053, -0.5231570619640878, -0.7912812214498252, 1.1391103980200354, 1.040790199323024, -0.730873434869637, 1.3493645268911796, 0.9317563929515158, 0.7580306180283228, 0.5878386227634674, 1.4326486013465392, -0.20720218629137235, 0.24776731941903588, 0.07369409703522996, 0.5523389535964915, -1.4225823164676166, -0.31366079651470147, 0.2462780623614397, -0.9525515029157212, -1.5060095118808454, 0.16157669330880778, 0.2202473096122514, 0.25515230298668984, 0.1415806575371722, 1.0454826460039028, -1.6395532056044337, -1.1480878621577313, -0.21767196576881243, 0.6097280023008594, 1.0273906539859419, -1.2546164856141788, 1.6795186133330808, -1.2917753905896583, 1.4376577079402262, 2.042611479515502, 0.17051851887980343, 0.02899488058209822, 0.24876373421094727, 0.06601973384186423, 0.22350253848511487, 0.8241801220068634, 0.03501063486091633, 0.7539071353594212, 0.03488923989617106, -1.45547407467105, -0.5359645108060322, -1.284504149525958, 0.7162679959699161, -0.5031833256993665, 1.8929389937029355, 0.09901562576215357, -0.10940178309595011, 2.1374057165810063, -0.2027529518230585, -0.04669371402278774, -1.1166007758302954, -1.110979136920132, 0.9459463660753293, 0.27097005719316825, -1.7625289736087093, 0.8351417325563205, -1.6945826582379722, -0.2656569433609975, -0.8769678330899084, -0.8152967764266832, 0.19939256166508265, 0.5460777371186833, 1.458413440508323, -0.533553934042059, 0.936768896712938, -1.5020610105474623, -0.3740943538418646, -0.46449150985624155, 0.09247526313675637, 0.4408967762354214, -0.6062745194800315, -0.0868526946804238, 0.2379988912040208, -0.34447098504535295, 1.4294961780936741, -0.010673807091225312, 0.04162518036338937], \"yaxis\": \"y15\"}, {\"histfunc\": \"count\", \"histnorm\": \"\", \"marker\": {\"color\": \"rgba(128, 0, 128, 1.0)\", \"line\": {\"color\": \"#4D5663\", \"width\": 1.3}}, \"name\": \"D\", \"nbinsx\": 10, \"opacity\": 0.8, \"orientation\": \"v\", \"type\": \"histogram\", \"x\": [0.16576029040650397, 0.7353781184301128, -0.39635288312626415, 0.8460923805492866, 0.5834280340395386, 0.022668873850809287, -0.7232984540044319, -1.3150340581479074, -0.34117426376557675, -2.2039151686405045, -0.5540034393317983, -0.5365510263084331, 0.9514694148660698, 1.6093071684143965, 0.5349031444835803, 0.8762223684320477, 1.4173775406277183, -0.45892366941253027, 0.7759706357601053, -0.5231570619640878, -0.7912812214498252, 1.1391103980200354, 1.040790199323024, -0.730873434869637, 1.3493645268911796, 0.9317563929515158, 0.7580306180283228, 0.5878386227634674, 1.4326486013465392, -0.20720218629137235, 0.24776731941903588, 0.07369409703522996, 0.5523389535964915, -1.4225823164676166, -0.31366079651470147, 0.2462780623614397, -0.9525515029157212, -1.5060095118808454, 0.16157669330880778, 0.2202473096122514, 0.25515230298668984, 0.1415806575371722, 1.0454826460039028, -1.6395532056044337, -1.1480878621577313, -0.21767196576881243, 0.6097280023008594, 1.0273906539859419, -1.2546164856141788, 1.6795186133330808, -1.2917753905896583, 1.4376577079402262, 2.042611479515502, 0.17051851887980343, 0.02899488058209822, 0.24876373421094727, 0.06601973384186423, 0.22350253848511487, 0.8241801220068634, 0.03501063486091633, 0.7539071353594212, 0.03488923989617106, -1.45547407467105, -0.5359645108060322, -1.284504149525958, 0.7162679959699161, -0.5031833256993665, 1.8929389937029355, 0.09901562576215357, -0.10940178309595011, 2.1374057165810063, -0.2027529518230585, -0.04669371402278774, -1.1166007758302954, -1.110979136920132, 0.9459463660753293, 0.27097005719316825, -1.7625289736087093, 0.8351417325563205, -1.6945826582379722, -0.2656569433609975, -0.8769678330899084, -0.8152967764266832, 0.19939256166508265, 0.5460777371186833, 1.458413440508323, -0.533553934042059, 0.936768896712938, -1.5020610105474623, -0.3740943538418646, -0.46449150985624155, 0.09247526313675637, 0.4408967762354214, -0.6062745194800315, -0.0868526946804238, 0.2379988912040208, -0.34447098504535295, 1.4294961780936741, -0.010673807091225312, 0.04162518036338937], \"xaxis\": \"x16\", \"yaxis\": \"y16\"}],\n",
              "                        {\"bargap\": 0.02, \"legend\": {\"bgcolor\": \"#F5F6F9\", \"font\": {\"color\": \"#4D5663\"}}, \"paper_bgcolor\": \"#F5F6F9\", \"plot_bgcolor\": \"#F5F6F9\", \"showlegend\": false, \"template\": {\"data\": {\"bar\": [{\"error_x\": {\"color\": \"#2a3f5f\"}, \"error_y\": {\"color\": \"#2a3f5f\"}, \"marker\": {\"line\": {\"color\": \"#E5ECF6\", \"width\": 0.5}}, \"type\": \"bar\"}], \"barpolar\": [{\"marker\": {\"line\": {\"color\": \"#E5ECF6\", \"width\": 0.5}}, \"type\": \"barpolar\"}], \"carpet\": [{\"aaxis\": {\"endlinecolor\": \"#2a3f5f\", \"gridcolor\": \"white\", \"linecolor\": \"white\", \"minorgridcolor\": \"white\", \"startlinecolor\": \"#2a3f5f\"}, \"baxis\": {\"endlinecolor\": \"#2a3f5f\", \"gridcolor\": \"white\", \"linecolor\": \"white\", \"minorgridcolor\": \"white\", \"startlinecolor\": \"#2a3f5f\"}, \"type\": \"carpet\"}], \"choropleth\": [{\"colorbar\": {\"outlinewidth\": 0, \"ticks\": \"\"}, \"type\": \"choropleth\"}], \"contour\": [{\"colorbar\": {\"outlinewidth\": 0, \"ticks\": \"\"}, \"colorscale\": [[0.0, \"#0d0887\"], [0.1111111111111111, \"#46039f\"], [0.2222222222222222, \"#7201a8\"], [0.3333333333333333, \"#9c179e\"], [0.4444444444444444, \"#bd3786\"], [0.5555555555555556, \"#d8576b\"], [0.6666666666666666, \"#ed7953\"], [0.7777777777777778, \"#fb9f3a\"], [0.8888888888888888, \"#fdca26\"], [1.0, \"#f0f921\"]], \"type\": \"contour\"}], \"contourcarpet\": [{\"colorbar\": {\"outlinewidth\": 0, \"ticks\": \"\"}, \"type\": \"contourcarpet\"}], \"heatmap\": [{\"colorbar\": {\"outlinewidth\": 0, \"ticks\": \"\"}, \"colorscale\": [[0.0, \"#0d0887\"], [0.1111111111111111, \"#46039f\"], [0.2222222222222222, \"#7201a8\"], [0.3333333333333333, \"#9c179e\"], [0.4444444444444444, \"#bd3786\"], [0.5555555555555556, \"#d8576b\"], [0.6666666666666666, \"#ed7953\"], [0.7777777777777778, \"#fb9f3a\"], [0.8888888888888888, \"#fdca26\"], [1.0, \"#f0f921\"]], \"type\": \"heatmap\"}], \"heatmapgl\": [{\"colorbar\": {\"outlinewidth\": 0, \"ticks\": \"\"}, \"colorscale\": [[0.0, \"#0d0887\"], [0.1111111111111111, \"#46039f\"], [0.2222222222222222, \"#7201a8\"], [0.3333333333333333, \"#9c179e\"], [0.4444444444444444, \"#bd3786\"], [0.5555555555555556, \"#d8576b\"], [0.6666666666666666, \"#ed7953\"], [0.7777777777777778, \"#fb9f3a\"], [0.8888888888888888, \"#fdca26\"], [1.0, \"#f0f921\"]], \"type\": \"heatmapgl\"}], \"histogram\": [{\"marker\": {\"colorbar\": {\"outlinewidth\": 0, \"ticks\": \"\"}}, \"type\": \"histogram\"}], \"histogram2d\": [{\"colorbar\": {\"outlinewidth\": 0, \"ticks\": \"\"}, \"colorscale\": [[0.0, \"#0d0887\"], [0.1111111111111111, \"#46039f\"], [0.2222222222222222, \"#7201a8\"], [0.3333333333333333, \"#9c179e\"], [0.4444444444444444, \"#bd3786\"], [0.5555555555555556, \"#d8576b\"], [0.6666666666666666, \"#ed7953\"], [0.7777777777777778, \"#fb9f3a\"], [0.8888888888888888, \"#fdca26\"], [1.0, \"#f0f921\"]], \"type\": \"histogram2d\"}], \"histogram2dcontour\": [{\"colorbar\": {\"outlinewidth\": 0, \"ticks\": \"\"}, \"colorscale\": [[0.0, \"#0d0887\"], [0.1111111111111111, \"#46039f\"], [0.2222222222222222, \"#7201a8\"], [0.3333333333333333, \"#9c179e\"], [0.4444444444444444, \"#bd3786\"], [0.5555555555555556, \"#d8576b\"], [0.6666666666666666, \"#ed7953\"], [0.7777777777777778, \"#fb9f3a\"], [0.8888888888888888, \"#fdca26\"], [1.0, \"#f0f921\"]], \"type\": \"histogram2dcontour\"}], \"mesh3d\": [{\"colorbar\": {\"outlinewidth\": 0, \"ticks\": \"\"}, \"type\": \"mesh3d\"}], \"parcoords\": [{\"line\": {\"colorbar\": {\"outlinewidth\": 0, \"ticks\": \"\"}}, \"type\": \"parcoords\"}], \"pie\": [{\"automargin\": true, \"type\": \"pie\"}], \"scatter\": [{\"marker\": {\"colorbar\": {\"outlinewidth\": 0, \"ticks\": \"\"}}, \"type\": \"scatter\"}], \"scatter3d\": [{\"line\": {\"colorbar\": {\"outlinewidth\": 0, \"ticks\": \"\"}}, \"marker\": {\"colorbar\": {\"outlinewidth\": 0, \"ticks\": \"\"}}, \"type\": \"scatter3d\"}], \"scattercarpet\": [{\"marker\": {\"colorbar\": {\"outlinewidth\": 0, \"ticks\": \"\"}}, \"type\": \"scattercarpet\"}], \"scattergeo\": [{\"marker\": {\"colorbar\": {\"outlinewidth\": 0, \"ticks\": \"\"}}, \"type\": \"scattergeo\"}], \"scattergl\": [{\"marker\": {\"colorbar\": {\"outlinewidth\": 0, \"ticks\": \"\"}}, \"type\": \"scattergl\"}], \"scattermapbox\": [{\"marker\": {\"colorbar\": {\"outlinewidth\": 0, \"ticks\": \"\"}}, \"type\": \"scattermapbox\"}], \"scatterpolar\": [{\"marker\": {\"colorbar\": {\"outlinewidth\": 0, \"ticks\": \"\"}}, \"type\": \"scatterpolar\"}], \"scatterpolargl\": [{\"marker\": {\"colorbar\": {\"outlinewidth\": 0, \"ticks\": \"\"}}, \"type\": \"scatterpolargl\"}], \"scatterternary\": [{\"marker\": {\"colorbar\": {\"outlinewidth\": 0, \"ticks\": \"\"}}, \"type\": \"scatterternary\"}], \"surface\": [{\"colorbar\": {\"outlinewidth\": 0, \"ticks\": \"\"}, \"colorscale\": [[0.0, \"#0d0887\"], [0.1111111111111111, \"#46039f\"], [0.2222222222222222, \"#7201a8\"], [0.3333333333333333, \"#9c179e\"], [0.4444444444444444, \"#bd3786\"], [0.5555555555555556, \"#d8576b\"], [0.6666666666666666, \"#ed7953\"], [0.7777777777777778, \"#fb9f3a\"], [0.8888888888888888, \"#fdca26\"], [1.0, \"#f0f921\"]], \"type\": \"surface\"}], \"table\": [{\"cells\": {\"fill\": {\"color\": \"#EBF0F8\"}, \"line\": {\"color\": \"white\"}}, \"header\": {\"fill\": {\"color\": \"#C8D4E3\"}, \"line\": {\"color\": \"white\"}}, \"type\": \"table\"}]}, \"layout\": {\"annotationdefaults\": {\"arrowcolor\": \"#2a3f5f\", \"arrowhead\": 0, \"arrowwidth\": 1}, \"coloraxis\": {\"colorbar\": {\"outlinewidth\": 0, \"ticks\": \"\"}}, \"colorscale\": {\"diverging\": [[0, \"#8e0152\"], [0.1, \"#c51b7d\"], [0.2, \"#de77ae\"], [0.3, \"#f1b6da\"], [0.4, \"#fde0ef\"], [0.5, \"#f7f7f7\"], [0.6, \"#e6f5d0\"], [0.7, \"#b8e186\"], [0.8, \"#7fbc41\"], [0.9, \"#4d9221\"], [1, \"#276419\"]], \"sequential\": [[0.0, \"#0d0887\"], [0.1111111111111111, \"#46039f\"], [0.2222222222222222, \"#7201a8\"], [0.3333333333333333, \"#9c179e\"], [0.4444444444444444, \"#bd3786\"], [0.5555555555555556, \"#d8576b\"], [0.6666666666666666, \"#ed7953\"], [0.7777777777777778, \"#fb9f3a\"], [0.8888888888888888, \"#fdca26\"], [1.0, \"#f0f921\"]], \"sequentialminus\": [[0.0, \"#0d0887\"], [0.1111111111111111, \"#46039f\"], [0.2222222222222222, \"#7201a8\"], [0.3333333333333333, \"#9c179e\"], [0.4444444444444444, \"#bd3786\"], [0.5555555555555556, \"#d8576b\"], [0.6666666666666666, \"#ed7953\"], [0.7777777777777778, \"#fb9f3a\"], [0.8888888888888888, \"#fdca26\"], [1.0, \"#f0f921\"]]}, \"colorway\": [\"#636efa\", \"#EF553B\", \"#00cc96\", \"#ab63fa\", \"#FFA15A\", \"#19d3f3\", \"#FF6692\", \"#B6E880\", \"#FF97FF\", \"#FECB52\"], \"font\": {\"color\": \"#2a3f5f\"}, \"geo\": {\"bgcolor\": \"white\", \"lakecolor\": \"white\", \"landcolor\": \"#E5ECF6\", \"showlakes\": true, \"showland\": true, \"subunitcolor\": \"white\"}, \"hoverlabel\": {\"align\": \"left\"}, \"hovermode\": \"closest\", \"mapbox\": {\"style\": \"light\"}, \"paper_bgcolor\": \"white\", \"plot_bgcolor\": \"#E5ECF6\", \"polar\": {\"angularaxis\": {\"gridcolor\": \"white\", \"linecolor\": \"white\", \"ticks\": \"\"}, \"bgcolor\": \"#E5ECF6\", \"radialaxis\": {\"gridcolor\": \"white\", \"linecolor\": \"white\", \"ticks\": \"\"}}, \"scene\": {\"xaxis\": {\"backgroundcolor\": \"#E5ECF6\", \"gridcolor\": \"white\", \"gridwidth\": 2, \"linecolor\": \"white\", \"showbackground\": true, \"ticks\": \"\", \"zerolinecolor\": \"white\"}, \"yaxis\": {\"backgroundcolor\": \"#E5ECF6\", \"gridcolor\": \"white\", \"gridwidth\": 2, \"linecolor\": \"white\", \"showbackground\": true, \"ticks\": \"\", \"zerolinecolor\": \"white\"}, \"zaxis\": {\"backgroundcolor\": \"#E5ECF6\", \"gridcolor\": \"white\", \"gridwidth\": 2, \"linecolor\": \"white\", \"showbackground\": true, \"ticks\": \"\", \"zerolinecolor\": \"white\"}}, \"shapedefaults\": {\"line\": {\"color\": \"#2a3f5f\"}}, \"ternary\": {\"aaxis\": {\"gridcolor\": \"white\", \"linecolor\": \"white\", \"ticks\": \"\"}, \"baxis\": {\"gridcolor\": \"white\", \"linecolor\": \"white\", \"ticks\": \"\"}, \"bgcolor\": \"#E5ECF6\", \"caxis\": {\"gridcolor\": \"white\", \"linecolor\": \"white\", \"ticks\": \"\"}}, \"title\": {\"x\": 0.05}, \"xaxis\": {\"automargin\": true, \"gridcolor\": \"white\", \"linecolor\": \"white\", \"ticks\": \"\", \"title\": {\"standoff\": 15}, \"zerolinecolor\": \"white\", \"zerolinewidth\": 2}, \"yaxis\": {\"automargin\": true, \"gridcolor\": \"white\", \"linecolor\": \"white\", \"ticks\": \"\", \"title\": {\"standoff\": 15}, \"zerolinecolor\": \"white\", \"zerolinewidth\": 2}}}, \"title\": {\"font\": {\"color\": \"#4D5663\"}}, \"xaxis\": {\"anchor\": \"y\", \"domain\": [0.0, 0.2125], \"gridcolor\": \"#E1E5ED\", \"showgrid\": false, \"tickfont\": {\"color\": \"#4D5663\"}, \"title\": {\"font\": {\"color\": \"#4D5663\"}, \"text\": \"\"}, \"zerolinecolor\": \"#E1E5ED\"}, \"xaxis10\": {\"anchor\": \"y10\", \"domain\": [0.2625, 0.475], \"gridcolor\": \"#E1E5ED\", \"showgrid\": false, \"tickfont\": {\"color\": \"#4D5663\"}, \"title\": {\"font\": {\"color\": \"#4D5663\"}, \"text\": \"\"}, \"zerolinecolor\": \"#E1E5ED\"}, \"xaxis11\": {\"anchor\": \"y11\", \"domain\": [0.525, 0.7375], \"gridcolor\": \"#E1E5ED\", \"showgrid\": false, \"tickfont\": {\"color\": \"#4D5663\"}, \"title\": {\"font\": {\"color\": \"#4D5663\"}, \"text\": \"\"}, \"zerolinecolor\": \"#E1E5ED\"}, \"xaxis12\": {\"anchor\": \"y12\", \"domain\": [0.7875, 1.0], \"gridcolor\": \"#E1E5ED\", \"showgrid\": false, \"tickfont\": {\"color\": \"#4D5663\"}, \"title\": {\"font\": {\"color\": \"#4D5663\"}, \"text\": \"\"}, \"zerolinecolor\": \"#E1E5ED\"}, \"xaxis13\": {\"anchor\": \"y13\", \"domain\": [0.0, 0.2125], \"gridcolor\": \"#E1E5ED\", \"showgrid\": false, \"tickfont\": {\"color\": \"#4D5663\"}, \"title\": {\"font\": {\"color\": \"#4D5663\"}, \"text\": \"\"}, \"zerolinecolor\": \"#E1E5ED\"}, \"xaxis14\": {\"anchor\": \"y14\", \"domain\": [0.2625, 0.475], \"gridcolor\": \"#E1E5ED\", \"showgrid\": false, \"tickfont\": {\"color\": \"#4D5663\"}, \"title\": {\"font\": {\"color\": \"#4D5663\"}, \"text\": \"\"}, \"zerolinecolor\": \"#E1E5ED\"}, \"xaxis15\": {\"anchor\": \"y15\", \"domain\": [0.525, 0.7375], \"gridcolor\": \"#E1E5ED\", \"showgrid\": false, \"tickfont\": {\"color\": \"#4D5663\"}, \"title\": {\"font\": {\"color\": \"#4D5663\"}, \"text\": \"\"}, \"zerolinecolor\": \"#E1E5ED\"}, \"xaxis16\": {\"anchor\": \"y16\", \"domain\": [0.7875, 1.0], \"gridcolor\": \"#E1E5ED\", \"showgrid\": false, \"tickfont\": {\"color\": \"#4D5663\"}, \"title\": {\"font\": {\"color\": \"#4D5663\"}, \"text\": \"\"}, \"zerolinecolor\": \"#E1E5ED\"}, \"xaxis2\": {\"anchor\": \"y2\", \"domain\": [0.2625, 0.475], \"gridcolor\": \"#E1E5ED\", \"showgrid\": false, \"tickfont\": {\"color\": \"#4D5663\"}, \"title\": {\"font\": {\"color\": \"#4D5663\"}, \"text\": \"\"}, \"zerolinecolor\": \"#E1E5ED\"}, \"xaxis3\": {\"anchor\": \"y3\", \"domain\": [0.525, 0.7375], \"gridcolor\": \"#E1E5ED\", \"showgrid\": false, \"tickfont\": {\"color\": \"#4D5663\"}, \"title\": {\"font\": {\"color\": \"#4D5663\"}, \"text\": \"\"}, \"zerolinecolor\": \"#E1E5ED\"}, \"xaxis4\": {\"anchor\": \"y4\", \"domain\": [0.7875, 1.0], \"gridcolor\": \"#E1E5ED\", \"showgrid\": false, \"tickfont\": {\"color\": \"#4D5663\"}, \"title\": {\"font\": {\"color\": \"#4D5663\"}, \"text\": \"\"}, \"zerolinecolor\": \"#E1E5ED\"}, \"xaxis5\": {\"anchor\": \"y5\", \"domain\": [0.0, 0.2125], \"gridcolor\": \"#E1E5ED\", \"showgrid\": false, \"tickfont\": {\"color\": \"#4D5663\"}, \"title\": {\"font\": {\"color\": \"#4D5663\"}, \"text\": \"\"}, \"zerolinecolor\": \"#E1E5ED\"}, \"xaxis6\": {\"anchor\": \"y6\", \"domain\": [0.2625, 0.475], \"gridcolor\": \"#E1E5ED\", \"showgrid\": false, \"tickfont\": {\"color\": \"#4D5663\"}, \"title\": {\"font\": {\"color\": \"#4D5663\"}, \"text\": \"\"}, \"zerolinecolor\": \"#E1E5ED\"}, \"xaxis7\": {\"anchor\": \"y7\", \"domain\": [0.525, 0.7375], \"gridcolor\": \"#E1E5ED\", \"showgrid\": false, \"tickfont\": {\"color\": \"#4D5663\"}, \"title\": {\"font\": {\"color\": \"#4D5663\"}, \"text\": \"\"}, \"zerolinecolor\": \"#E1E5ED\"}, \"xaxis8\": {\"anchor\": \"y8\", \"domain\": [0.7875, 1.0], \"gridcolor\": \"#E1E5ED\", \"showgrid\": false, \"tickfont\": {\"color\": \"#4D5663\"}, \"title\": {\"font\": {\"color\": \"#4D5663\"}, \"text\": \"\"}, \"zerolinecolor\": \"#E1E5ED\"}, \"xaxis9\": {\"anchor\": \"y9\", \"domain\": [0.0, 0.2125], \"gridcolor\": \"#E1E5ED\", \"showgrid\": false, \"tickfont\": {\"color\": \"#4D5663\"}, \"title\": {\"font\": {\"color\": \"#4D5663\"}, \"text\": \"\"}, \"zerolinecolor\": \"#E1E5ED\"}, \"yaxis\": {\"anchor\": \"x\", \"domain\": [0.8025, 1.0], \"gridcolor\": \"#E1E5ED\", \"showgrid\": false, \"tickfont\": {\"color\": \"#4D5663\"}, \"title\": {\"font\": {\"color\": \"#4D5663\"}, \"text\": \"\"}, \"zerolinecolor\": \"#E1E5ED\"}, \"yaxis10\": {\"anchor\": \"x10\", \"domain\": [0.2675, 0.465], \"gridcolor\": \"#E1E5ED\", \"showgrid\": false, \"tickfont\": {\"color\": \"#4D5663\"}, \"title\": {\"font\": {\"color\": \"#4D5663\"}, \"text\": \"\"}, \"zerolinecolor\": \"#E1E5ED\"}, \"yaxis11\": {\"anchor\": \"x11\", \"domain\": [0.2675, 0.465], \"gridcolor\": \"#E1E5ED\", \"showgrid\": false, \"tickfont\": {\"color\": \"#4D5663\"}, \"title\": {\"font\": {\"color\": \"#4D5663\"}, \"text\": \"\"}, \"zerolinecolor\": \"#E1E5ED\"}, \"yaxis12\": {\"anchor\": \"x12\", \"domain\": [0.2675, 0.465], \"gridcolor\": \"#E1E5ED\", \"showgrid\": false, \"tickfont\": {\"color\": \"#4D5663\"}, \"title\": {\"font\": {\"color\": \"#4D5663\"}, \"text\": \"\"}, \"zerolinecolor\": \"#E1E5ED\"}, \"yaxis13\": {\"anchor\": \"x13\", \"domain\": [0.0, 0.1975], \"gridcolor\": \"#E1E5ED\", \"showgrid\": false, \"tickfont\": {\"color\": \"#4D5663\"}, \"title\": {\"font\": {\"color\": \"#4D5663\"}, \"text\": \"\"}, \"zerolinecolor\": \"#E1E5ED\"}, \"yaxis14\": {\"anchor\": \"x14\", \"domain\": [0.0, 0.1975], \"gridcolor\": \"#E1E5ED\", \"showgrid\": false, \"tickfont\": {\"color\": \"#4D5663\"}, \"title\": {\"font\": {\"color\": \"#4D5663\"}, \"text\": \"\"}, \"zerolinecolor\": \"#E1E5ED\"}, \"yaxis15\": {\"anchor\": \"x15\", \"domain\": [0.0, 0.1975], \"gridcolor\": \"#E1E5ED\", \"showgrid\": false, \"tickfont\": {\"color\": \"#4D5663\"}, \"title\": {\"font\": {\"color\": \"#4D5663\"}, \"text\": \"\"}, \"zerolinecolor\": \"#E1E5ED\"}, \"yaxis16\": {\"anchor\": \"x16\", \"domain\": [0.0, 0.1975], \"gridcolor\": \"#E1E5ED\", \"showgrid\": false, \"tickfont\": {\"color\": \"#4D5663\"}, \"title\": {\"font\": {\"color\": \"#4D5663\"}, \"text\": \"\"}, \"zerolinecolor\": \"#E1E5ED\"}, \"yaxis2\": {\"anchor\": \"x2\", \"domain\": [0.8025, 1.0], \"gridcolor\": \"#E1E5ED\", \"showgrid\": false, \"tickfont\": {\"color\": \"#4D5663\"}, \"title\": {\"font\": {\"color\": \"#4D5663\"}, \"text\": \"\"}, \"zerolinecolor\": \"#E1E5ED\"}, \"yaxis3\": {\"anchor\": \"x3\", \"domain\": [0.8025, 1.0], \"gridcolor\": \"#E1E5ED\", \"showgrid\": false, \"tickfont\": {\"color\": \"#4D5663\"}, \"title\": {\"font\": {\"color\": \"#4D5663\"}, \"text\": \"\"}, \"zerolinecolor\": \"#E1E5ED\"}, \"yaxis4\": {\"anchor\": \"x4\", \"domain\": [0.8025, 1.0], \"gridcolor\": \"#E1E5ED\", \"showgrid\": false, \"tickfont\": {\"color\": \"#4D5663\"}, \"title\": {\"font\": {\"color\": \"#4D5663\"}, \"text\": \"\"}, \"zerolinecolor\": \"#E1E5ED\"}, \"yaxis5\": {\"anchor\": \"x5\", \"domain\": [0.535, 0.7325], \"gridcolor\": \"#E1E5ED\", \"showgrid\": false, \"tickfont\": {\"color\": \"#4D5663\"}, \"title\": {\"font\": {\"color\": \"#4D5663\"}, \"text\": \"\"}, \"zerolinecolor\": \"#E1E5ED\"}, \"yaxis6\": {\"anchor\": \"x6\", \"domain\": [0.535, 0.7325], \"gridcolor\": \"#E1E5ED\", \"showgrid\": false, \"tickfont\": {\"color\": \"#4D5663\"}, \"title\": {\"font\": {\"color\": \"#4D5663\"}, \"text\": \"\"}, \"zerolinecolor\": \"#E1E5ED\"}, \"yaxis7\": {\"anchor\": \"x7\", \"domain\": [0.535, 0.7325], \"gridcolor\": \"#E1E5ED\", \"showgrid\": false, \"tickfont\": {\"color\": \"#4D5663\"}, \"title\": {\"font\": {\"color\": \"#4D5663\"}, \"text\": \"\"}, \"zerolinecolor\": \"#E1E5ED\"}, \"yaxis8\": {\"anchor\": \"x8\", \"domain\": [0.535, 0.7325], \"gridcolor\": \"#E1E5ED\", \"showgrid\": false, \"tickfont\": {\"color\": \"#4D5663\"}, \"title\": {\"font\": {\"color\": \"#4D5663\"}, \"text\": \"\"}, \"zerolinecolor\": \"#E1E5ED\"}, \"yaxis9\": {\"anchor\": \"x9\", \"domain\": [0.2675, 0.465], \"gridcolor\": \"#E1E5ED\", \"showgrid\": false, \"tickfont\": {\"color\": \"#4D5663\"}, \"title\": {\"font\": {\"color\": \"#4D5663\"}, \"text\": \"\"}, \"zerolinecolor\": \"#E1E5ED\"}},\n",
              "                        {\"showLink\": true, \"linkText\": \"Export to plot.ly\", \"plotlyServerURL\": \"https://plot.ly\", \"responsive\": true}\n",
              "                    ).then(function(){\n",
              "                            \n",
              "var gd = document.getElementById('0151e059-3d8a-4e1b-ac86-e1aa488a8f0b');\n",
              "var x = new MutationObserver(function (mutations, observer) {{\n",
              "        var display = window.getComputedStyle(gd).display;\n",
              "        if (!display || display === 'none') {{\n",
              "            console.log([gd, 'removed!']);\n",
              "            Plotly.purge(gd);\n",
              "            observer.disconnect();\n",
              "        }}\n",
              "}});\n",
              "\n",
              "// Listen for the removal of the full notebook cells\n",
              "var notebookContainer = gd.closest('#notebook-container');\n",
              "if (notebookContainer) {{\n",
              "    x.observe(notebookContainer, {childList: true});\n",
              "}}\n",
              "\n",
              "// Listen for the clearing of the current output cell\n",
              "var outputEl = gd.closest('.output');\n",
              "if (outputEl) {{\n",
              "    x.observe(outputEl, {childList: true});\n",
              "}}\n",
              "\n",
              "                        })\n",
              "                };\n",
              "                \n",
              "            </script>\n",
              "        </div>\n",
              "</body>\n",
              "</html>"
            ]
          },
          "metadata": {
            "tags": []
          }
        }
      ]
    },
    {
      "cell_type": "code",
      "metadata": {
        "id": "86XuKe8U5dqZ",
        "colab_type": "code",
        "colab": {}
      },
      "source": [
        ""
      ],
      "execution_count": 0,
      "outputs": []
    }
  ]
}